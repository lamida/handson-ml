{
 "cells": [
  {
   "cell_type": "markdown",
   "metadata": {
    "id": "d7L8bG_Dhuh5"
   },
   "source": [
    "# Machine Learning Model for Classification \n",
    "This notebook is prepared by Ridzuan"
   ]
  },
  {
   "cell_type": "code",
   "execution_count": 14,
   "metadata": {
    "executionInfo": {
     "elapsed": 957,
     "status": "ok",
     "timestamp": 1607081773018,
     "user": {
      "displayName": "Jon Kartago Lamida",
      "photoUrl": "https://lh3.googleusercontent.com/a-/AOh14GgvXpFVDXQWCt_L0HHFykXlWBHPow8Lv6Dtuu48Wg=s64",
      "userId": "00428767085485926259"
     },
     "user_tz": -480
    },
    "id": "N8AjWbBxhuh5"
   },
   "outputs": [],
   "source": [
    "import pandas as pd\n",
    "import numpy as np"
   ]
  },
  {
   "cell_type": "code",
   "execution_count": 15,
   "metadata": {},
   "outputs": [],
   "source": [
    "# Download the data\n",
    "import os\n",
    "import tarfile\n",
    "import urllib\n",
    "\n",
    "DATA_URL = \"https://wiki.cancerimagingarchive.net/download/attachments/16056854/NSCLC%20Radiomics%20Lung1.clinical-version3-Oct%202019.csv?version=1&modificationDate=1572013183040&api=v2\"\n",
    "DOWNLOAD_PATH = \"data.csv\"\n",
    "\n",
    "def fetch_data(data_url = DATA_URL, download_path = DOWNLOAD_PATH):\n",
    "    urllib.request.urlretrieve(data_url, download_path)"
   ]
  },
  {
   "cell_type": "code",
   "execution_count": 16,
   "metadata": {},
   "outputs": [],
   "source": [
    "# Load the data to panda\n",
    "\n",
    "# Load the data to Panda\n",
    "import pandas as pd\n",
    "def load_data(download_path = DOWNLOAD_PATH):\n",
    "    return pd.read_csv(download_path)"
   ]
  },
  {
   "cell_type": "code",
   "execution_count": 17,
   "metadata": {
    "executionInfo": {
     "elapsed": 2068,
     "status": "ok",
     "timestamp": 1607081774155,
     "user": {
      "displayName": "Jon Kartago Lamida",
      "photoUrl": "https://lh3.googleusercontent.com/a-/AOh14GgvXpFVDXQWCt_L0HHFykXlWBHPow8Lv6Dtuu48Wg=s64",
      "userId": "00428767085485926259"
     },
     "user_tz": -480
    },
    "id": "qxFXRZ9Ahuh5"
   },
   "outputs": [],
   "source": [
    "fetch_data()\n",
    "raw_data = load_data()"
   ]
  },
  {
   "cell_type": "markdown",
   "metadata": {
    "id": "dfFlbWOdhuh6"
   },
   "source": [
    "# Understand The Data"
   ]
  },
  {
   "cell_type": "code",
   "execution_count": 18,
   "metadata": {
    "colab": {
     "base_uri": "https://localhost:8080/",
     "height": 204
    },
    "executionInfo": {
     "elapsed": 2058,
     "status": "ok",
     "timestamp": 1607081774156,
     "user": {
      "displayName": "Jon Kartago Lamida",
      "photoUrl": "https://lh3.googleusercontent.com/a-/AOh14GgvXpFVDXQWCt_L0HHFykXlWBHPow8Lv6Dtuu48Wg=s64",
      "userId": "00428767085485926259"
     },
     "user_tz": -480
    },
    "id": "-RCvLy-4huh6",
    "outputId": "68086c22-7221-44e1-971e-d4dcd1677194"
   },
   "outputs": [
    {
     "data": {
      "text/html": [
       "<div>\n",
       "<style scoped>\n",
       "    .dataframe tbody tr th:only-of-type {\n",
       "        vertical-align: middle;\n",
       "    }\n",
       "\n",
       "    .dataframe tbody tr th {\n",
       "        vertical-align: top;\n",
       "    }\n",
       "\n",
       "    .dataframe thead th {\n",
       "        text-align: right;\n",
       "    }\n",
       "</style>\n",
       "<table border=\"1\" class=\"dataframe\">\n",
       "  <thead>\n",
       "    <tr style=\"text-align: right;\">\n",
       "      <th></th>\n",
       "      <th>PatientID</th>\n",
       "      <th>age</th>\n",
       "      <th>clinical.T.Stage</th>\n",
       "      <th>Clinical.N.Stage</th>\n",
       "      <th>Clinical.M.Stage</th>\n",
       "      <th>Overall.Stage</th>\n",
       "      <th>Histology</th>\n",
       "      <th>gender</th>\n",
       "      <th>Survival.time</th>\n",
       "      <th>deadstatus.event</th>\n",
       "    </tr>\n",
       "  </thead>\n",
       "  <tbody>\n",
       "    <tr>\n",
       "      <th>0</th>\n",
       "      <td>LUNG1-001</td>\n",
       "      <td>78.7515</td>\n",
       "      <td>2.0</td>\n",
       "      <td>3</td>\n",
       "      <td>0</td>\n",
       "      <td>IIIb</td>\n",
       "      <td>large cell</td>\n",
       "      <td>male</td>\n",
       "      <td>2165</td>\n",
       "      <td>1</td>\n",
       "    </tr>\n",
       "    <tr>\n",
       "      <th>1</th>\n",
       "      <td>LUNG1-002</td>\n",
       "      <td>83.8001</td>\n",
       "      <td>2.0</td>\n",
       "      <td>0</td>\n",
       "      <td>0</td>\n",
       "      <td>I</td>\n",
       "      <td>squamous cell carcinoma</td>\n",
       "      <td>male</td>\n",
       "      <td>155</td>\n",
       "      <td>1</td>\n",
       "    </tr>\n",
       "    <tr>\n",
       "      <th>2</th>\n",
       "      <td>LUNG1-003</td>\n",
       "      <td>68.1807</td>\n",
       "      <td>2.0</td>\n",
       "      <td>3</td>\n",
       "      <td>0</td>\n",
       "      <td>IIIb</td>\n",
       "      <td>large cell</td>\n",
       "      <td>male</td>\n",
       "      <td>256</td>\n",
       "      <td>1</td>\n",
       "    </tr>\n",
       "    <tr>\n",
       "      <th>3</th>\n",
       "      <td>LUNG1-004</td>\n",
       "      <td>70.8802</td>\n",
       "      <td>2.0</td>\n",
       "      <td>1</td>\n",
       "      <td>0</td>\n",
       "      <td>II</td>\n",
       "      <td>squamous cell carcinoma</td>\n",
       "      <td>male</td>\n",
       "      <td>141</td>\n",
       "      <td>1</td>\n",
       "    </tr>\n",
       "    <tr>\n",
       "      <th>4</th>\n",
       "      <td>LUNG1-005</td>\n",
       "      <td>80.4819</td>\n",
       "      <td>4.0</td>\n",
       "      <td>2</td>\n",
       "      <td>0</td>\n",
       "      <td>IIIb</td>\n",
       "      <td>squamous cell carcinoma</td>\n",
       "      <td>male</td>\n",
       "      <td>353</td>\n",
       "      <td>1</td>\n",
       "    </tr>\n",
       "  </tbody>\n",
       "</table>\n",
       "</div>"
      ],
      "text/plain": [
       "   PatientID      age  clinical.T.Stage  Clinical.N.Stage  Clinical.M.Stage  \\\n",
       "0  LUNG1-001  78.7515               2.0                 3                 0   \n",
       "1  LUNG1-002  83.8001               2.0                 0                 0   \n",
       "2  LUNG1-003  68.1807               2.0                 3                 0   \n",
       "3  LUNG1-004  70.8802               2.0                 1                 0   \n",
       "4  LUNG1-005  80.4819               4.0                 2                 0   \n",
       "\n",
       "  Overall.Stage                Histology gender  Survival.time  \\\n",
       "0          IIIb               large cell   male           2165   \n",
       "1             I  squamous cell carcinoma   male            155   \n",
       "2          IIIb               large cell   male            256   \n",
       "3            II  squamous cell carcinoma   male            141   \n",
       "4          IIIb  squamous cell carcinoma   male            353   \n",
       "\n",
       "   deadstatus.event  \n",
       "0                 1  \n",
       "1                 1  \n",
       "2                 1  \n",
       "3                 1  \n",
       "4                 1  "
      ]
     },
     "execution_count": 18,
     "metadata": {},
     "output_type": "execute_result"
    }
   ],
   "source": [
    "raw_data.head()"
   ]
  },
  {
   "cell_type": "code",
   "execution_count": 19,
   "metadata": {
    "colab": {
     "base_uri": "https://localhost:8080/"
    },
    "executionInfo": {
     "elapsed": 2048,
     "status": "ok",
     "timestamp": 1607081774157,
     "user": {
      "displayName": "Jon Kartago Lamida",
      "photoUrl": "https://lh3.googleusercontent.com/a-/AOh14GgvXpFVDXQWCt_L0HHFykXlWBHPow8Lv6Dtuu48Wg=s64",
      "userId": "00428767085485926259"
     },
     "user_tz": -480
    },
    "id": "l13GVMexhuh7",
    "outputId": "075b20e8-35f2-4424-a181-d17b3a7477af"
   },
   "outputs": [
    {
     "name": "stdout",
     "output_type": "stream",
     "text": [
      "<class 'pandas.core.frame.DataFrame'>\n",
      "RangeIndex: 422 entries, 0 to 421\n",
      "Data columns (total 10 columns):\n",
      " #   Column            Non-Null Count  Dtype  \n",
      "---  ------            --------------  -----  \n",
      " 0   PatientID         422 non-null    object \n",
      " 1   age               400 non-null    float64\n",
      " 2   clinical.T.Stage  421 non-null    float64\n",
      " 3   Clinical.N.Stage  422 non-null    int64  \n",
      " 4   Clinical.M.Stage  422 non-null    int64  \n",
      " 5   Overall.Stage     421 non-null    object \n",
      " 6   Histology         380 non-null    object \n",
      " 7   gender            422 non-null    object \n",
      " 8   Survival.time     422 non-null    int64  \n",
      " 9   deadstatus.event  422 non-null    int64  \n",
      "dtypes: float64(2), int64(4), object(4)\n",
      "memory usage: 33.1+ KB\n"
     ]
    }
   ],
   "source": [
    "raw_data.info()"
   ]
  },
  {
   "cell_type": "code",
   "execution_count": 20,
   "metadata": {
    "colab": {
     "base_uri": "https://localhost:8080/",
     "height": 204
    },
    "executionInfo": {
     "elapsed": 2036,
     "status": "ok",
     "timestamp": 1607081774158,
     "user": {
      "displayName": "Jon Kartago Lamida",
      "photoUrl": "https://lh3.googleusercontent.com/a-/AOh14GgvXpFVDXQWCt_L0HHFykXlWBHPow8Lv6Dtuu48Wg=s64",
      "userId": "00428767085485926259"
     },
     "user_tz": -480
    },
    "id": "Q-Dlys4Whuh7",
    "outputId": "0eddc988-6c53-4875-bc72-e268acbac960"
   },
   "outputs": [
    {
     "data": {
      "text/plain": [
       "PatientID           False\n",
       "age                  True\n",
       "clinical.T.Stage     True\n",
       "Clinical.N.Stage    False\n",
       "Clinical.M.Stage    False\n",
       "Overall.Stage        True\n",
       "Histology            True\n",
       "gender              False\n",
       "Survival.time       False\n",
       "deadstatus.event    False\n",
       "dtype: bool"
      ]
     },
     "metadata": {},
     "output_type": "display_data"
    }
   ],
   "source": [
    "#Check Is there any  Non Avialable Data \n",
    "display(raw_data.isna().any())"
   ]
  },
  {
   "cell_type": "code",
   "execution_count": 21,
   "metadata": {
    "executionInfo": {
     "elapsed": 2025,
     "status": "ok",
     "timestamp": 1607081774159,
     "user": {
      "displayName": "Jon Kartago Lamida",
      "photoUrl": "https://lh3.googleusercontent.com/a-/AOh14GgvXpFVDXQWCt_L0HHFykXlWBHPow8Lv6Dtuu48Wg=s64",
      "userId": "00428767085485926259"
     },
     "user_tz": -480
    },
    "id": "BMWg8cHOhuh7"
   },
   "outputs": [],
   "source": [
    "## Removing Non Availabile Datas from the raw\n",
    "raw_data = raw_data.fillna(-1)"
   ]
  },
  {
   "cell_type": "code",
   "execution_count": 22,
   "metadata": {
    "colab": {
     "base_uri": "https://localhost:8080/",
     "height": 204
    },
    "executionInfo": {
     "elapsed": 2016,
     "status": "ok",
     "timestamp": 1607081774160,
     "user": {
      "displayName": "Jon Kartago Lamida",
      "photoUrl": "https://lh3.googleusercontent.com/a-/AOh14GgvXpFVDXQWCt_L0HHFykXlWBHPow8Lv6Dtuu48Wg=s64",
      "userId": "00428767085485926259"
     },
     "user_tz": -480
    },
    "id": "j_b3gub-huh7",
    "outputId": "96e2bb79-6c7a-4a67-9836-7f6f37863cec"
   },
   "outputs": [
    {
     "data": {
      "text/plain": [
       "PatientID           False\n",
       "age                 False\n",
       "clinical.T.Stage    False\n",
       "Clinical.N.Stage    False\n",
       "Clinical.M.Stage    False\n",
       "Overall.Stage       False\n",
       "Histology           False\n",
       "gender              False\n",
       "Survival.time       False\n",
       "deadstatus.event    False\n",
       "dtype: bool"
      ]
     },
     "metadata": {},
     "output_type": "display_data"
    }
   ],
   "source": [
    "#Check Is there any  Non Avialable Data \n",
    "display(raw_data.isna().any())"
   ]
  },
  {
   "cell_type": "code",
   "execution_count": 23,
   "metadata": {
    "colab": {
     "base_uri": "https://localhost:8080/"
    },
    "executionInfo": {
     "elapsed": 2004,
     "status": "ok",
     "timestamp": 1607081774161,
     "user": {
      "displayName": "Jon Kartago Lamida",
      "photoUrl": "https://lh3.googleusercontent.com/a-/AOh14GgvXpFVDXQWCt_L0HHFykXlWBHPow8Lv6Dtuu48Wg=s64",
      "userId": "00428767085485926259"
     },
     "user_tz": -480
    },
    "id": "OHZzMFZOhuh7",
    "outputId": "9b5fe7c1-60cf-44a6-ee3e-7d8636afd52f"
   },
   "outputs": [
    {
     "data": {
      "text/plain": [
       "1    373\n",
       "0     49\n",
       "Name: deadstatus.event, dtype: int64"
      ]
     },
     "execution_count": 23,
     "metadata": {},
     "output_type": "execute_result"
    }
   ],
   "source": [
    "raw_data['deadstatus.event'].value_counts()"
   ]
  },
  {
   "cell_type": "code",
   "execution_count": 24,
   "metadata": {
    "colab": {
     "base_uri": "https://localhost:8080/",
     "height": 336
    },
    "executionInfo": {
     "elapsed": 1993,
     "status": "ok",
     "timestamp": 1607081774162,
     "user": {
      "displayName": "Jon Kartago Lamida",
      "photoUrl": "https://lh3.googleusercontent.com/a-/AOh14GgvXpFVDXQWCt_L0HHFykXlWBHPow8Lv6Dtuu48Wg=s64",
      "userId": "00428767085485926259"
     },
     "user_tz": -480
    },
    "id": "E7kEdc_shuh7",
    "outputId": "82c9a85f-6bf1-4c0e-ec11-cda3f12a0fb8"
   },
   "outputs": [
    {
     "name": "stderr",
     "output_type": "stream",
     "text": [
      "/home/lamida/.local/lib/python3.8/site-packages/seaborn/_decorators.py:36: FutureWarning: Pass the following variable as a keyword arg: x. From version 0.12, the only valid positional argument will be `data`, and passing other arguments without an explicit keyword will result in an error or misinterpretation.\n",
      "  warnings.warn(\n"
     ]
    },
    {
     "data": {
      "text/plain": [
       "<AxesSubplot:xlabel='deadstatus.event', ylabel='count'>"
      ]
     },
     "execution_count": 24,
     "metadata": {},
     "output_type": "execute_result"
    },
    {
     "data": {
      "image/png": "[encoded data removed]",
      "text/plain": [
       "<Figure size 432x288 with 1 Axes>"
      ]
     },
     "metadata": {
      "needs_background": "light"
     },
     "output_type": "display_data"
    }
   ],
   "source": [
    "# Now lets check the class distributions\n",
    "import seaborn as sns\n",
    "sns.countplot(\"deadstatus.event\",data=raw_data)"
   ]
  },
  {
   "cell_type": "code",
   "execution_count": 25,
   "metadata": {
    "colab": {
     "base_uri": "https://localhost:8080/",
     "height": 336
    },
    "executionInfo": {
     "elapsed": 2460,
     "status": "ok",
     "timestamp": 1607081774642,
     "user": {
      "displayName": "Jon Kartago Lamida",
      "photoUrl": "https://lh3.googleusercontent.com/a-/AOh14GgvXpFVDXQWCt_L0HHFykXlWBHPow8Lv6Dtuu48Wg=s64",
      "userId": "00428767085485926259"
     },
     "user_tz": -480
    },
    "id": "T4L3DSZ9huh7",
    "outputId": "a2b96a22-04da-4439-84a5-58a0e35e9956"
   },
   "outputs": [
    {
     "name": "stderr",
     "output_type": "stream",
     "text": [
      "/home/lamida/.local/lib/python3.8/site-packages/seaborn/_decorators.py:36: FutureWarning: Pass the following variable as a keyword arg: x. From version 0.12, the only valid positional argument will be `data`, and passing other arguments without an explicit keyword will result in an error or misinterpretation.\n",
      "  warnings.warn(\n"
     ]
    },
    {
     "data": {
      "text/plain": [
       "<AxesSubplot:xlabel='Histology', ylabel='count'>"
      ]
     },
     "execution_count": 25,
     "metadata": {},
     "output_type": "execute_result"
    },
    {
     "data": {
      "image/png": "[encoded data removed]",
      "text/plain": [
       "<Figure size 432x288 with 1 Axes>"
      ]
     },
     "metadata": {
      "needs_background": "light"
     },
     "output_type": "display_data"
    }
   ],
   "source": [
    "sns.countplot(\"Histology\",data=raw_data)"
   ]
  },
  {
   "cell_type": "code",
   "execution_count": 26,
   "metadata": {
    "colab": {
     "base_uri": "https://localhost:8080/",
     "height": 337
    },
    "executionInfo": {
     "elapsed": 2448,
     "status": "ok",
     "timestamp": 1607081774643,
     "user": {
      "displayName": "Jon Kartago Lamida",
      "photoUrl": "https://lh3.googleusercontent.com/a-/AOh14GgvXpFVDXQWCt_L0HHFykXlWBHPow8Lv6Dtuu48Wg=s64",
      "userId": "00428767085485926259"
     },
     "user_tz": -480
    },
    "id": "IS_Nl7qxhuh7",
    "outputId": "da3efead-3b48-4193-b327-525c0cc81118"
   },
   "outputs": [
    {
     "name": "stderr",
     "output_type": "stream",
     "text": [
      "/home/lamida/.local/lib/python3.8/site-packages/seaborn/_decorators.py:36: FutureWarning: Pass the following variable as a keyword arg: x. From version 0.12, the only valid positional argument will be `data`, and passing other arguments without an explicit keyword will result in an error or misinterpretation.\n",
      "  warnings.warn(\n"
     ]
    },
    {
     "data": {
      "text/plain": [
       "<AxesSubplot:xlabel='gender', ylabel='count'>"
      ]
     },
     "execution_count": 26,
     "metadata": {},
     "output_type": "execute_result"
    },
    {
     "data": {
      "image/png": "[encoded data removed]",
      "text/plain": [
       "<Figure size 432x288 with 1 Axes>"
      ]
     },
     "metadata": {
      "needs_background": "light"
     },
     "output_type": "display_data"
    }
   ],
   "source": [
    "sns.countplot(\"gender\",data=raw_data)"
   ]
  },
  {
   "cell_type": "code",
   "execution_count": 27,
   "metadata": {
    "colab": {
     "base_uri": "https://localhost:8080/"
    },
    "executionInfo": {
     "elapsed": 2437,
     "status": "ok",
     "timestamp": 1607081774644,
     "user": {
      "displayName": "Jon Kartago Lamida",
      "photoUrl": "https://lh3.googleusercontent.com/a-/AOh14GgvXpFVDXQWCt_L0HHFykXlWBHPow8Lv6Dtuu48Wg=s64",
      "userId": "00428767085485926259"
     },
     "user_tz": -480
    },
    "id": "PaphulY9huh7",
    "outputId": "31af367e-2b44-4f48-fb6a-bbf7f4323017"
   },
   "outputs": [
    {
     "data": {
      "text/plain": [
       "male      290\n",
       "female    132\n",
       "Name: gender, dtype: int64"
      ]
     },
     "execution_count": 27,
     "metadata": {},
     "output_type": "execute_result"
    }
   ],
   "source": [
    "raw_data['gender'].value_counts()"
   ]
  },
  {
   "cell_type": "code",
   "execution_count": 28,
   "metadata": {
    "colab": {
     "base_uri": "https://localhost:8080/",
     "height": 142
    },
    "executionInfo": {
     "elapsed": 2428,
     "status": "ok",
     "timestamp": 1607081774645,
     "user": {
      "displayName": "Jon Kartago Lamida",
      "photoUrl": "https://lh3.googleusercontent.com/a-/AOh14GgvXpFVDXQWCt_L0HHFykXlWBHPow8Lv6Dtuu48Wg=s64",
      "userId": "00428767085485926259"
     },
     "user_tz": -480
    },
    "id": "PA2D1chnhuh8",
    "outputId": "b93cff92-5cfd-433b-a5d2-b1776da247e3"
   },
   "outputs": [
    {
     "data": {
      "text/html": [
       "<div>\n",
       "<style scoped>\n",
       "    .dataframe tbody tr th:only-of-type {\n",
       "        vertical-align: middle;\n",
       "    }\n",
       "\n",
       "    .dataframe tbody tr th {\n",
       "        vertical-align: top;\n",
       "    }\n",
       "\n",
       "    .dataframe thead th {\n",
       "        text-align: right;\n",
       "    }\n",
       "</style>\n",
       "<table border=\"1\" class=\"dataframe\">\n",
       "  <thead>\n",
       "    <tr style=\"text-align: right;\">\n",
       "      <th>deadstatus.event</th>\n",
       "      <th>0</th>\n",
       "      <th>1</th>\n",
       "    </tr>\n",
       "    <tr>\n",
       "      <th>gender</th>\n",
       "      <th></th>\n",
       "      <th></th>\n",
       "    </tr>\n",
       "  </thead>\n",
       "  <tbody>\n",
       "    <tr>\n",
       "      <th>female</th>\n",
       "      <td>22</td>\n",
       "      <td>110</td>\n",
       "    </tr>\n",
       "    <tr>\n",
       "      <th>male</th>\n",
       "      <td>27</td>\n",
       "      <td>263</td>\n",
       "    </tr>\n",
       "  </tbody>\n",
       "</table>\n",
       "</div>"
      ],
      "text/plain": [
       "deadstatus.event   0    1\n",
       "gender                   \n",
       "female            22  110\n",
       "male              27  263"
      ]
     },
     "execution_count": 28,
     "metadata": {},
     "output_type": "execute_result"
    }
   ],
   "source": [
    "pd.crosstab(index=raw_data['gender'], columns=raw_data['deadstatus.event'])"
   ]
  },
  {
   "cell_type": "code",
   "execution_count": 29,
   "metadata": {
    "colab": {
     "base_uri": "https://localhost:8080/",
     "height": 142
    },
    "executionInfo": {
     "elapsed": 2415,
     "status": "ok",
     "timestamp": 1607081774646,
     "user": {
      "displayName": "Jon Kartago Lamida",
      "photoUrl": "https://lh3.googleusercontent.com/a-/AOh14GgvXpFVDXQWCt_L0HHFykXlWBHPow8Lv6Dtuu48Wg=s64",
      "userId": "00428767085485926259"
     },
     "user_tz": -480
    },
    "id": "1LEoh_JPhuh8",
    "outputId": "28c95225-9686-462d-d0e5-76406b8ff520"
   },
   "outputs": [
    {
     "data": {
      "text/html": [
       "<div>\n",
       "<style scoped>\n",
       "    .dataframe tbody tr th:only-of-type {\n",
       "        vertical-align: middle;\n",
       "    }\n",
       "\n",
       "    .dataframe tbody tr th {\n",
       "        vertical-align: top;\n",
       "    }\n",
       "\n",
       "    .dataframe thead th {\n",
       "        text-align: right;\n",
       "    }\n",
       "</style>\n",
       "<table border=\"1\" class=\"dataframe\">\n",
       "  <thead>\n",
       "    <tr style=\"text-align: right;\">\n",
       "      <th>clinical.T.Stage</th>\n",
       "      <th>-1.0</th>\n",
       "      <th>1.0</th>\n",
       "      <th>2.0</th>\n",
       "      <th>3.0</th>\n",
       "      <th>4.0</th>\n",
       "      <th>5.0</th>\n",
       "    </tr>\n",
       "    <tr>\n",
       "      <th>gender</th>\n",
       "      <th></th>\n",
       "      <th></th>\n",
       "      <th></th>\n",
       "      <th></th>\n",
       "      <th></th>\n",
       "      <th></th>\n",
       "    </tr>\n",
       "  </thead>\n",
       "  <tbody>\n",
       "    <tr>\n",
       "      <th>female</th>\n",
       "      <td>1</td>\n",
       "      <td>35</td>\n",
       "      <td>45</td>\n",
       "      <td>15</td>\n",
       "      <td>35</td>\n",
       "      <td>1</td>\n",
       "    </tr>\n",
       "    <tr>\n",
       "      <th>male</th>\n",
       "      <td>0</td>\n",
       "      <td>58</td>\n",
       "      <td>111</td>\n",
       "      <td>38</td>\n",
       "      <td>82</td>\n",
       "      <td>1</td>\n",
       "    </tr>\n",
       "  </tbody>\n",
       "</table>\n",
       "</div>"
      ],
      "text/plain": [
       "clinical.T.Stage  -1.0   1.0   2.0   3.0   4.0   5.0\n",
       "gender                                              \n",
       "female               1    35    45    15    35     1\n",
       "male                 0    58   111    38    82     1"
      ]
     },
     "execution_count": 29,
     "metadata": {},
     "output_type": "execute_result"
    }
   ],
   "source": [
    "pd.crosstab(index=raw_data['gender'], columns=raw_data['clinical.T.Stage'])"
   ]
  },
  {
   "cell_type": "code",
   "execution_count": 30,
   "metadata": {
    "colab": {
     "base_uri": "https://localhost:8080/",
     "height": 336
    },
    "executionInfo": {
     "elapsed": 2880,
     "status": "ok",
     "timestamp": 1607081775124,
     "user": {
      "displayName": "Jon Kartago Lamida",
      "photoUrl": "https://lh3.googleusercontent.com/a-/AOh14GgvXpFVDXQWCt_L0HHFykXlWBHPow8Lv6Dtuu48Wg=s64",
      "userId": "00428767085485926259"
     },
     "user_tz": -480
    },
    "id": "4D1i1Hy7huh8",
    "outputId": "e6359b46-5c5f-430c-b908-ebdd7d8504c2"
   },
   "outputs": [
    {
     "name": "stderr",
     "output_type": "stream",
     "text": [
      "/home/lamida/.local/lib/python3.8/site-packages/seaborn/_decorators.py:36: FutureWarning: Pass the following variable as a keyword arg: x. From version 0.12, the only valid positional argument will be `data`, and passing other arguments without an explicit keyword will result in an error or misinterpretation.\n",
      "  warnings.warn(\n"
     ]
    },
    {
     "data": {
      "text/plain": [
       "<AxesSubplot:xlabel='age'>"
      ]
     },
     "execution_count": 30,
     "metadata": {},
     "output_type": "execute_result"
    },
    {
     "data": {
      "image/png": "[encoded data removed]",
      "text/plain": [
       "<Figure size 432x288 with 1 Axes>"
      ]
     },
     "metadata": {
      "needs_background": "light"
     },
     "output_type": "display_data"
    }
   ],
   "source": [
    "import seaborn as sns\n",
    "import matplotlib.pyplot as plt  \n",
    "sns.boxplot(raw_data.age)"
   ]
  },
  {
   "cell_type": "code",
   "execution_count": 31,
   "metadata": {
    "colab": {
     "base_uri": "https://localhost:8080/",
     "height": 336
    },
    "executionInfo": {
     "elapsed": 2869,
     "status": "ok",
     "timestamp": 1607081775125,
     "user": {
      "displayName": "Jon Kartago Lamida",
      "photoUrl": "https://lh3.googleusercontent.com/a-/AOh14GgvXpFVDXQWCt_L0HHFykXlWBHPow8Lv6Dtuu48Wg=s64",
      "userId": "00428767085485926259"
     },
     "user_tz": -480
    },
    "id": "jBkVQB8Thuh8",
    "outputId": "306d67e1-418d-426a-e7c5-5367c57bdd5e"
   },
   "outputs": [
    {
     "name": "stderr",
     "output_type": "stream",
     "text": [
      "/home/lamida/.local/lib/python3.8/site-packages/seaborn/_decorators.py:36: FutureWarning: Pass the following variable as a keyword arg: x. From version 0.12, the only valid positional argument will be `data`, and passing other arguments without an explicit keyword will result in an error or misinterpretation.\n",
      "  warnings.warn(\n"
     ]
    },
    {
     "data": {
      "text/plain": [
       "<AxesSubplot:xlabel='Clinical.M.Stage', ylabel='count'>"
      ]
     },
     "execution_count": 31,
     "metadata": {},
     "output_type": "execute_result"
    },
    {
     "data": {
      "image/png": "[encoded data removed]",
      "text/plain": [
       "<Figure size 432x288 with 1 Axes>"
      ]
     },
     "metadata": {
      "needs_background": "light"
     },
     "output_type": "display_data"
    }
   ],
   "source": [
    "sns.countplot(\"Clinical.M.Stage\",data=raw_data)"
   ]
  },
  {
   "cell_type": "code",
   "execution_count": 32,
   "metadata": {
    "colab": {
     "base_uri": "https://localhost:8080/",
     "height": 336
    },
    "executionInfo": {
     "elapsed": 3559,
     "status": "ok",
     "timestamp": 1607081775828,
     "user": {
      "displayName": "Jon Kartago Lamida",
      "photoUrl": "https://lh3.googleusercontent.com/a-/AOh14GgvXpFVDXQWCt_L0HHFykXlWBHPow8Lv6Dtuu48Wg=s64",
      "userId": "00428767085485926259"
     },
     "user_tz": -480
    },
    "id": "47HrmNwChuh8",
    "outputId": "0b369d75-4291-4978-cd21-1b15d5c5b0d1"
   },
   "outputs": [
    {
     "name": "stderr",
     "output_type": "stream",
     "text": [
      "/home/lamida/.local/lib/python3.8/site-packages/seaborn/_decorators.py:36: FutureWarning: Pass the following variable as a keyword arg: x. From version 0.12, the only valid positional argument will be `data`, and passing other arguments without an explicit keyword will result in an error or misinterpretation.\n",
      "  warnings.warn(\n"
     ]
    },
    {
     "data": {
      "text/plain": [
       "<AxesSubplot:xlabel='Clinical.N.Stage', ylabel='count'>"
      ]
     },
     "execution_count": 32,
     "metadata": {},
     "output_type": "execute_result"
    },
    {
     "data": {
      "image/png": "[encoded data removed]",
      "text/plain": [
       "<Figure size 432x288 with 1 Axes>"
      ]
     },
     "metadata": {
      "needs_background": "light"
     },
     "output_type": "display_data"
    }
   ],
   "source": [
    "sns.countplot(\"Clinical.N.Stage\",data=raw_data)"
   ]
  },
  {
   "cell_type": "code",
   "execution_count": 33,
   "metadata": {
    "colab": {
     "base_uri": "https://localhost:8080/",
     "height": 235
    },
    "executionInfo": {
     "elapsed": 3547,
     "status": "ok",
     "timestamp": 1607081775829,
     "user": {
      "displayName": "Jon Kartago Lamida",
      "photoUrl": "https://lh3.googleusercontent.com/a-/AOh14GgvXpFVDXQWCt_L0HHFykXlWBHPow8Lv6Dtuu48Wg=s64",
      "userId": "00428767085485926259"
     },
     "user_tz": -480
    },
    "id": "SQjeQ7dYhuh8",
    "outputId": "e91fb79b-1199-419c-a4dd-5075e39457ac"
   },
   "outputs": [
    {
     "data": {
      "text/html": [
       "<div>\n",
       "<style scoped>\n",
       "    .dataframe tbody tr th:only-of-type {\n",
       "        vertical-align: middle;\n",
       "    }\n",
       "\n",
       "    .dataframe tbody tr th {\n",
       "        vertical-align: top;\n",
       "    }\n",
       "\n",
       "    .dataframe thead th {\n",
       "        text-align: right;\n",
       "    }\n",
       "</style>\n",
       "<table border=\"1\" class=\"dataframe\">\n",
       "  <thead>\n",
       "    <tr style=\"text-align: right;\">\n",
       "      <th></th>\n",
       "      <th>age</th>\n",
       "      <th>clinical.T.Stage</th>\n",
       "      <th>Clinical.N.Stage</th>\n",
       "      <th>Clinical.M.Stage</th>\n",
       "      <th>Survival.time</th>\n",
       "      <th>deadstatus.event</th>\n",
       "    </tr>\n",
       "  </thead>\n",
       "  <tbody>\n",
       "    <tr>\n",
       "      <th>age</th>\n",
       "      <td>1.000000</td>\n",
       "      <td>0.026531</td>\n",
       "      <td>-0.096175</td>\n",
       "      <td>-0.024185</td>\n",
       "      <td>-0.040476</td>\n",
       "      <td>0.056673</td>\n",
       "    </tr>\n",
       "    <tr>\n",
       "      <th>clinical.T.Stage</th>\n",
       "      <td>0.026531</td>\n",
       "      <td>1.000000</td>\n",
       "      <td>0.034110</td>\n",
       "      <td>0.055951</td>\n",
       "      <td>0.017221</td>\n",
       "      <td>-0.052694</td>\n",
       "    </tr>\n",
       "    <tr>\n",
       "      <th>Clinical.N.Stage</th>\n",
       "      <td>-0.096175</td>\n",
       "      <td>0.034110</td>\n",
       "      <td>1.000000</td>\n",
       "      <td>0.095097</td>\n",
       "      <td>-0.046084</td>\n",
       "      <td>-0.040022</td>\n",
       "    </tr>\n",
       "    <tr>\n",
       "      <th>Clinical.M.Stage</th>\n",
       "      <td>-0.024185</td>\n",
       "      <td>0.055951</td>\n",
       "      <td>0.095097</td>\n",
       "      <td>1.000000</td>\n",
       "      <td>-0.003276</td>\n",
       "      <td>0.037913</td>\n",
       "    </tr>\n",
       "    <tr>\n",
       "      <th>Survival.time</th>\n",
       "      <td>-0.040476</td>\n",
       "      <td>0.017221</td>\n",
       "      <td>-0.046084</td>\n",
       "      <td>-0.003276</td>\n",
       "      <td>1.000000</td>\n",
       "      <td>-0.655487</td>\n",
       "    </tr>\n",
       "    <tr>\n",
       "      <th>deadstatus.event</th>\n",
       "      <td>0.056673</td>\n",
       "      <td>-0.052694</td>\n",
       "      <td>-0.040022</td>\n",
       "      <td>0.037913</td>\n",
       "      <td>-0.655487</td>\n",
       "      <td>1.000000</td>\n",
       "    </tr>\n",
       "  </tbody>\n",
       "</table>\n",
       "</div>"
      ],
      "text/plain": [
       "                       age  clinical.T.Stage  Clinical.N.Stage  \\\n",
       "age               1.000000          0.026531         -0.096175   \n",
       "clinical.T.Stage  0.026531          1.000000          0.034110   \n",
       "Clinical.N.Stage -0.096175          0.034110          1.000000   \n",
       "Clinical.M.Stage -0.024185          0.055951          0.095097   \n",
       "Survival.time    -0.040476          0.017221         -0.046084   \n",
       "deadstatus.event  0.056673         -0.052694         -0.040022   \n",
       "\n",
       "                  Clinical.M.Stage  Survival.time  deadstatus.event  \n",
       "age                      -0.024185      -0.040476          0.056673  \n",
       "clinical.T.Stage          0.055951       0.017221         -0.052694  \n",
       "Clinical.N.Stage          0.095097      -0.046084         -0.040022  \n",
       "Clinical.M.Stage          1.000000      -0.003276          0.037913  \n",
       "Survival.time            -0.003276       1.000000         -0.655487  \n",
       "deadstatus.event          0.037913      -0.655487          1.000000  "
      ]
     },
     "execution_count": 33,
     "metadata": {},
     "output_type": "execute_result"
    }
   ],
   "source": [
    "#Find the correlation of each coffecients\n",
    "raw_data.corr()"
   ]
  },
  {
   "cell_type": "markdown",
   "metadata": {
    "id": "7O7Hajrkhuh8"
   },
   "source": [
    "# scatterplot of the dataset"
   ]
  },
  {
   "cell_type": "code",
   "execution_count": 34,
   "metadata": {
    "colab": {
     "base_uri": "https://localhost:8080/",
     "height": 0
    },
    "executionInfo": {
     "elapsed": 3534,
     "status": "ok",
     "timestamp": 1607081775830,
     "user": {
      "displayName": "Jon Kartago Lamida",
      "photoUrl": "https://lh3.googleusercontent.com/a-/AOh14GgvXpFVDXQWCt_L0HHFykXlWBHPow8Lv6Dtuu48Wg=s64",
      "userId": "00428767085485926259"
     },
     "user_tz": -480
    },
    "id": "fOfTP0yZhuh8",
    "outputId": "acca5cc2-09ee-4a1d-dc1e-3884b4e081a7"
   },
   "outputs": [
    {
     "data": {
      "text/plain": [
       "<AxesSubplot:xlabel='age', ylabel='Survival.time'>"
      ]
     },
     "execution_count": 34,
     "metadata": {},
     "output_type": "execute_result"
    },
    {
     "data": {
      "image/png": "[encoded data removed]",
      "text/plain": [
       "<Figure size 432x288 with 1 Axes>"
      ]
     },
     "metadata": {
      "needs_background": "light"
     },
     "output_type": "display_data"
    }
   ],
   "source": [
    "\n",
    "# Plot\n",
    "raw_data.plot.scatter(x='age', y='Survival.time', alpha=0.5)\n",
    "\n",
    "\n"
   ]
  },
  {
   "cell_type": "code",
   "execution_count": 35,
   "metadata": {
    "colab": {
     "base_uri": "https://localhost:8080/"
    },
    "executionInfo": {
     "elapsed": 3526,
     "status": "ok",
     "timestamp": 1607081775831,
     "user": {
      "displayName": "Jon Kartago Lamida",
      "photoUrl": "https://lh3.googleusercontent.com/a-/AOh14GgvXpFVDXQWCt_L0HHFykXlWBHPow8Lv6Dtuu48Wg=s64",
      "userId": "00428767085485926259"
     },
     "user_tz": -480
    },
    "id": "6QERlWrohuh_",
    "outputId": "f2057f15-6f9d-4f2a-b8dc-3e2b888f6669"
   },
   "outputs": [
    {
     "data": {
      "text/plain": [
       "{'Overall.Stage': ['IIIb', 'I', 'II', 'IIIa'],\n",
       " 'Histology': ['large cell',\n",
       "  'squamous cell carcinoma',\n",
       "  'adenocarcinoma',\n",
       "  'nos'],\n",
       " 'gender': ['male', 'female']}"
      ]
     },
     "execution_count": 35,
     "metadata": {},
     "output_type": "execute_result"
    }
   ],
   "source": [
    "# make dictionary for string values\n",
    "string_val_keys = ['Overall.Stage', 'Histology', 'gender']\n",
    "dictionary = {}\n",
    "for key in string_val_keys:\n",
    "    classes = list(raw_data[key].unique())\n",
    "    if -1 in classes:\n",
    "        classes.remove(-1)\n",
    "    dictionary[key] = classes\n",
    "dictionary"
   ]
  },
  {
   "cell_type": "code",
   "execution_count": 36,
   "metadata": {
    "colab": {
     "base_uri": "https://localhost:8080/"
    },
    "executionInfo": {
     "elapsed": 3519,
     "status": "ok",
     "timestamp": 1607081775831,
     "user": {
      "displayName": "Jon Kartago Lamida",
      "photoUrl": "https://lh3.googleusercontent.com/a-/AOh14GgvXpFVDXQWCt_L0HHFykXlWBHPow8Lv6Dtuu48Wg=s64",
      "userId": "00428767085485926259"
     },
     "user_tz": -480
    },
    "id": "LObA4E-Yhuh_",
    "outputId": "7839135b-c8d1-4117-e524-e070cbaa2e7a"
   },
   "outputs": [
    {
     "name": "stdout",
     "output_type": "stream",
     "text": [
      "There are 422 items in the given dataset\n"
     ]
    }
   ],
   "source": [
    "#Seperate dependent variables frim the data set\n",
    "# seperate independent variable named as data and dependent variable name lablels\n",
    "data, labels = [], []\n",
    "for i in range(len(raw_data.values)):\n",
    "    if raw_data['deadstatus.event'][i] == -1:\n",
    "        continue\n",
    "    data_line = []\n",
    "    for key in raw_data.keys()[1:]:\n",
    "        if raw_data[key][i] == -1:\n",
    "            data_line.append(-1)\n",
    "            continue\n",
    "        if key in string_val_keys:\n",
    "            data_line.append(dictionary[key].index(raw_data[key][i]))\n",
    "        else:\n",
    "            data_line.append(raw_data[key][i])\n",
    "    data.append(data_line[:-1])\n",
    "    labels.append(data_line[-1])\n",
    "print('There are %d items in the given dataset' % len(data))"
   ]
  },
  {
   "cell_type": "code",
   "execution_count": 37,
   "metadata": {
    "colab": {
     "base_uri": "https://localhost:8080/"
    },
    "executionInfo": {
     "elapsed": 3512,
     "status": "ok",
     "timestamp": 1607081775832,
     "user": {
      "displayName": "Jon Kartago Lamida",
      "photoUrl": "https://lh3.googleusercontent.com/a-/AOh14GgvXpFVDXQWCt_L0HHFykXlWBHPow8Lv6Dtuu48Wg=s64",
      "userId": "00428767085485926259"
     },
     "user_tz": -480
    },
    "id": "P9laBZ6Zhuh_",
    "outputId": "b5ce926a-c58e-45ac-c35f-7b65718ec5c6"
   },
   "outputs": [
    {
     "name": "stdout",
     "output_type": "stream",
     "text": [
      "There are 337 items in the train dataset\n",
      "There are 85 items in the test dataset\n"
     ]
    }
   ],
   "source": [
    "#Split the data nd labels set into 80% as training and 20% as testing\n",
    "from sklearn.model_selection import train_test_split\n",
    "X_train, X_test, y_train, y_test = train_test_split(data, labels, test_size=0.2, random_state=42)\n",
    "print('There are %d items in the train dataset' % len(X_train))\n",
    "print('There are %d items in the test dataset' % len(X_test))"
   ]
  },
  {
   "cell_type": "code",
   "execution_count": 38,
   "metadata": {
    "colab": {
     "base_uri": "https://localhost:8080/"
    },
    "executionInfo": {
     "elapsed": 3894,
     "status": "ok",
     "timestamp": 1607081776221,
     "user": {
      "displayName": "Jon Kartago Lamida",
      "photoUrl": "https://lh3.googleusercontent.com/a-/AOh14GgvXpFVDXQWCt_L0HHFykXlWBHPow8Lv6Dtuu48Wg=s64",
      "userId": "00428767085485926259"
     },
     "user_tz": -480
    },
    "id": "Cc26vT9Nhuh_",
    "outputId": "ec95f6a6-3dfd-4b16-ae89-1754d89bc6d0"
   },
   "outputs": [
    {
     "name": "stdout",
     "output_type": "stream",
     "text": [
      "[[-0.21600947  1.33744129 -1.09723466 ...  1.76878589 -0.68674283\n",
      "   3.24730954]\n",
      " [ 0.60683256 -0.41291877 -1.09723466 ...  0.05097366 -0.68674283\n",
      "  -0.40657304]\n",
      " [-0.58421676 -3.03845886  1.36788588 ...  1.76878589  1.45614916\n",
      "  -0.72560235]\n",
      " ...\n",
      " [ 0.69902762 -0.41291877  0.54617903 ... -0.80793246 -0.68674283\n",
      "   0.53755433]\n",
      " [-3.53877776 -0.41291877 -0.27552781 ...  0.90987978 -0.68674283\n",
      "  -0.76548101]\n",
      " [-0.27964764 -0.41291877  0.54617903 ... -0.80793246 -0.68674283\n",
      "  -0.06461349]]\n",
      "[[ 0.16270597 -1.2880988   0.54617903 -0.11721705  1.5088201   0.05097366\n",
      "  -0.68674283 -0.86118981]\n",
      " [ 0.26363621  1.33744129 -1.09723466 -0.11721705 -0.94756818  0.05097366\n",
      "  -0.68674283 -0.8881079 ]\n",
      " [ 0.70421143 -0.41291877 -1.09723466 -0.11721705 -0.12877209  0.90987978\n",
      "   1.45614916 -0.89608364]\n",
      " [ 0.6827897  -1.2880988   1.36788588 -0.11721705  1.5088201   0.05097366\n",
      "  -0.68674283 -0.23509478]\n",
      " [ 0.11040841  1.33744129 -0.27552781 -0.11721705 -0.94756818  0.05097366\n",
      "  -0.68674283  1.81566551]\n",
      " [-0.47425403  1.33744129 -1.09723466 -0.11721705 -0.94756818  1.76878589\n",
      "  -0.68674283 -0.01177426]\n",
      " [ 0.58374595 -1.2880988  -1.09723466 -0.11721705 -0.12877209 -1.66683858\n",
      "  -0.68674283  2.69399308]\n",
      " [-0.51199477 -0.41291877 -1.09723466 -0.11721705 -0.12877209 -1.66683858\n",
      "   1.45614916  0.0490407 ]\n",
      " [ 0.39179903 -0.41291877  0.54617903 -0.11721705  1.5088201   0.05097366\n",
      "  -0.68674283  0.04804373]\n",
      " [-0.20431752 -0.41291877  1.36788588 -0.11721705 -0.94756818  0.05097366\n",
      "  -0.68674283 -0.66179649]\n",
      " [ 0.02048362  1.33744129  0.54617903 -0.11721705 -0.94756818 -0.80793246\n",
      "   1.45614916  1.10482832]\n",
      " [-0.20343103 -1.2880988  -1.09723466 -0.11721705 -0.12877209  0.90987978\n",
      "   1.45614916 -0.87813824]\n",
      " [ 0.65465442  0.46226126 -1.09723466 -0.11721705  0.69002401  0.05097366\n",
      "  -0.68674283  1.17461599]\n",
      " [ 0.64486518  0.46226126  0.54617903 -0.11721705  1.5088201   1.76878589\n",
      "  -0.68674283 -0.69070852]\n",
      " [-3.53877776 -1.2880988  -1.09723466 -0.11721705 -0.12877209 -1.66683858\n",
      "  -0.68674283  2.28922464]\n",
      " [ 0.83266074 -1.2880988  -1.09723466 -0.11721705 -0.12877209  0.90987978\n",
      "   1.45614916  1.56143903]\n",
      " [ 0.35612858  1.33744129  1.36788588 -0.11721705 -0.94756818  0.05097366\n",
      "   1.45614916  1.16464632]\n",
      " [ 0.01915389  1.33744129  0.54617903 -0.11721705 -0.94756818 -0.80793246\n",
      "   1.45614916 -0.63288445]\n",
      " [-0.23939338  1.33744129  1.36788588 -0.11721705 -0.94756818  0.90987978\n",
      "   1.45614916 -0.63687232]\n",
      " [ 0.47674541  1.33744129  2.18959272 -0.11721705 -0.94756818 -0.80793246\n",
      "  -0.68674283  1.56542689]\n",
      " [ 0.1354734  -0.41291877  0.54617903 -0.11721705  1.5088201   0.05097366\n",
      "   1.45614916  2.89837123]\n",
      " [ 0.03513235 -0.41291877  1.36788588 -0.11721705 -0.94756818 -0.80793246\n",
      "  -0.68674283  2.59230249]\n",
      " [ 0.69917897 -0.41291877  1.36788588 -0.11721705 -0.94756818  1.76878589\n",
      "   1.45614916 -0.50527273]\n",
      " [-0.4131348   1.33744129  1.36788588 -0.11721705 -0.94756818 -0.80793246\n",
      "  -0.68674283 -0.63786929]\n",
      " [-3.53877776  2.21262132  0.54617903 -0.11721705  1.5088201  -1.66683858\n",
      "   1.45614916  3.49256333]\n",
      " [-0.51765966 -1.2880988   0.54617903 -0.11721705  1.5088201   0.05097366\n",
      "  -0.68674283 -0.67076919]\n",
      " [ 0.56435667 -0.41291877  0.54617903 -0.11721705  1.5088201   1.76878589\n",
      "  -0.68674283 -0.85022317]\n",
      " [-0.61707098 -0.41291877 -1.09723466 -0.11721705 -0.12877209 -0.80793246\n",
      "   1.45614916 -0.25104625]\n",
      " [-0.23391767  2.21262132  0.54617903 -0.11721705 -1.76636427 -0.80793246\n",
      "  -0.68674283 -0.66079952]\n",
      " [ 0.10128944 -1.2880988  -1.09723466 -0.11721705 -0.12877209 -1.66683858\n",
      "  -0.68674283  0.70404775]\n",
      " [ 0.14906266  1.33744129 -1.09723466 -0.11721705 -0.94756818  0.05097366\n",
      "  -0.68674283 -0.70566302]\n",
      " [ 0.32667978 -1.2880988   1.36788588 -0.11721705 -0.94756818  0.05097366\n",
      "  -0.68674283 -0.66877525]\n",
      " [ 1.02342928 -0.41291877  0.54617903 -0.11721705  1.5088201  -0.80793246\n",
      "  -0.68674283 -0.19421915]\n",
      " [-0.03220313 -1.2880988   0.54617903 -0.11721705  1.5088201   1.76878589\n",
      "   1.45614916  1.74986571]\n",
      " [ 0.85724464  1.33744129  0.54617903 -0.11721705 -0.94756818  0.05097366\n",
      "  -0.68674283 -0.66478739]\n",
      " [ 0.28124711 -0.41291877 -0.27552781 -0.11721705  0.69002401 -1.66683858\n",
      "  -0.68674283 -0.22213422]\n",
      " [-0.46227019 -1.2880988   0.54617903 -0.11721705  1.5088201  -0.80793246\n",
      "   1.45614916  0.37704271]\n",
      " [-0.31565863  0.46226126  0.54617903 -0.11721705  1.5088201  -0.80793246\n",
      "   1.45614916 -0.39161854]\n",
      " [ 0.25490644  1.33744129  0.54617903 -0.11721705 -0.94756818  1.76878589\n",
      "  -0.68674283 -0.30787334]\n",
      " [-0.27269084  0.46226126 -1.09723466 -0.11721705  0.69002401  0.90987978\n",
      "  -0.68674283  1.61627219]\n",
      " [ 0.31084727 -0.41291877  0.54617903 -0.11721705  1.5088201   1.76878589\n",
      "  -0.68674283  1.52554823]\n",
      " [ 0.66632475  0.46226126 -1.09723466 -0.11721705  0.69002401 -0.80793246\n",
      "   1.45614916 -0.89010184]\n",
      " [-0.5835627  -0.41291877 -1.09723466 -0.11721705 -0.12877209  0.90987978\n",
      "  -0.68674283 -0.60297546]\n",
      " [-0.48846492  0.46226126  1.36788588 -0.11721705 -0.94756818  0.90987978\n",
      "  -0.68674283 -0.35273684]\n",
      " [ 0.82289852 -1.2880988   0.54617903 -0.11721705  1.5088201   0.90987978\n",
      "   1.45614916  0.40695171]\n",
      " [ 0.32825276  1.33744129 -1.09723466 -0.11721705 -0.94756818  0.05097366\n",
      "   1.45614916  1.93430453]\n",
      " [-3.53877776  0.46226126  1.36788588 -0.11721705 -0.94756818  1.76878589\n",
      "  -0.68674283 -0.76946888]\n",
      " [-0.14985779 -0.41291877  0.54617903 -0.11721705  1.5088201   0.05097366\n",
      "  -0.68674283 -0.56409376]\n",
      " [-0.88063989 -0.41291877  0.54617903 -0.11721705  1.5088201  -0.80793246\n",
      "  -0.68674283 -0.44744867]\n",
      " [ 0.79167134 -0.41291877 -1.09723466 -0.11721705 -0.12877209  1.76878589\n",
      "  -0.68674283 -0.84723227]\n",
      " [ 0.23373876 -0.41291877  0.54617903 -0.11721705  1.5088201   1.76878589\n",
      "  -0.68674283 -0.69369942]\n",
      " [-0.03900857 -0.41291877  1.36788588 -0.11721705 -0.94756818  0.90987978\n",
      "  -0.68674283 -0.84822924]\n",
      " [ 0.7721361  -0.41291877  1.36788588 -0.11721705 -0.94756818 -0.80793246\n",
      "  -0.68674283  1.21050678]\n",
      " [ 0.67579507 -0.41291877  1.36788588 -0.11721705 -0.94756818 -1.66683858\n",
      "  -0.68674283 -0.80934754]\n",
      " [ 0.11470032  1.33744129 -1.09723466 -0.11721705 -0.94756818  0.05097366\n",
      "  -0.68674283 -0.33479144]\n",
      " [-0.08725747  1.33744129 -1.09723466 -0.11721705 -0.94756818  0.05097366\n",
      "  -0.68674283  2.47665436]\n",
      " [-0.2937396  -0.41291877 -1.09723466 -0.11721705  0.69002401 -0.80793246\n",
      "  -0.68674283  0.28332785]\n",
      " [ 0.65287604 -0.41291877 -1.09723466 -0.11721705  0.69002401 -1.66683858\n",
      "  -0.68674283 -0.4225245 ]\n",
      " [ 1.22484652 -1.2880988  -1.09723466 -0.11721705 -0.12877209  0.05097366\n",
      "  -0.68674283  0.64622369]\n",
      " [ 0.06310546 -0.41291877 -1.09723466 -0.11721705 -0.12877209 -1.66683858\n",
      "  -0.68674283  0.43885464]\n",
      " [ 0.12180846 -1.2880988   0.54617903 -0.11721705  1.5088201   0.05097366\n",
      "   1.45614916 -0.72859325]\n",
      " [ 0.3246095   0.46226126 -1.09723466 -0.11721705  0.69002401  0.05097366\n",
      "  -0.68674283 -0.73955988]\n",
      " [ 0.31809595 -0.41291877  1.36788588 -0.11721705 -0.94756818  0.90987978\n",
      "  -0.68674283 -0.92300173]\n",
      " [-0.37504272 -1.2880988   0.54617903 -0.11721705  1.5088201   0.05097366\n",
      "  -0.68674283  0.40595474]\n",
      " [-0.330556    0.46226126 -1.09723466 -0.11721705  0.69002401  0.05097366\n",
      "   1.45614916 -0.45741833]\n",
      " [-0.54624359 -1.2880988   1.36788588 -0.11721705  1.5088201   0.05097366\n",
      "   1.45614916 -0.42750934]\n",
      " [-0.05780326  1.33744129 -1.09723466 -0.11721705 -0.94756818 -0.80793246\n",
      "  -0.68674283  2.56937226]\n",
      " [ 0.5183294  -0.41291877  1.36788588 -0.11721705 -0.94756818 -0.80793246\n",
      "  -0.68674283 -0.76548101]\n",
      " [-3.53877776 -1.2880988  -1.09723466 -0.11721705 -0.12877209  1.76878589\n",
      "  -0.68674283 -0.08554979]\n",
      " [ 0.44835607  0.46226126  0.54617903 -0.11721705  1.5088201   0.90987978\n",
      "  -0.68674283 -0.64584502]\n",
      " [ 0.00568355  1.33744129  0.54617903 -0.11721705 -0.94756818 -0.80793246\n",
      "  -0.68674283 -0.57007556]\n",
      " [ 0.52306456 -0.41291877  0.54617903 -0.11721705  1.5088201  -0.80793246\n",
      "  -0.68674283 -0.78242944]\n",
      " [ 0.36900432 -0.41291877  1.36788588 -0.11721705 -0.94756818  0.90987978\n",
      "  -0.68674283  2.4248121 ]\n",
      " [ 0.72522235  0.46226126 -1.09723466 -0.11721705  0.69002401  0.05097366\n",
      "  -0.68674283 -0.33180054]\n",
      " [-0.58081133  0.46226126  0.54617903 -0.11721705  1.5088201  -1.66683858\n",
      "  -0.68674283 -0.70366908]\n",
      " [-0.97106738 -0.41291877  0.54617903 -0.11721705  1.5088201   0.05097366\n",
      "  -0.68674283  0.85658364]\n",
      " [-0.05055458 -0.41291877  0.54617903 -0.11721705  1.5088201   0.90987978\n",
      "  -0.68674283 -0.64584502]\n",
      " [ 0.76991988 -1.2880988  -1.09723466 -0.11721705 -0.12877209 -1.66683858\n",
      "   1.45614916 -0.64584502]\n",
      " [ 0.39149092  1.33744129 -1.09723466 -0.11721705 -0.94756818  0.05097366\n",
      "  -0.68674283  1.84557451]\n",
      " [-0.139128   -0.41291877  0.54617903 -0.11721705  1.5088201   0.90987978\n",
      "   1.45614916 -0.36669437]\n",
      " [ 0.96275329 -0.41291877 -1.09723466 -0.11721705 -0.12877209 -0.80793246\n",
      "  -0.68674283 -0.27696738]\n",
      " [-0.7372824   0.46226126  0.54617903 -0.11721705  1.5088201   0.90987978\n",
      "   1.45614916 -0.65681165]\n",
      " [ 0.19807372  1.33744129 -1.09723466 -0.11721705 -0.94756818  0.90987978\n",
      "  -0.68674283  0.9293622 ]\n",
      " [ 1.00138051 -0.41291877 -0.27552781 -0.11721705  0.69002401  0.05097366\n",
      "  -0.68674283  0.97223177]\n",
      " [ 0.62162723 -1.2880988   0.54617903 -0.11721705  1.5088201   1.76878589\n",
      "  -0.68674283  0.64323279]]\n"
     ]
    }
   ],
   "source": [
    "# Feature Scaling\n",
    "from sklearn.preprocessing import StandardScaler\n",
    "sc = StandardScaler()\n",
    "X_train_sd = sc.fit_transform(X_train)\n",
    "X_test_sd = sc.transform(X_test)\n",
    "print(X_train_sd)\n",
    "print(X_test_sd)"
   ]
  },
  {
   "cell_type": "markdown",
   "metadata": {
    "id": "JUyXp0JOhuh_"
   },
   "source": [
    "# Logistic Regression Model"
   ]
  },
  {
   "cell_type": "code",
   "execution_count": 39,
   "metadata": {
    "colab": {
     "base_uri": "https://localhost:8080/"
    },
    "executionInfo": {
     "elapsed": 3902,
     "status": "ok",
     "timestamp": 1607081776236,
     "user": {
      "displayName": "Jon Kartago Lamida",
      "photoUrl": "https://lh3.googleusercontent.com/a-/AOh14GgvXpFVDXQWCt_L0HHFykXlWBHPow8Lv6Dtuu48Wg=s64",
      "userId": "00428767085485926259"
     },
     "user_tz": -480
    },
    "id": "chkX0d4xhuiA",
    "outputId": "ee263ccc-2b53-4933-de9d-3cef78605081"
   },
   "outputs": [
    {
     "data": {
      "text/plain": [
       "LogisticRegression(random_state=0)"
      ]
     },
     "execution_count": 39,
     "metadata": {},
     "output_type": "execute_result"
    }
   ],
   "source": [
    "# Training the Logistic Regression model on the Training set\n",
    "from sklearn.linear_model import LogisticRegression\n",
    "classifier = LogisticRegression(random_state = 0)\n",
    "classifier.fit(X_train_sd, y_train)\n"
   ]
  },
  {
   "cell_type": "code",
   "execution_count": 40,
   "metadata": {
    "executionInfo": {
     "elapsed": 3896,
     "status": "ok",
     "timestamp": 1607081776237,
     "user": {
      "displayName": "Jon Kartago Lamida",
      "photoUrl": "https://lh3.googleusercontent.com/a-/AOh14GgvXpFVDXQWCt_L0HHFykXlWBHPow8Lv6Dtuu48Wg=s64",
      "userId": "00428767085485926259"
     },
     "user_tz": -480
    },
    "id": "pBxTP2AIhuiA"
   },
   "outputs": [],
   "source": [
    "\n",
    "y_pred_lgm = classifier.predict(X_test_sd)"
   ]
  },
  {
   "cell_type": "code",
   "execution_count": 41,
   "metadata": {
    "colab": {
     "base_uri": "https://localhost:8080/"
    },
    "executionInfo": {
     "elapsed": 3888,
     "status": "ok",
     "timestamp": 1607081776237,
     "user": {
      "displayName": "Jon Kartago Lamida",
      "photoUrl": "https://lh3.googleusercontent.com/a-/AOh14GgvXpFVDXQWCt_L0HHFykXlWBHPow8Lv6Dtuu48Wg=s64",
      "userId": "00428767085485926259"
     },
     "user_tz": -480
    },
    "id": "7Ca3ejY-huiA",
    "outputId": "cbfaed83-f3b2-4c3b-9356-f151f77fd8ba"
   },
   "outputs": [
    {
     "data": {
      "text/plain": [
       "array([1, 1, 1, 1, 1, 1, 0, 1, 1, 1, 1, 1, 1, 1, 1, 1, 1, 1, 1, 1, 0, 0,\n",
       "       1, 1, 0, 1, 1, 1, 1, 1, 1, 1, 1, 0, 1, 1, 1, 1, 1, 1, 1, 1, 1, 1,\n",
       "       1, 0, 1, 1, 1, 1, 1, 1, 1, 1, 1, 0, 1, 1, 1, 1, 1, 1, 1, 1, 1, 1,\n",
       "       0, 1, 1, 1, 1, 1, 0, 1, 1, 1, 1, 1, 1, 1, 1, 1, 1, 1, 1])"
      ]
     },
     "execution_count": 41,
     "metadata": {},
     "output_type": "execute_result"
    }
   ],
   "source": [
    "y_pred_lgm"
   ]
  },
  {
   "cell_type": "code",
   "execution_count": 42,
   "metadata": {
    "colab": {
     "base_uri": "https://localhost:8080/"
    },
    "executionInfo": {
     "elapsed": 3880,
     "status": "ok",
     "timestamp": 1607081776238,
     "user": {
      "displayName": "Jon Kartago Lamida",
      "photoUrl": "https://lh3.googleusercontent.com/a-/AOh14GgvXpFVDXQWCt_L0HHFykXlWBHPow8Lv6Dtuu48Wg=s64",
      "userId": "00428767085485926259"
     },
     "user_tz": -480
    },
    "id": "rJuUGMcQhuiA",
    "outputId": "e1081639-3b4e-449c-bd97-9476c7b02c2b"
   },
   "outputs": [
    {
     "name": "stdout",
     "output_type": "stream",
     "text": [
      "[[ 6  6]\n",
      " [ 3 70]]\n"
     ]
    }
   ],
   "source": [
    "from sklearn.metrics import confusion_matrix,accuracy_score\n",
    "cm_lgm = confusion_matrix(y_test, y_pred_lgm)\n",
    "print(cm_lgm)\n"
   ]
  },
  {
   "cell_type": "code",
   "execution_count": 43,
   "metadata": {
    "colab": {
     "base_uri": "https://localhost:8080/",
     "height": 0
    },
    "executionInfo": {
     "elapsed": 3871,
     "status": "ok",
     "timestamp": 1607081776238,
     "user": {
      "displayName": "Jon Kartago Lamida",
      "photoUrl": "https://lh3.googleusercontent.com/a-/AOh14GgvXpFVDXQWCt_L0HHFykXlWBHPow8Lv6Dtuu48Wg=s64",
      "userId": "00428767085485926259"
     },
     "user_tz": -480
    },
    "id": "6652TanshuiA",
    "outputId": "b827b96a-691a-48d2-f8c1-3d108f6fd24c"
   },
   "outputs": [
    {
     "data": {
      "text/plain": [
       "Text(66.5, 0.5, 'Truth')"
      ]
     },
     "execution_count": 43,
     "metadata": {},
     "output_type": "execute_result"
    },
    {
     "data": {
      "image/png": "[encoded data removed]",
      "text/plain": [
       "<Figure size 720x504 with 2 Axes>"
      ]
     },
     "metadata": {},
     "output_type": "display_data"
    }
   ],
   "source": [
    "import matplotlib.pyplot as plt  \n",
    "import numpy as np; np.random.seed(0)\n",
    "import seaborn as sns; sns.set()\n",
    "plt.figure(figsize = (10,7))\n",
    "sns.heatmap(cm_lgm, annot=True)\n",
    "plt.xlabel('Predicted')\n",
    "plt.ylabel('Truth')"
   ]
  },
  {
   "cell_type": "code",
   "execution_count": 44,
   "metadata": {
    "colab": {
     "base_uri": "https://localhost:8080/"
    },
    "executionInfo": {
     "elapsed": 3863,
     "status": "ok",
     "timestamp": 1607081776239,
     "user": {
      "displayName": "Jon Kartago Lamida",
      "photoUrl": "https://lh3.googleusercontent.com/a-/AOh14GgvXpFVDXQWCt_L0HHFykXlWBHPow8Lv6Dtuu48Wg=s64",
      "userId": "00428767085485926259"
     },
     "user_tz": -480
    },
    "id": "72a9DPaAhuiA",
    "outputId": "5616404b-cafc-4d5a-bc9e-ceb73cfa87f3"
   },
   "outputs": [
    {
     "name": "stdout",
     "output_type": "stream",
     "text": [
      "89.41176470588236\n"
     ]
    }
   ],
   "source": [
    "acc_glm=accuracy_score(y_test, y_pred_lgm)*100\n",
    "print(acc_glm)"
   ]
  },
  {
   "cell_type": "markdown",
   "metadata": {
    "id": "uY1IbRBghuiA"
   },
   "source": [
    "# K-NN Algorithom"
   ]
  },
  {
   "cell_type": "markdown",
   "metadata": {
    "id": "Oc8hb9D6huiA"
   },
   "source": [
    "Steps\n",
    "1.Create new data set without categorical variable and assigned name as data\n",
    "2.Create new data set Only with categorical variable and assigned name as lables\n",
    "3.Split the data set into 80% as Training and assigned name as x_train as well as 20% as Testing & Assigned name as x_test\n",
    "4.Split the labels set into 80% as Training and assigned name as y_train as well as 20 as Testing & Assigned name as y_test\n"
   ]
  },
  {
   "cell_type": "code",
   "execution_count": 45,
   "metadata": {
    "executionInfo": {
     "elapsed": 3856,
     "status": "ok",
     "timestamp": 1607081776239,
     "user": {
      "displayName": "Jon Kartago Lamida",
      "photoUrl": "https://lh3.googleusercontent.com/a-/AOh14GgvXpFVDXQWCt_L0HHFykXlWBHPow8Lv6Dtuu48Wg=s64",
      "userId": "00428767085485926259"
     },
     "user_tz": -480
    },
    "id": "KMJPnQT_huiA"
   },
   "outputs": [],
   "source": [
    "#Normalization\n",
    "from sklearn.preprocessing import MinMaxScaler\n",
    "scaler = MinMaxScaler ()\n",
    "x_train_normal = scaler.fit_transform(X_train)\n",
    "x_test_normal = scaler.fit_transform(X_test)"
   ]
  },
  {
   "cell_type": "code",
   "execution_count": 46,
   "metadata": {
    "colab": {
     "base_uri": "https://localhost:8080/"
    },
    "executionInfo": {
     "elapsed": 3850,
     "status": "ok",
     "timestamp": 1607081776240,
     "user": {
      "displayName": "Jon Kartago Lamida",
      "photoUrl": "https://lh3.googleusercontent.com/a-/AOh14GgvXpFVDXQWCt_L0HHFykXlWBHPow8Lv6Dtuu48Wg=s64",
      "userId": "00428767085485926259"
     },
     "user_tz": -480
    },
    "id": "EO6P2nbkhuiA",
    "outputId": "84c9f5f7-f41c-46a9-bb0d-533dcee832a5"
   },
   "outputs": [
    {
     "data": {
      "text/plain": [
       "KNeighborsClassifier(n_neighbors=10)"
      ]
     },
     "execution_count": 46,
     "metadata": {},
     "output_type": "execute_result"
    }
   ],
   "source": [
    "from sklearn import neighbors\n",
    "n_neighbors = 10\n",
    "weights = 'uniform'\n",
    "\n",
    "clf = neighbors.KNeighborsClassifier(n_neighbors, weights=weights)\n",
    "clf.fit(x_train_normal,y_train)"
   ]
  },
  {
   "cell_type": "code",
   "execution_count": 47,
   "metadata": {
    "colab": {
     "base_uri": "https://localhost:8080/"
    },
    "executionInfo": {
     "elapsed": 3843,
     "status": "ok",
     "timestamp": 1607081776240,
     "user": {
      "displayName": "Jon Kartago Lamida",
      "photoUrl": "https://lh3.googleusercontent.com/a-/AOh14GgvXpFVDXQWCt_L0HHFykXlWBHPow8Lv6Dtuu48Wg=s64",
      "userId": "00428767085485926259"
     },
     "user_tz": -480
    },
    "id": "QxXLSrb9huiA",
    "outputId": "51c85d44-4055-4e22-a701-22774be45dd7"
   },
   "outputs": [
    {
     "data": {
      "text/plain": [
       "array([1, 1, 1, 1, 1, 1, 1, 1, 1, 1, 1, 1, 1, 1, 1, 1, 1, 1, 1, 1, 0, 1,\n",
       "       1, 1, 1, 1, 1, 1, 1, 1, 1, 1, 1, 1, 1, 1, 1, 1, 1, 1, 1, 1, 1, 1,\n",
       "       1, 1, 1, 1, 1, 1, 1, 1, 1, 1, 1, 1, 1, 1, 1, 1, 1, 1, 1, 1, 1, 1,\n",
       "       1, 1, 1, 1, 1, 1, 1, 1, 1, 1, 1, 1, 1, 1, 1, 1, 1, 1, 1])"
      ]
     },
     "execution_count": 47,
     "metadata": {},
     "output_type": "execute_result"
    }
   ],
   "source": [
    "y_pre_knn= clf.predict(x_test_normal)\n",
    "y_pre_knn"
   ]
  },
  {
   "cell_type": "code",
   "execution_count": 48,
   "metadata": {
    "colab": {
     "base_uri": "https://localhost:8080/"
    },
    "executionInfo": {
     "elapsed": 3836,
     "status": "ok",
     "timestamp": 1607081776240,
     "user": {
      "displayName": "Jon Kartago Lamida",
      "photoUrl": "https://lh3.googleusercontent.com/a-/AOh14GgvXpFVDXQWCt_L0HHFykXlWBHPow8Lv6Dtuu48Wg=s64",
      "userId": "00428767085485926259"
     },
     "user_tz": -480
    },
    "id": "pLUmdNghhuiA",
    "outputId": "a5df10d1-026c-478c-9ca0-484e2dbc48ee"
   },
   "outputs": [
    {
     "name": "stdout",
     "output_type": "stream",
     "text": [
      "              precision    recall  f1-score   support\n",
      "\n",
      "           0       1.00      0.08      0.15        12\n",
      "           1       0.87      1.00      0.93        73\n",
      "\n",
      "    accuracy                           0.87        85\n",
      "   macro avg       0.93      0.54      0.54        85\n",
      "weighted avg       0.89      0.87      0.82        85\n",
      "\n"
     ]
    }
   ],
   "source": [
    "from sklearn.metrics import classification_report, confusion_matrix\n",
    "print(classification_report(y_test, y_pre_knn))\n"
   ]
  },
  {
   "cell_type": "code",
   "execution_count": 49,
   "metadata": {
    "colab": {
     "base_uri": "https://localhost:8080/"
    },
    "executionInfo": {
     "elapsed": 3830,
     "status": "ok",
     "timestamp": 1607081776241,
     "user": {
      "displayName": "Jon Kartago Lamida",
      "photoUrl": "https://lh3.googleusercontent.com/a-/AOh14GgvXpFVDXQWCt_L0HHFykXlWBHPow8Lv6Dtuu48Wg=s64",
      "userId": "00428767085485926259"
     },
     "user_tz": -480
    },
    "id": "cPeiYlK1huiA",
    "outputId": "03c727c3-9aec-431f-fd24-9129a298aba4"
   },
   "outputs": [
    {
     "data": {
      "text/plain": [
       "array([[ 1, 11],\n",
       "       [ 0, 73]])"
      ]
     },
     "execution_count": 49,
     "metadata": {},
     "output_type": "execute_result"
    }
   ],
   "source": [
    "cm_knn = confusion_matrix(y_test, y_pre_knn)\n",
    "cm_knn\n"
   ]
  },
  {
   "cell_type": "code",
   "execution_count": 50,
   "metadata": {
    "colab": {
     "base_uri": "https://localhost:8080/",
     "height": 0
    },
    "executionInfo": {
     "elapsed": 4192,
     "status": "ok",
     "timestamp": 1607081776611,
     "user": {
      "displayName": "Jon Kartago Lamida",
      "photoUrl": "https://lh3.googleusercontent.com/a-/AOh14GgvXpFVDXQWCt_L0HHFykXlWBHPow8Lv6Dtuu48Wg=s64",
      "userId": "00428767085485926259"
     },
     "user_tz": -480
    },
    "id": "8jQVmGiyhuiA",
    "outputId": "e98df3f5-c2d3-45d3-e9e8-e7fcad92d1b9"
   },
   "outputs": [
    {
     "data": {
      "text/plain": [
       "Text(66.5, 0.5, 'Truth')"
      ]
     },
     "execution_count": 50,
     "metadata": {},
     "output_type": "execute_result"
    },
    {
     "data": {
      "image/png": "[encoded data removed]",
      "text/plain": [
       "<Figure size 720x576 with 2 Axes>"
      ]
     },
     "metadata": {},
     "output_type": "display_data"
    }
   ],
   "source": [
    "import matplotlib.pyplot as plt  \n",
    "import numpy as np; np.random.seed(0)\n",
    "import seaborn as sns; sns.set()\n",
    "plt.figure(figsize = (10,8))\n",
    "sns.heatmap(cm_knn, annot=True)\n",
    "plt.xlabel('Predicted')\n",
    "plt.ylabel('Truth')"
   ]
  },
  {
   "cell_type": "code",
   "execution_count": 51,
   "metadata": {
    "colab": {
     "base_uri": "https://localhost:8080/"
    },
    "executionInfo": {
     "elapsed": 4183,
     "status": "ok",
     "timestamp": 1607081776612,
     "user": {
      "displayName": "Jon Kartago Lamida",
      "photoUrl": "https://lh3.googleusercontent.com/a-/AOh14GgvXpFVDXQWCt_L0HHFykXlWBHPow8Lv6Dtuu48Wg=s64",
      "userId": "00428767085485926259"
     },
     "user_tz": -480
    },
    "id": "bPbq7RDRhuiA",
    "outputId": "26395a87-069f-44ef-c65c-bb84807712fe"
   },
   "outputs": [
    {
     "name": "stdout",
     "output_type": "stream",
     "text": [
      "87.05882352941177\n"
     ]
    }
   ],
   "source": [
    "from sklearn.metrics import accuracy_score\n",
    "acc_knn=accuracy_score(y_test, y_pre_knn)*100\n",
    "print(acc_knn)"
   ]
  },
  {
   "cell_type": "markdown",
   "metadata": {
    "id": "0x3GEnLChuiA"
   },
   "source": [
    "# Decision Tree"
   ]
  },
  {
   "cell_type": "code",
   "execution_count": 52,
   "metadata": {
    "executionInfo": {
     "elapsed": 4176,
     "status": "ok",
     "timestamp": 1607081776613,
     "user": {
      "displayName": "Jon Kartago Lamida",
      "photoUrl": "https://lh3.googleusercontent.com/a-/AOh14GgvXpFVDXQWCt_L0HHFykXlWBHPow8Lv6Dtuu48Wg=s64",
      "userId": "00428767085485926259"
     },
     "user_tz": -480
    },
    "id": "DtAgWdcVhuiA"
   },
   "outputs": [],
   "source": [
    "from sklearn.tree import DecisionTreeClassifier\n",
    "clf = DecisionTreeClassifier()\n",
    "clf = clf.fit(X_train_sd,y_train)\n"
   ]
  },
  {
   "cell_type": "code",
   "execution_count": 53,
   "metadata": {
    "colab": {
     "base_uri": "https://localhost:8080/"
    },
    "executionInfo": {
     "elapsed": 4170,
     "status": "ok",
     "timestamp": 1607081776614,
     "user": {
      "displayName": "Jon Kartago Lamida",
      "photoUrl": "https://lh3.googleusercontent.com/a-/AOh14GgvXpFVDXQWCt_L0HHFykXlWBHPow8Lv6Dtuu48Wg=s64",
      "userId": "00428767085485926259"
     },
     "user_tz": -480
    },
    "id": "_HDhFvHShuiA",
    "outputId": "e72c93ea-020d-4a86-bfd8-7c290af50a13"
   },
   "outputs": [
    {
     "data": {
      "text/plain": [
       "array([1, 1, 1, 1, 1, 1, 0, 1, 1, 1, 1, 1, 0, 1, 0, 0, 1, 1, 1, 1, 0, 0,\n",
       "       1, 1, 0, 1, 1, 1, 1, 1, 1, 1, 1, 1, 1, 1, 1, 1, 1, 1, 1, 1, 1, 1,\n",
       "       1, 0, 1, 1, 1, 1, 1, 1, 1, 1, 1, 0, 0, 1, 1, 0, 1, 1, 1, 0, 1, 1,\n",
       "       0, 1, 1, 1, 1, 1, 0, 1, 1, 1, 1, 1, 0, 1, 0, 1, 1, 1, 1])"
      ]
     },
     "execution_count": 53,
     "metadata": {},
     "output_type": "execute_result"
    }
   ],
   "source": [
    "y_pred_DE = clf.predict(X_test_sd)\n",
    "y_pred_DE"
   ]
  },
  {
   "cell_type": "code",
   "execution_count": 54,
   "metadata": {
    "executionInfo": {
     "elapsed": 4163,
     "status": "ok",
     "timestamp": 1607081776614,
     "user": {
      "displayName": "Jon Kartago Lamida",
      "photoUrl": "https://lh3.googleusercontent.com/a-/AOh14GgvXpFVDXQWCt_L0HHFykXlWBHPow8Lv6Dtuu48Wg=s64",
      "userId": "00428767085485926259"
     },
     "user_tz": -480
    },
    "id": "x6CXFLe7huiA"
   },
   "outputs": [],
   "source": [
    "feature_cols=['age','clinical.T.Stage','clinical.N.Stage','clinical.M.Stage','Overall.Stage','Histology','gender','Survival.time']"
   ]
  },
  {
   "cell_type": "code",
   "execution_count": 55,
   "metadata": {
    "colab": {
     "base_uri": "https://localhost:8080/"
    },
    "executionInfo": {
     "elapsed": 4156,
     "status": "ok",
     "timestamp": 1607081776615,
     "user": {
      "displayName": "Jon Kartago Lamida",
      "photoUrl": "https://lh3.googleusercontent.com/a-/AOh14GgvXpFVDXQWCt_L0HHFykXlWBHPow8Lv6Dtuu48Wg=s64",
      "userId": "00428767085485926259"
     },
     "user_tz": -480
    },
    "id": "58Bpn8p_huiA",
    "outputId": "d1f9222b-97e9-42d6-ebbc-ae0a34bfe230"
   },
   "outputs": [
    {
     "data": {
      "text/plain": [
       "array([1, 1, 1, 1, 1, 1, 0, 1, 1, 1, 1, 1, 0, 1, 0, 0, 1, 1, 1, 1, 0, 0,\n",
       "       1, 1, 0, 1, 1, 1, 1, 1, 1, 1, 1, 1, 1, 1, 1, 1, 1, 1, 1, 1, 1, 1,\n",
       "       1, 0, 1, 1, 1, 1, 1, 1, 1, 1, 1, 0, 0, 1, 1, 0, 1, 1, 1, 0, 1, 1,\n",
       "       0, 1, 1, 1, 1, 1, 0, 1, 1, 1, 1, 1, 0, 1, 0, 1, 1, 1, 1])"
      ]
     },
     "execution_count": 55,
     "metadata": {},
     "output_type": "execute_result"
    }
   ],
   "source": [
    "y_pred_DE"
   ]
  },
  {
   "cell_type": "code",
   "execution_count": 56,
   "metadata": {
    "colab": {
     "base_uri": "https://localhost:8080/"
    },
    "executionInfo": {
     "elapsed": 4147,
     "status": "ok",
     "timestamp": 1607081776615,
     "user": {
      "displayName": "Jon Kartago Lamida",
      "photoUrl": "https://lh3.googleusercontent.com/a-/AOh14GgvXpFVDXQWCt_L0HHFykXlWBHPow8Lv6Dtuu48Wg=s64",
      "userId": "00428767085485926259"
     },
     "user_tz": -480
    },
    "id": "w9baGQj1huiA",
    "outputId": "e8eee604-972e-4d1c-da2f-7beff8b6aa97"
   },
   "outputs": [
    {
     "name": "stdout",
     "output_type": "stream",
     "text": [
      "[[ 8  4]\n",
      " [ 8 65]]\n"
     ]
    }
   ],
   "source": [
    "cm_tree = confusion_matrix(y_test, y_pred_DE)\n",
    "print(cm_tree)\n"
   ]
  },
  {
   "cell_type": "code",
   "execution_count": 57,
   "metadata": {
    "colab": {
     "base_uri": "https://localhost:8080/",
     "height": 0
    },
    "executionInfo": {
     "elapsed": 4723,
     "status": "ok",
     "timestamp": 1607081777198,
     "user": {
      "displayName": "Jon Kartago Lamida",
      "photoUrl": "https://lh3.googleusercontent.com/a-/AOh14GgvXpFVDXQWCt_L0HHFykXlWBHPow8Lv6Dtuu48Wg=s64",
      "userId": "00428767085485926259"
     },
     "user_tz": -480
    },
    "id": "8lG0p0zfhuiA",
    "outputId": "33ce4503-6983-4a1f-d8c6-2beaf8e9d768"
   },
   "outputs": [
    {
     "data": {
      "text/plain": [
       "Text(66.5, 0.5, 'Truth')"
      ]
     },
     "execution_count": 57,
     "metadata": {},
     "output_type": "execute_result"
    },
    {
     "data": {
      "image/png": "[encoded data removed]",
      "text/plain": [
       "<Figure size 720x504 with 2 Axes>"
      ]
     },
     "metadata": {},
     "output_type": "display_data"
    }
   ],
   "source": [
    "import matplotlib.pyplot as plt  \n",
    "import numpy as np; np.random.seed(0)\n",
    "import seaborn as sns; sns.set()\n",
    "plt.figure(figsize = (10,7))\n",
    "sns.heatmap(cm_tree, annot=True)\n",
    "plt.xlabel('Predicted')\n",
    "plt.ylabel('Truth')"
   ]
  },
  {
   "cell_type": "code",
   "execution_count": 58,
   "metadata": {
    "colab": {
     "base_uri": "https://localhost:8080/"
    },
    "executionInfo": {
     "elapsed": 4715,
     "status": "ok",
     "timestamp": 1607081777199,
     "user": {
      "displayName": "Jon Kartago Lamida",
      "photoUrl": "https://lh3.googleusercontent.com/a-/AOh14GgvXpFVDXQWCt_L0HHFykXlWBHPow8Lv6Dtuu48Wg=s64",
      "userId": "00428767085485926259"
     },
     "user_tz": -480
    },
    "id": "0asYcnAEhuiB",
    "outputId": "92f19951-0f98-4c1c-9d0d-284a5dbf5359"
   },
   "outputs": [
    {
     "name": "stdout",
     "output_type": "stream",
     "text": [
      "85.88235294117646\n"
     ]
    }
   ],
   "source": [
    "acc_dtree=accuracy_score(y_test, y_pred_DE)*100\n",
    "print(acc_dtree)"
   ]
  },
  {
   "cell_type": "markdown",
   "metadata": {
    "id": "g3HW66dShuiB"
   },
   "source": [
    "# Nive Bayes Model\n"
   ]
  },
  {
   "cell_type": "code",
   "execution_count": 59,
   "metadata": {
    "colab": {
     "base_uri": "https://localhost:8080/"
    },
    "executionInfo": {
     "elapsed": 4709,
     "status": "ok",
     "timestamp": 1607081777200,
     "user": {
      "displayName": "Jon Kartago Lamida",
      "photoUrl": "https://lh3.googleusercontent.com/a-/AOh14GgvXpFVDXQWCt_L0HHFykXlWBHPow8Lv6Dtuu48Wg=s64",
      "userId": "00428767085485926259"
     },
     "user_tz": -480
    },
    "id": "5nh6UHKqhuiB",
    "outputId": "0bdd5f03-e41c-4776-9d75-7d30cb572933"
   },
   "outputs": [
    {
     "data": {
      "text/plain": [
       "GaussianNB()"
      ]
     },
     "execution_count": 59,
     "metadata": {},
     "output_type": "execute_result"
    }
   ],
   "source": [
    "# Training the Naive Bayes model on the Training set\n",
    "from sklearn.naive_bayes import GaussianNB\n",
    "classifier = GaussianNB()\n",
    "classifier.fit(X_train_sd, y_train)\n"
   ]
  },
  {
   "cell_type": "code",
   "execution_count": 60,
   "metadata": {
    "colab": {
     "base_uri": "https://localhost:8080/"
    },
    "executionInfo": {
     "elapsed": 4702,
     "status": "ok",
     "timestamp": 1607081777201,
     "user": {
      "displayName": "Jon Kartago Lamida",
      "photoUrl": "https://lh3.googleusercontent.com/a-/AOh14GgvXpFVDXQWCt_L0HHFykXlWBHPow8Lv6Dtuu48Wg=s64",
      "userId": "00428767085485926259"
     },
     "user_tz": -480
    },
    "id": "Mu92kYUkhuiB",
    "outputId": "9413babe-d5a9-460c-a429-007dfe73f111"
   },
   "outputs": [
    {
     "data": {
      "text/plain": [
       "array([1, 1, 1, 1, 1, 1, 0, 1, 1, 1, 1, 1, 0, 1, 0, 0, 1, 1, 1, 1, 0, 0,\n",
       "       1, 1, 0, 1, 1, 1, 1, 1, 1, 1, 1, 1, 1, 1, 1, 1, 1, 1, 1, 1, 1, 1,\n",
       "       1, 0, 1, 1, 1, 1, 1, 1, 1, 1, 1, 0, 0, 1, 1, 0, 1, 1, 1, 0, 1, 1,\n",
       "       0, 1, 1, 1, 1, 1, 0, 1, 1, 1, 1, 1, 0, 1, 0, 1, 1, 1, 1])"
      ]
     },
     "execution_count": 60,
     "metadata": {},
     "output_type": "execute_result"
    }
   ],
   "source": [
    "#Predicting the Data Test set results\n",
    "y_pred_NB = clf.predict(X_test_sd)\n",
    "y_pred_NB "
   ]
  },
  {
   "cell_type": "code",
   "execution_count": 61,
   "metadata": {
    "colab": {
     "base_uri": "https://localhost:8080/"
    },
    "executionInfo": {
     "elapsed": 4695,
     "status": "ok",
     "timestamp": 1607081777201,
     "user": {
      "displayName": "Jon Kartago Lamida",
      "photoUrl": "https://lh3.googleusercontent.com/a-/AOh14GgvXpFVDXQWCt_L0HHFykXlWBHPow8Lv6Dtuu48Wg=s64",
      "userId": "00428767085485926259"
     },
     "user_tz": -480
    },
    "id": "Pg8grCBrhuiB",
    "outputId": "9e557626-b00f-41bb-eb69-0975cadc60d2"
   },
   "outputs": [
    {
     "name": "stdout",
     "output_type": "stream",
     "text": [
      "[[ 8  4]\n",
      " [ 8 65]]\n"
     ]
    }
   ],
   "source": [
    "cm_NB = confusion_matrix(y_test, y_pred_NB)\n",
    "print(cm_NB)\n"
   ]
  },
  {
   "cell_type": "code",
   "execution_count": 62,
   "metadata": {
    "colab": {
     "base_uri": "https://localhost:8080/",
     "height": 0
    },
    "executionInfo": {
     "elapsed": 5119,
     "status": "ok",
     "timestamp": 1607081777634,
     "user": {
      "displayName": "Jon Kartago Lamida",
      "photoUrl": "https://lh3.googleusercontent.com/a-/AOh14GgvXpFVDXQWCt_L0HHFykXlWBHPow8Lv6Dtuu48Wg=s64",
      "userId": "00428767085485926259"
     },
     "user_tz": -480
    },
    "id": "pNCD51nmhuiB",
    "outputId": "aeec4c84-ae59-4636-e64c-46d869b19c07"
   },
   "outputs": [
    {
     "data": {
      "text/plain": [
       "Text(66.5, 0.5, 'Truth')"
      ]
     },
     "execution_count": 62,
     "metadata": {},
     "output_type": "execute_result"
    },
    {
     "data": {
      "image/png": "[encoded data removed]",
      "text/plain": [
       "<Figure size 720x504 with 2 Axes>"
      ]
     },
     "metadata": {},
     "output_type": "display_data"
    }
   ],
   "source": [
    "plt.figure(figsize = (10,7))\n",
    "sns.heatmap(cm_NB, annot=True)\n",
    "plt.xlabel('Predicted')\n",
    "plt.ylabel('Truth')"
   ]
  },
  {
   "cell_type": "code",
   "execution_count": 63,
   "metadata": {
    "colab": {
     "base_uri": "https://localhost:8080/"
    },
    "executionInfo": {
     "elapsed": 5112,
     "status": "ok",
     "timestamp": 1607081777635,
     "user": {
      "displayName": "Jon Kartago Lamida",
      "photoUrl": "https://lh3.googleusercontent.com/a-/AOh14GgvXpFVDXQWCt_L0HHFykXlWBHPow8Lv6Dtuu48Wg=s64",
      "userId": "00428767085485926259"
     },
     "user_tz": -480
    },
    "id": "lcdWp6rbhuiB",
    "outputId": "a3b5ea40-f219-418a-f160-3ea9607dcb84"
   },
   "outputs": [
    {
     "name": "stdout",
     "output_type": "stream",
     "text": [
      "85.88235294117646\n"
     ]
    }
   ],
   "source": [
    "acc_nb=accuracy_score(y_test, y_pred_NB)*100\n",
    "print(acc_nb)"
   ]
  },
  {
   "cell_type": "markdown",
   "metadata": {
    "id": "_nD7MBNNhuiB"
   },
   "source": [
    "# RandomForest Model"
   ]
  },
  {
   "cell_type": "code",
   "execution_count": 64,
   "metadata": {
    "colab": {
     "base_uri": "https://localhost:8080/"
    },
    "executionInfo": {
     "elapsed": 5106,
     "status": "ok",
     "timestamp": 1607081777636,
     "user": {
      "displayName": "Jon Kartago Lamida",
      "photoUrl": "https://lh3.googleusercontent.com/a-/AOh14GgvXpFVDXQWCt_L0HHFykXlWBHPow8Lv6Dtuu48Wg=s64",
      "userId": "00428767085485926259"
     },
     "user_tz": -480
    },
    "id": "WYEF2LYZhuiB",
    "outputId": "778c06be-6178-46e3-e4a6-e391bcbaab64"
   },
   "outputs": [
    {
     "data": {
      "text/plain": [
       "RandomForestClassifier(criterion='entropy', random_state=0)"
      ]
     },
     "execution_count": 64,
     "metadata": {},
     "output_type": "execute_result"
    }
   ],
   "source": [
    "# Training the Random Forest Classification model on the Training set\n",
    "from sklearn.ensemble import RandomForestClassifier\n",
    "classifier = RandomForestClassifier(n_estimators = 100, criterion = 'entropy', random_state = 0)\n",
    "classifier.fit(X_train_sd, y_train)"
   ]
  },
  {
   "cell_type": "code",
   "execution_count": 65,
   "metadata": {
    "colab": {
     "base_uri": "https://localhost:8080/"
    },
    "executionInfo": {
     "elapsed": 5100,
     "status": "ok",
     "timestamp": 1607081777637,
     "user": {
      "displayName": "Jon Kartago Lamida",
      "photoUrl": "https://lh3.googleusercontent.com/a-/AOh14GgvXpFVDXQWCt_L0HHFykXlWBHPow8Lv6Dtuu48Wg=s64",
      "userId": "00428767085485926259"
     },
     "user_tz": -480
    },
    "id": "dkbmDPiQhuiB",
    "outputId": "7ded77ff-290f-4b50-b886-43d4e09f1b20"
   },
   "outputs": [
    {
     "data": {
      "text/plain": [
       "array([1, 1, 1, 1, 1, 1, 0, 1, 1, 1, 1, 1, 0, 1, 0, 0, 1, 1, 1, 1, 0, 0,\n",
       "       1, 1, 0, 1, 1, 1, 1, 1, 1, 1, 1, 1, 1, 1, 1, 1, 1, 1, 1, 1, 1, 1,\n",
       "       1, 0, 1, 1, 1, 1, 1, 1, 1, 1, 1, 0, 0, 1, 1, 0, 1, 1, 1, 0, 1, 1,\n",
       "       0, 1, 1, 1, 1, 1, 0, 1, 1, 1, 1, 1, 0, 1, 0, 1, 1, 1, 1])"
      ]
     },
     "execution_count": 65,
     "metadata": {},
     "output_type": "execute_result"
    }
   ],
   "source": [
    "#Predicting the Data Test set results\n",
    "y_pred_RF = clf.predict(X_test_sd)\n",
    "y_pred_RF "
   ]
  },
  {
   "cell_type": "code",
   "execution_count": 66,
   "metadata": {
    "colab": {
     "base_uri": "https://localhost:8080/"
    },
    "executionInfo": {
     "elapsed": 5093,
     "status": "ok",
     "timestamp": 1607081777637,
     "user": {
      "displayName": "Jon Kartago Lamida",
      "photoUrl": "https://lh3.googleusercontent.com/a-/AOh14GgvXpFVDXQWCt_L0HHFykXlWBHPow8Lv6Dtuu48Wg=s64",
      "userId": "00428767085485926259"
     },
     "user_tz": -480
    },
    "id": "Bxc5XkZ1huiB",
    "outputId": "5bdc7d1f-111d-4645-cd4a-fb3136375ec7"
   },
   "outputs": [
    {
     "name": "stdout",
     "output_type": "stream",
     "text": [
      "[[ 8  4]\n",
      " [ 8 65]]\n"
     ]
    }
   ],
   "source": [
    "cm_RF = confusion_matrix(y_test, y_pred_NB)\n",
    "print(cm_RF)"
   ]
  },
  {
   "cell_type": "code",
   "execution_count": 67,
   "metadata": {
    "colab": {
     "base_uri": "https://localhost:8080/",
     "height": 0
    },
    "executionInfo": {
     "elapsed": 5086,
     "status": "ok",
     "timestamp": 1607081777638,
     "user": {
      "displayName": "Jon Kartago Lamida",
      "photoUrl": "https://lh3.googleusercontent.com/a-/AOh14GgvXpFVDXQWCt_L0HHFykXlWBHPow8Lv6Dtuu48Wg=s64",
      "userId": "00428767085485926259"
     },
     "user_tz": -480
    },
    "id": "hReMzUvUhuiB",
    "outputId": "946d3ce7-d2f1-4f71-e82b-7d7547af3e7e"
   },
   "outputs": [
    {
     "data": {
      "text/plain": [
       "Text(66.5, 0.5, 'Truth')"
      ]
     },
     "execution_count": 67,
     "metadata": {},
     "output_type": "execute_result"
    },
    {
     "data": {
      "image/png": "[encoded data removed]",
      "text/plain": [
       "<Figure size 720x504 with 2 Axes>"
      ]
     },
     "metadata": {},
     "output_type": "display_data"
    }
   ],
   "source": [
    "plt.figure(figsize = (10,7))\n",
    "sns.heatmap(cm_RF, annot=True)\n",
    "plt.xlabel('Predicted')\n",
    "plt.ylabel('Truth')"
   ]
  },
  {
   "cell_type": "code",
   "execution_count": 68,
   "metadata": {
    "colab": {
     "base_uri": "https://localhost:8080/"
    },
    "executionInfo": {
     "elapsed": 5077,
     "status": "ok",
     "timestamp": 1607081777639,
     "user": {
      "displayName": "Jon Kartago Lamida",
      "photoUrl": "https://lh3.googleusercontent.com/a-/AOh14GgvXpFVDXQWCt_L0HHFykXlWBHPow8Lv6Dtuu48Wg=s64",
      "userId": "00428767085485926259"
     },
     "user_tz": -480
    },
    "id": "FpFegB1JhuiB",
    "outputId": "dc1dca2f-86cc-4abf-e082-b9d6230f57c5"
   },
   "outputs": [
    {
     "name": "stdout",
     "output_type": "stream",
     "text": [
      "85.88235294117646\n"
     ]
    }
   ],
   "source": [
    "acc_rf=accuracy_score(y_test, y_pred_RF)*100\n",
    "print(acc_rf)"
   ]
  },
  {
   "cell_type": "markdown",
   "metadata": {
    "id": "DBN-dBl9huiB"
   },
   "source": [
    "# Support Vector Machine (SVM)"
   ]
  },
  {
   "cell_type": "code",
   "execution_count": 69,
   "metadata": {
    "colab": {
     "base_uri": "https://localhost:8080/"
    },
    "executionInfo": {
     "elapsed": 5473,
     "status": "ok",
     "timestamp": 1607081778042,
     "user": {
      "displayName": "Jon Kartago Lamida",
      "photoUrl": "https://lh3.googleusercontent.com/a-/AOh14GgvXpFVDXQWCt_L0HHFykXlWBHPow8Lv6Dtuu48Wg=s64",
      "userId": "00428767085485926259"
     },
     "user_tz": -480
    },
    "id": "Etv-6LIHhuiB",
    "outputId": "f58795db-a819-4033-d49d-b108ecd5b8ee"
   },
   "outputs": [
    {
     "data": {
      "text/plain": [
       "SVC(random_state=0)"
      ]
     },
     "execution_count": 69,
     "metadata": {},
     "output_type": "execute_result"
    }
   ],
   "source": [
    "# Training the SVM model on the Training set\n",
    "from sklearn.svm import SVC\n",
    "classifier = SVC(kernel = 'rbf', random_state = 0)\n",
    "classifier.fit(X_train_sd, y_train)"
   ]
  },
  {
   "cell_type": "code",
   "execution_count": 70,
   "metadata": {
    "colab": {
     "base_uri": "https://localhost:8080/"
    },
    "executionInfo": {
     "elapsed": 5463,
     "status": "ok",
     "timestamp": 1607081778043,
     "user": {
      "displayName": "Jon Kartago Lamida",
      "photoUrl": "https://lh3.googleusercontent.com/a-/AOh14GgvXpFVDXQWCt_L0HHFykXlWBHPow8Lv6Dtuu48Wg=s64",
      "userId": "00428767085485926259"
     },
     "user_tz": -480
    },
    "id": "rBO24CTChuiB",
    "outputId": "2c7a3ef5-eaa6-4692-c93e-a85141d001bd"
   },
   "outputs": [
    {
     "data": {
      "text/plain": [
       "array([1, 1, 1, 1, 1, 1, 0, 1, 1, 1, 1, 1, 0, 1, 0, 0, 1, 1, 1, 1, 0, 0,\n",
       "       1, 1, 0, 1, 1, 1, 1, 1, 1, 1, 1, 1, 1, 1, 1, 1, 1, 1, 1, 1, 1, 1,\n",
       "       1, 0, 1, 1, 1, 1, 1, 1, 1, 1, 1, 0, 0, 1, 1, 0, 1, 1, 1, 0, 1, 1,\n",
       "       0, 1, 1, 1, 1, 1, 0, 1, 1, 1, 1, 1, 0, 1, 0, 1, 1, 1, 1])"
      ]
     },
     "execution_count": 70,
     "metadata": {},
     "output_type": "execute_result"
    }
   ],
   "source": [
    "#Predicting the Data Test set results\n",
    "y_pred_SVM = clf.predict(X_test_sd)\n",
    "y_pred_SVM "
   ]
  },
  {
   "cell_type": "code",
   "execution_count": 71,
   "metadata": {
    "colab": {
     "base_uri": "https://localhost:8080/"
    },
    "executionInfo": {
     "elapsed": 5456,
     "status": "ok",
     "timestamp": 1607081778043,
     "user": {
      "displayName": "Jon Kartago Lamida",
      "photoUrl": "https://lh3.googleusercontent.com/a-/AOh14GgvXpFVDXQWCt_L0HHFykXlWBHPow8Lv6Dtuu48Wg=s64",
      "userId": "00428767085485926259"
     },
     "user_tz": -480
    },
    "id": "IEXgI-jPhuiB",
    "outputId": "69ef5f1c-454c-4ca2-ee30-999b71cc0526"
   },
   "outputs": [
    {
     "name": "stdout",
     "output_type": "stream",
     "text": [
      "[[ 8  4]\n",
      " [ 8 65]]\n"
     ]
    }
   ],
   "source": [
    "cm_SVM = confusion_matrix(y_test, y_pred_SVM)\n",
    "print(cm_SVM)"
   ]
  },
  {
   "cell_type": "code",
   "execution_count": 72,
   "metadata": {
    "colab": {
     "base_uri": "https://localhost:8080/",
     "height": 0
    },
    "executionInfo": {
     "elapsed": 5450,
     "status": "ok",
     "timestamp": 1607081778045,
     "user": {
      "displayName": "Jon Kartago Lamida",
      "photoUrl": "https://lh3.googleusercontent.com/a-/AOh14GgvXpFVDXQWCt_L0HHFykXlWBHPow8Lv6Dtuu48Wg=s64",
      "userId": "00428767085485926259"
     },
     "user_tz": -480
    },
    "id": "6XmD8VGUhuiB",
    "outputId": "d0e76bda-4e07-46a8-ebeb-dd435a61554c"
   },
   "outputs": [
    {
     "data": {
      "text/plain": [
       "Text(66.5, 0.5, 'Truth')"
      ]
     },
     "execution_count": 72,
     "metadata": {},
     "output_type": "execute_result"
    },
    {
     "data": {
      "image/png": "[encoded data removed]",
      "text/plain": [
       "<Figure size 720x504 with 2 Axes>"
      ]
     },
     "metadata": {},
     "output_type": "display_data"
    }
   ],
   "source": [
    "plt.figure(figsize = (10,7))\n",
    "sns.heatmap(cm_SVM, annot=True)\n",
    "plt.xlabel('Predicted')\n",
    "plt.ylabel('Truth')"
   ]
  },
  {
   "cell_type": "code",
   "execution_count": 73,
   "metadata": {
    "colab": {
     "base_uri": "https://localhost:8080/"
    },
    "executionInfo": {
     "elapsed": 5443,
     "status": "ok",
     "timestamp": 1607081778046,
     "user": {
      "displayName": "Jon Kartago Lamida",
      "photoUrl": "https://lh3.googleusercontent.com/a-/AOh14GgvXpFVDXQWCt_L0HHFykXlWBHPow8Lv6Dtuu48Wg=s64",
      "userId": "00428767085485926259"
     },
     "user_tz": -480
    },
    "id": "3uW9aEKuhuiB",
    "outputId": "48d532ec-d6a6-44d3-bf02-133bd5d70be9"
   },
   "outputs": [
    {
     "name": "stdout",
     "output_type": "stream",
     "text": [
      "85.88235294117646\n"
     ]
    }
   ],
   "source": [
    "acc_svm=accuracy_score(y_test, y_pred_SVM)*100\n",
    "print(acc_svm)"
   ]
  },
  {
   "cell_type": "markdown",
   "metadata": {
    "id": "b_F3hCRdhuiB"
   },
   "source": [
    "# compare The All Model using sklearn"
   ]
  },
  {
   "cell_type": "code",
   "execution_count": 74,
   "metadata": {
    "executionInfo": {
     "elapsed": 5437,
     "status": "ok",
     "timestamp": 1607081778047,
     "user": {
      "displayName": "Jon Kartago Lamida",
      "photoUrl": "https://lh3.googleusercontent.com/a-/AOh14GgvXpFVDXQWCt_L0HHFykXlWBHPow8Lv6Dtuu48Wg=s64",
      "userId": "00428767085485926259"
     },
     "user_tz": -480
    },
    "id": "onE8TJ0HhuiB"
   },
   "outputs": [],
   "source": [
    "import pandas as pd\n",
    "from sklearn.ensemble import RandomForestClassifier\n",
    "from sklearn.linear_model import LogisticRegression\n",
    "from sklearn.svm import SVC\n",
    "from sklearn.ensemble import VotingClassifier"
   ]
  },
  {
   "cell_type": "code",
   "execution_count": 75,
   "metadata": {
    "colab": {
     "base_uri": "https://localhost:8080/"
    },
    "executionInfo": {
     "elapsed": 5793,
     "status": "ok",
     "timestamp": 1607081778409,
     "user": {
      "displayName": "Jon Kartago Lamida",
      "photoUrl": "https://lh3.googleusercontent.com/a-/AOh14GgvXpFVDXQWCt_L0HHFykXlWBHPow8Lv6Dtuu48Wg=s64",
      "userId": "00428767085485926259"
     },
     "user_tz": -480
    },
    "id": "YwIBn_COhuiB",
    "outputId": "ba1f2350-0c23-44b2-f8c7-2f428aa831fa"
   },
   "outputs": [
    {
     "data": {
      "text/plain": [
       "VotingClassifier(estimators=[('lr', LogisticRegression()),\n",
       "                             ('rf', RandomForestClassifier()), ('svc', SVC())])"
      ]
     },
     "execution_count": 75,
     "metadata": {},
     "output_type": "execute_result"
    }
   ],
   "source": [
    "#Comparing classifiers via voting\n",
    "log_clf = LogisticRegression()\n",
    "rnd_clf = RandomForestClassifier()\n",
    "svm_clf = SVC()\n",
    "voting_clf = VotingClassifier(\n",
    "estimators=[('lr', log_clf), ('rf', rnd_clf), ('svc', svm_clf)],\n",
    "voting='hard'\n",
    ")\n",
    "voting_clf.fit(X_train_sd, y_train)"
   ]
  },
  {
   "cell_type": "code",
   "execution_count": 76,
   "metadata": {
    "colab": {
     "base_uri": "https://localhost:8080/"
    },
    "executionInfo": {
     "elapsed": 6367,
     "status": "ok",
     "timestamp": 1607081778990,
     "user": {
      "displayName": "Jon Kartago Lamida",
      "photoUrl": "https://lh3.googleusercontent.com/a-/AOh14GgvXpFVDXQWCt_L0HHFykXlWBHPow8Lv6Dtuu48Wg=s64",
      "userId": "00428767085485926259"
     },
     "user_tz": -480
    },
    "id": "iqsYTwZXhuiC",
    "outputId": "f594e0f4-0e60-47ca-c8bf-c2e05385cdfb"
   },
   "outputs": [
    {
     "name": "stdout",
     "output_type": "stream",
     "text": [
      "LogisticRegression 0.8941176470588236\n",
      "RandomForestClassifier 0.9176470588235294\n",
      "SVC 0.8823529411764706\n",
      "VotingClassifier 0.8941176470588236\n"
     ]
    }
   ],
   "source": [
    "from sklearn.metrics import accuracy_score\n",
    "for clf in (log_clf, rnd_clf, svm_clf, voting_clf):\n",
    "    clf.fit(X_train_sd, y_train)\n",
    "    y_pred = clf.predict(X_test_sd)\n",
    "    print(clf.__class__.__name__, accuracy_score(y_test, y_pred))"
   ]
  },
  {
   "cell_type": "code",
   "execution_count": 77,
   "metadata": {
    "executionInfo": {
     "elapsed": 6360,
     "status": "ok",
     "timestamp": 1607081778991,
     "user": {
      "displayName": "Jon Kartago Lamida",
      "photoUrl": "https://lh3.googleusercontent.com/a-/AOh14GgvXpFVDXQWCt_L0HHFykXlWBHPow8Lv6Dtuu48Wg=s64",
      "userId": "00428767085485926259"
     },
     "user_tz": -480
    },
    "id": "twHt_9yfhuiC"
   },
   "outputs": [],
   "source": [
    "#I have used Logistic Regression, KNN, Decission Tree, Random Forest and SVM for analysis the data \n",
    "# Accuracy of Each model\n",
    "#Accuracy of Logistic Regression =89.41176470588236\n",
    "#Accuracy of knn=87.05882352941177\n",
    "#Accuracy of Decision Tree=89.41176470588236\n",
    "#Accuracy of Nive Bayes =85.88235294117646\n",
    "#Accuracy of Random Forest=85.88235294117646\n",
    "#Accuracy Of SVM=85.88235294117646\n",
    "#Here, Logistic Regression model Accuracy higher than other Machine learning model \n",
    "#so, We could suggest Logistic Regression Model best for this Prediction "
   ]
  },
  {
   "cell_type": "code",
   "execution_count": 78,
   "metadata": {
    "executionInfo": {
     "elapsed": 6355,
     "status": "ok",
     "timestamp": 1607081778992,
     "user": {
      "displayName": "Jon Kartago Lamida",
      "photoUrl": "https://lh3.googleusercontent.com/a-/AOh14GgvXpFVDXQWCt_L0HHFykXlWBHPow8Lv6Dtuu48Wg=s64",
      "userId": "00428767085485926259"
     },
     "user_tz": -480
    },
    "id": "sQcFs41mhuiC"
   },
   "outputs": [],
   "source": [
    "#Advantage of Logistic Regression Model for This Analysis\n",
    "# It has good Accuracy among them Moreover#\n",
    "#It has Good sensitivity to predict which pation has deadstatus.event ==1 So, It's good model for that"
   ]
  }
 ],
 "metadata": {
  "colab": {
   "name": "Classification Model.ipynb",
   "provenance": [],
   "toc_visible": true
  },
  "kernelspec": {
   "display_name": "Python 3",
   "language": "python",
   "name": "python3"
  },
  "language_info": {
   "codemirror_mode": {
    "name": "ipython",
    "version": 3
   },
   "file_extension": ".py",
   "mimetype": "text/x-python",
   "name": "python",
   "nbconvert_exporter": "python",
   "pygments_lexer": "ipython3",
   "version": "3.8.2"
  }
 },
 "nbformat": 4,
 "nbformat_minor": 4
}
