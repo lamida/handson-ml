{
 "cells": [
  {
   "cell_type": "markdown",
   "metadata": {
    "id": "d7L8bG_Dhuh5"
   },
   "source": [
    "# Can we predict death?\n",
    "## Predicting Cancer Survival Time\n",
    "\n",
    "* Jon Kartago Lamida - 1004796\n",
    "* Mohamad Ridzuan Yusop - 1004772\n",
    "* Muhammad Muhaimin Bin Omar - 1004914\n",
    "\n",
    "## Motivation\n",
    "\n",
    "WHO published some cancer key facts in 2018. From the facts, we can see the importance of eradicating cancer by improving detection, prediction and treatment. In this project, we want to apply our machine learning knowledge in selecting features and to predict non-small cell lung cancer (NSCLC) patients' survival time using some linear regression models. We will analyze the accuracy of different features and models."
   ]
  },
  {
   "cell_type": "markdown",
   "metadata": {
    "id": "GYMIoqaDkzrE"
   },
   "source": [
    "## Notebook Configuration\n",
    "\n",
    "Update the following configuration to adjust the notebook execution"
   ]
  },
  {
   "cell_type": "code",
   "execution_count": 124,
   "metadata": {
    "executionInfo": {
     "elapsed": 2706,
     "status": "ok",
     "timestamp": 1607419635666,
     "user": {
      "displayName": "Jon Kartago Lamida",
      "photoUrl": "https://lh3.googleusercontent.com/a-/AOh14GgvXpFVDXQWCt_L0HHFykXlWBHPow8Lv6Dtuu48Wg=s64",
      "userId": "00428767085485926259"
     },
     "user_tz": -480
    },
    "id": "QZ0OX9PrkzrE"
   },
   "outputs": [],
   "source": [
    "DATA_VERSION = \"v1\" # or \"v1|v2\" v1: Ridzuan Original Data clean up. v2: Jon clean up implementation with removed na.\n",
    "TEST_SIZE = 0.2\n",
    "RANDOM_STATE = 42\n",
    "\n",
    "DATA_URL = \"https://wiki.cancerimagingarchive.net/download/attachments/16056854/NSCLC%20Radiomics%20Lung1.clinical-version3-Oct%202019.csv?version=1&modificationDate=1572013183040&api=v2\"\n",
    "DOWNLOAD_PATH = \"data.csv\"\n",
    "\n",
    "COLUMN_NAMES = [\"PatientID\", \"Age\", \"Clinical.T.Stage\", \"Clinical.N.Stage\", \"Clinical.M.Stage\", \"Overall.Stage\", \n",
    "                \"Histology\", \"Gender\", \"Survival.Time\", \"DeadStatus.Event\"]"
   ]
  },
  {
   "cell_type": "markdown",
   "metadata": {
    "id": "oCYLBsJlkzrE"
   },
   "source": [
    "## Import and Download The Data"
   ]
  },
  {
   "cell_type": "code",
   "execution_count": 125,
   "metadata": {
    "executionInfo": {
     "elapsed": 4162,
     "status": "ok",
     "timestamp": 1607419637136,
     "user": {
      "displayName": "Jon Kartago Lamida",
      "photoUrl": "https://lh3.googleusercontent.com/a-/AOh14GgvXpFVDXQWCt_L0HHFykXlWBHPow8Lv6Dtuu48Wg=s64",
      "userId": "00428767085485926259"
     },
     "user_tz": -480
    },
    "id": "IgOUnzggkzrF"
   },
   "outputs": [],
   "source": [
    "import pandas as pd\n",
    "import numpy as np\n",
    "import os\n",
    "import tarfile\n",
    "import urllib.request\n",
    "\n",
    "def fetch_data(data_url = DATA_URL, download_path = DOWNLOAD_PATH):\n",
    "    urllib.request.urlretrieve(data_url, download_path)\n",
    "\n",
    "def load_data(download_path = DOWNLOAD_PATH):\n",
    "    return pd.read_csv(download_path)\n",
    "\n",
    "fetch_data()\n",
    "raw_data = load_data()\n",
    "\n",
    "raw_data.columns = COLUMN_NAMES"
   ]
  },
  {
   "cell_type": "markdown",
   "metadata": {
    "id": "dfFlbWOdhuh6"
   },
   "source": [
    "## Understand The Data"
   ]
  },
  {
   "cell_type": "code",
   "execution_count": 126,
   "metadata": {
    "colab": {
     "base_uri": "https://localhost:8080/"
    },
    "executionInfo": {
     "elapsed": 4147,
     "status": "ok",
     "timestamp": 1607419637137,
     "user": {
      "displayName": "Jon Kartago Lamida",
      "photoUrl": "https://lh3.googleusercontent.com/a-/AOh14GgvXpFVDXQWCt_L0HHFykXlWBHPow8Lv6Dtuu48Wg=s64",
      "userId": "00428767085485926259"
     },
     "user_tz": -480
    },
    "id": "-RCvLy-4huh6",
    "outputId": "ca6a2de0-c8f2-4ddc-8869-3d7d357f98a0"
   },
   "outputs": [
    {
     "name": "stdout",
     "output_type": "stream",
     "text": [
      "   PatientID      Age  Clinical.T.Stage  Clinical.N.Stage  Clinical.M.Stage  \\\n",
      "0  LUNG1-001  78.7515               2.0                 3                 0   \n",
      "1  LUNG1-002  83.8001               2.0                 0                 0   \n",
      "2  LUNG1-003  68.1807               2.0                 3                 0   \n",
      "3  LUNG1-004  70.8802               2.0                 1                 0   \n",
      "4  LUNG1-005  80.4819               4.0                 2                 0   \n",
      "\n",
      "  Overall.Stage                Histology Gender  Survival.Time  \\\n",
      "0          IIIb               large cell   male           2165   \n",
      "1             I  squamous cell carcinoma   male            155   \n",
      "2          IIIb               large cell   male            256   \n",
      "3            II  squamous cell carcinoma   male            141   \n",
      "4          IIIb  squamous cell carcinoma   male            353   \n",
      "\n",
      "   DeadStatus.Event  \n",
      "0                 1  \n",
      "1                 1  \n",
      "2                 1  \n",
      "3                 1  \n",
      "4                 1  \n",
      "<class 'pandas.core.frame.DataFrame'>\n",
      "RangeIndex: 422 entries, 0 to 421\n",
      "Data columns (total 10 columns):\n",
      " #   Column            Non-Null Count  Dtype  \n",
      "---  ------            --------------  -----  \n",
      " 0   PatientID         422 non-null    object \n",
      " 1   Age               400 non-null    float64\n",
      " 2   Clinical.T.Stage  421 non-null    float64\n",
      " 3   Clinical.N.Stage  422 non-null    int64  \n",
      " 4   Clinical.M.Stage  422 non-null    int64  \n",
      " 5   Overall.Stage     421 non-null    object \n",
      " 6   Histology         380 non-null    object \n",
      " 7   Gender            422 non-null    object \n",
      " 8   Survival.Time     422 non-null    int64  \n",
      " 9   DeadStatus.Event  422 non-null    int64  \n",
      "dtypes: float64(2), int64(4), object(4)\n",
      "memory usage: 33.1+ KB\n",
      "None\n"
     ]
    }
   ],
   "source": [
    "print(raw_data.head())\n",
    "print(raw_data.info())"
   ]
  },
  {
   "cell_type": "code",
   "execution_count": 127,
   "metadata": {
    "colab": {
     "base_uri": "https://localhost:8080/",
     "height": 204
    },
    "executionInfo": {
     "elapsed": 4142,
     "status": "ok",
     "timestamp": 1607419637142,
     "user": {
      "displayName": "Jon Kartago Lamida",
      "photoUrl": "https://lh3.googleusercontent.com/a-/AOh14GgvXpFVDXQWCt_L0HHFykXlWBHPow8Lv6Dtuu48Wg=s64",
      "userId": "00428767085485926259"
     },
     "user_tz": -480
    },
    "id": "Q-Dlys4Whuh7",
    "outputId": "afacad8a-eea4-49c2-f3ff-a00e776d5575"
   },
   "outputs": [
    {
     "data": {
      "text/plain": [
       "PatientID           False\n",
       "Age                  True\n",
       "Clinical.T.Stage     True\n",
       "Clinical.N.Stage    False\n",
       "Clinical.M.Stage    False\n",
       "Overall.Stage        True\n",
       "Histology            True\n",
       "Gender              False\n",
       "Survival.Time       False\n",
       "DeadStatus.Event    False\n",
       "dtype: bool"
      ]
     },
     "metadata": {},
     "output_type": "display_data"
    }
   ],
   "source": [
    "# Check Is there any  Non Avialable Data \n",
    "display(raw_data.isna().any())"
   ]
  },
  {
   "cell_type": "code",
   "execution_count": 128,
   "metadata": {
    "executionInfo": {
     "elapsed": 4135,
     "status": "ok",
     "timestamp": 1607419637143,
     "user": {
      "displayName": "Jon Kartago Lamida",
      "photoUrl": "https://lh3.googleusercontent.com/a-/AOh14GgvXpFVDXQWCt_L0HHFykXlWBHPow8Lv6Dtuu48Wg=s64",
      "userId": "00428767085485926259"
     },
     "user_tz": -480
    },
    "id": "BMWg8cHOhuh7"
   },
   "outputs": [],
   "source": [
    "# Removing Non Availabile Datas from the raw\n",
    "raw_data = raw_data.fillna(-1)"
   ]
  },
  {
   "cell_type": "code",
   "execution_count": 129,
   "metadata": {
    "colab": {
     "base_uri": "https://localhost:8080/",
     "height": 204
    },
    "executionInfo": {
     "elapsed": 4130,
     "status": "ok",
     "timestamp": 1607419637145,
     "user": {
      "displayName": "Jon Kartago Lamida",
      "photoUrl": "https://lh3.googleusercontent.com/a-/AOh14GgvXpFVDXQWCt_L0HHFykXlWBHPow8Lv6Dtuu48Wg=s64",
      "userId": "00428767085485926259"
     },
     "user_tz": -480
    },
    "id": "j_b3gub-huh7",
    "outputId": "9f639d31-ff1c-4ede-cb47-060631e8d132"
   },
   "outputs": [
    {
     "data": {
      "text/plain": [
       "PatientID           False\n",
       "Age                 False\n",
       "Clinical.T.Stage    False\n",
       "Clinical.N.Stage    False\n",
       "Clinical.M.Stage    False\n",
       "Overall.Stage       False\n",
       "Histology           False\n",
       "Gender              False\n",
       "Survival.Time       False\n",
       "DeadStatus.Event    False\n",
       "dtype: bool"
      ]
     },
     "metadata": {},
     "output_type": "display_data"
    }
   ],
   "source": [
    "# Check Is there any Non Available Data \n",
    "display(raw_data.isna().any())"
   ]
  },
  {
   "cell_type": "code",
   "execution_count": 130,
   "metadata": {
    "colab": {
     "base_uri": "https://localhost:8080/",
     "height": 296
    },
    "executionInfo": {
     "elapsed": 5406,
     "status": "ok",
     "timestamp": 1607419638433,
     "user": {
      "displayName": "Jon Kartago Lamida",
      "photoUrl": "https://lh3.googleusercontent.com/a-/AOh14GgvXpFVDXQWCt_L0HHFykXlWBHPow8Lv6Dtuu48Wg=s64",
      "userId": "00428767085485926259"
     },
     "user_tz": -480
    },
    "id": "E7kEdc_shuh7",
    "outputId": "b9a30457-e7a7-4745-913a-619ef54d42c9"
   },
   "outputs": [
    {
     "data": {
      "text/plain": [
       "<AxesSubplot:xlabel='DeadStatus.Event', ylabel='count'>"
      ]
     },
     "execution_count": 130,
     "metadata": {},
     "output_type": "execute_result"
    },
    {
     "data": {
      "image/png": "[encoded data removed]",
      "text/plain": [
       "<Figure size 432x288 with 1 Axes>"
      ]
     },
     "metadata": {},
     "output_type": "display_data"
    }
   ],
   "source": [
    "# Now lets check the class distributions\n",
    "import seaborn as sns\n",
    "raw_data[\"DeadStatus.Event\"].value_counts()\n",
    "sns.countplot(x=\"DeadStatus.Event\",data=raw_data)"
   ]
  },
  {
   "cell_type": "code",
   "execution_count": 131,
   "metadata": {
    "colab": {
     "base_uri": "https://localhost:8080/"
    },
    "executionInfo": {
     "elapsed": 5399,
     "status": "ok",
     "timestamp": 1607419638434,
     "user": {
      "displayName": "Jon Kartago Lamida",
      "photoUrl": "https://lh3.googleusercontent.com/a-/AOh14GgvXpFVDXQWCt_L0HHFykXlWBHPow8Lv6Dtuu48Wg=s64",
      "userId": "00428767085485926259"
     },
     "user_tz": -480
    },
    "id": "Mg_6u4HnkzrI",
    "outputId": "27689115-51e6-4a7b-9810-66ba739d4a24"
   },
   "outputs": [
    {
     "data": {
      "text/plain": [
       "303     4\n",
       "515     3\n",
       "220     3\n",
       "98      3\n",
       "249     3\n",
       "       ..\n",
       "336     1\n",
       "337     1\n",
       "1362    1\n",
       "1738    1\n",
       "512     1\n",
       "Name: Survival.Time, Length: 377, dtype: int64"
      ]
     },
     "execution_count": 131,
     "metadata": {},
     "output_type": "execute_result"
    }
   ],
   "source": [
    "raw_data['Survival.Time'].value_counts()"
   ]
  },
  {
   "cell_type": "code",
   "execution_count": 132,
   "metadata": {
    "colab": {
     "base_uri": "https://localhost:8080/",
     "height": 296
    },
    "executionInfo": {
     "elapsed": 5392,
     "status": "ok",
     "timestamp": 1607419638435,
     "user": {
      "displayName": "Jon Kartago Lamida",
      "photoUrl": "https://lh3.googleusercontent.com/a-/AOh14GgvXpFVDXQWCt_L0HHFykXlWBHPow8Lv6Dtuu48Wg=s64",
      "userId": "00428767085485926259"
     },
     "user_tz": -480
    },
    "id": "T4L3DSZ9huh7",
    "outputId": "393b60af-5986-46c1-f690-0cfde0c753ee"
   },
   "outputs": [
    {
     "data": {
      "text/plain": [
       "<AxesSubplot:xlabel='Histology', ylabel='count'>"
      ]
     },
     "execution_count": 132,
     "metadata": {},
     "output_type": "execute_result"
    },
    {
     "data": {
      "image/png": "[encoded data removed]",
      "text/plain": [
       "<Figure size 432x288 with 1 Axes>"
      ]
     },
     "metadata": {},
     "output_type": "display_data"
    }
   ],
   "source": [
    "raw_data['Histology'].value_counts()\n",
    "sns.countplot(x=\"Histology\",data=raw_data)"
   ]
  },
  {
   "cell_type": "code",
   "execution_count": 133,
   "metadata": {
    "colab": {
     "base_uri": "https://localhost:8080/",
     "height": 297
    },
    "executionInfo": {
     "elapsed": 5386,
     "status": "ok",
     "timestamp": 1607419638436,
     "user": {
      "displayName": "Jon Kartago Lamida",
      "photoUrl": "https://lh3.googleusercontent.com/a-/AOh14GgvXpFVDXQWCt_L0HHFykXlWBHPow8Lv6Dtuu48Wg=s64",
      "userId": "00428767085485926259"
     },
     "user_tz": -480
    },
    "id": "PaphulY9huh7",
    "outputId": "6b99eafe-d1eb-4737-cd58-a3809d930717"
   },
   "outputs": [
    {
     "data": {
      "text/plain": [
       "<AxesSubplot:xlabel='Gender', ylabel='count'>"
      ]
     },
     "execution_count": 133,
     "metadata": {},
     "output_type": "execute_result"
    },
    {
     "data": {
      "image/png": "[encoded data removed]",
      "text/plain": [
       "<Figure size 432x288 with 1 Axes>"
      ]
     },
     "metadata": {},
     "output_type": "display_data"
    }
   ],
   "source": [
    "raw_data['Gender'].value_counts()\n",
    "sns.countplot(x=\"Gender\",data=raw_data)"
   ]
  },
  {
   "cell_type": "code",
   "execution_count": 134,
   "metadata": {
    "colab": {
     "base_uri": "https://localhost:8080/",
     "height": 142
    },
    "executionInfo": {
     "elapsed": 5380,
     "status": "ok",
     "timestamp": 1607419638437,
     "user": {
      "displayName": "Jon Kartago Lamida",
      "photoUrl": "https://lh3.googleusercontent.com/a-/AOh14GgvXpFVDXQWCt_L0HHFykXlWBHPow8Lv6Dtuu48Wg=s64",
      "userId": "00428767085485926259"
     },
     "user_tz": -480
    },
    "id": "PA2D1chnhuh8",
    "outputId": "70870b01-4fd6-430c-814d-ab92dc0031fe"
   },
   "outputs": [
    {
     "data": {
      "text/html": [
       "<div>\n",
       "<style scoped>\n",
       "    .dataframe tbody tr th:only-of-type {\n",
       "        vertical-align: middle;\n",
       "    }\n",
       "\n",
       "    .dataframe tbody tr th {\n",
       "        vertical-align: top;\n",
       "    }\n",
       "\n",
       "    .dataframe thead th {\n",
       "        text-align: right;\n",
       "    }\n",
       "</style>\n",
       "<table border=\"1\" class=\"dataframe\">\n",
       "  <thead>\n",
       "    <tr style=\"text-align: right;\">\n",
       "      <th>DeadStatus.Event</th>\n",
       "      <th>0</th>\n",
       "      <th>1</th>\n",
       "    </tr>\n",
       "    <tr>\n",
       "      <th>Gender</th>\n",
       "      <th></th>\n",
       "      <th></th>\n",
       "    </tr>\n",
       "  </thead>\n",
       "  <tbody>\n",
       "    <tr>\n",
       "      <th>female</th>\n",
       "      <td>22</td>\n",
       "      <td>110</td>\n",
       "    </tr>\n",
       "    <tr>\n",
       "      <th>male</th>\n",
       "      <td>27</td>\n",
       "      <td>263</td>\n",
       "    </tr>\n",
       "  </tbody>\n",
       "</table>\n",
       "</div>"
      ],
      "text/plain": [
       "DeadStatus.Event   0    1\n",
       "Gender                   \n",
       "female            22  110\n",
       "male              27  263"
      ]
     },
     "execution_count": 134,
     "metadata": {},
     "output_type": "execute_result"
    }
   ],
   "source": [
    "pd.crosstab(index=raw_data['Gender'], columns=raw_data['DeadStatus.Event'])"
   ]
  },
  {
   "cell_type": "code",
   "execution_count": 135,
   "metadata": {
    "colab": {
     "base_uri": "https://localhost:8080/",
     "height": 142
    },
    "executionInfo": {
     "elapsed": 5373,
     "status": "ok",
     "timestamp": 1607419638438,
     "user": {
      "displayName": "Jon Kartago Lamida",
      "photoUrl": "https://lh3.googleusercontent.com/a-/AOh14GgvXpFVDXQWCt_L0HHFykXlWBHPow8Lv6Dtuu48Wg=s64",
      "userId": "00428767085485926259"
     },
     "user_tz": -480
    },
    "id": "1LEoh_JPhuh8",
    "outputId": "15c33171-c9b2-4f57-807a-2a119d5b5481"
   },
   "outputs": [
    {
     "data": {
      "text/html": [
       "<div>\n",
       "<style scoped>\n",
       "    .dataframe tbody tr th:only-of-type {\n",
       "        vertical-align: middle;\n",
       "    }\n",
       "\n",
       "    .dataframe tbody tr th {\n",
       "        vertical-align: top;\n",
       "    }\n",
       "\n",
       "    .dataframe thead th {\n",
       "        text-align: right;\n",
       "    }\n",
       "</style>\n",
       "<table border=\"1\" class=\"dataframe\">\n",
       "  <thead>\n",
       "    <tr style=\"text-align: right;\">\n",
       "      <th>Clinical.T.Stage</th>\n",
       "      <th>-1.0</th>\n",
       "      <th>1.0</th>\n",
       "      <th>2.0</th>\n",
       "      <th>3.0</th>\n",
       "      <th>4.0</th>\n",
       "      <th>5.0</th>\n",
       "    </tr>\n",
       "    <tr>\n",
       "      <th>Gender</th>\n",
       "      <th></th>\n",
       "      <th></th>\n",
       "      <th></th>\n",
       "      <th></th>\n",
       "      <th></th>\n",
       "      <th></th>\n",
       "    </tr>\n",
       "  </thead>\n",
       "  <tbody>\n",
       "    <tr>\n",
       "      <th>female</th>\n",
       "      <td>1</td>\n",
       "      <td>35</td>\n",
       "      <td>45</td>\n",
       "      <td>15</td>\n",
       "      <td>35</td>\n",
       "      <td>1</td>\n",
       "    </tr>\n",
       "    <tr>\n",
       "      <th>male</th>\n",
       "      <td>0</td>\n",
       "      <td>58</td>\n",
       "      <td>111</td>\n",
       "      <td>38</td>\n",
       "      <td>82</td>\n",
       "      <td>1</td>\n",
       "    </tr>\n",
       "  </tbody>\n",
       "</table>\n",
       "</div>"
      ],
      "text/plain": [
       "Clinical.T.Stage  -1.0   1.0   2.0   3.0   4.0   5.0\n",
       "Gender                                              \n",
       "female               1    35    45    15    35     1\n",
       "male                 0    58   111    38    82     1"
      ]
     },
     "execution_count": 135,
     "metadata": {},
     "output_type": "execute_result"
    }
   ],
   "source": [
    "pd.crosstab(index=raw_data['Gender'], columns=raw_data['Clinical.T.Stage'])"
   ]
  },
  {
   "cell_type": "code",
   "execution_count": 136,
   "metadata": {
    "colab": {
     "base_uri": "https://localhost:8080/",
     "height": 142
    },
    "executionInfo": {
     "elapsed": 5365,
     "status": "ok",
     "timestamp": 1607419638439,
     "user": {
      "displayName": "Jon Kartago Lamida",
      "photoUrl": "https://lh3.googleusercontent.com/a-/AOh14GgvXpFVDXQWCt_L0HHFykXlWBHPow8Lv6Dtuu48Wg=s64",
      "userId": "00428767085485926259"
     },
     "user_tz": -480
    },
    "id": "wUpA8c5ykzrL",
    "outputId": "0c1f01ec-85f8-4e52-ed60-ccad8caa8c3f"
   },
   "outputs": [
    {
     "data": {
      "text/html": [
       "<div>\n",
       "<style scoped>\n",
       "    .dataframe tbody tr th:only-of-type {\n",
       "        vertical-align: middle;\n",
       "    }\n",
       "\n",
       "    .dataframe tbody tr th {\n",
       "        vertical-align: top;\n",
       "    }\n",
       "\n",
       "    .dataframe thead th {\n",
       "        text-align: right;\n",
       "    }\n",
       "</style>\n",
       "<table border=\"1\" class=\"dataframe\">\n",
       "  <thead>\n",
       "    <tr style=\"text-align: right;\">\n",
       "      <th>DeadStatus.Event</th>\n",
       "      <th>0</th>\n",
       "      <th>1</th>\n",
       "    </tr>\n",
       "    <tr>\n",
       "      <th>Gender</th>\n",
       "      <th></th>\n",
       "      <th></th>\n",
       "    </tr>\n",
       "  </thead>\n",
       "  <tbody>\n",
       "    <tr>\n",
       "      <th>female</th>\n",
       "      <td>22</td>\n",
       "      <td>110</td>\n",
       "    </tr>\n",
       "    <tr>\n",
       "      <th>male</th>\n",
       "      <td>27</td>\n",
       "      <td>263</td>\n",
       "    </tr>\n",
       "  </tbody>\n",
       "</table>\n",
       "</div>"
      ],
      "text/plain": [
       "DeadStatus.Event   0    1\n",
       "Gender                   \n",
       "female            22  110\n",
       "male              27  263"
      ]
     },
     "execution_count": 136,
     "metadata": {},
     "output_type": "execute_result"
    }
   ],
   "source": [
    "pd.crosstab(index=raw_data['Gender'], columns=raw_data['DeadStatus.Event'])"
   ]
  },
  {
   "cell_type": "code",
   "execution_count": 137,
   "metadata": {
    "colab": {
     "base_uri": "https://localhost:8080/",
     "height": 296
    },
    "executionInfo": {
     "elapsed": 5358,
     "status": "ok",
     "timestamp": 1607419638441,
     "user": {
      "displayName": "Jon Kartago Lamida",
      "photoUrl": "https://lh3.googleusercontent.com/a-/AOh14GgvXpFVDXQWCt_L0HHFykXlWBHPow8Lv6Dtuu48Wg=s64",
      "userId": "00428767085485926259"
     },
     "user_tz": -480
    },
    "id": "4D1i1Hy7huh8",
    "outputId": "5aadba31-3f27-45d1-c44b-63b084d0658f"
   },
   "outputs": [
    {
     "data": {
      "text/plain": [
       "<AxesSubplot:xlabel='Age'>"
      ]
     },
     "execution_count": 137,
     "metadata": {},
     "output_type": "execute_result"
    },
    {
     "data": {
      "image/png": "[encoded data removed]",
      "text/plain": [
       "<Figure size 432x288 with 1 Axes>"
      ]
     },
     "metadata": {},
     "output_type": "display_data"
    }
   ],
   "source": [
    "import seaborn as sns\n",
    "import matplotlib.pyplot as plt  \n",
    "sns.boxplot(x=raw_data.Age)"
   ]
  },
  {
   "cell_type": "code",
   "execution_count": 138,
   "metadata": {
    "colab": {
     "base_uri": "https://localhost:8080/",
     "height": 296
    },
    "executionInfo": {
     "elapsed": 5351,
     "status": "ok",
     "timestamp": 1607419638442,
     "user": {
      "displayName": "Jon Kartago Lamida",
      "photoUrl": "https://lh3.googleusercontent.com/a-/AOh14GgvXpFVDXQWCt_L0HHFykXlWBHPow8Lv6Dtuu48Wg=s64",
      "userId": "00428767085485926259"
     },
     "user_tz": -480
    },
    "id": "0WYy1YY5kzrN",
    "outputId": "53ce9338-4fa6-4e09-9999-45f09dc65c47"
   },
   "outputs": [
    {
     "data": {
      "text/plain": [
       "<AxesSubplot:xlabel='Clinical.T.Stage', ylabel='count'>"
      ]
     },
     "execution_count": 138,
     "metadata": {},
     "output_type": "execute_result"
    },
    {
     "data": {
      "image/png": "[encoded data removed]",
      "text/plain": [
       "<Figure size 432x288 with 1 Axes>"
      ]
     },
     "metadata": {},
     "output_type": "display_data"
    }
   ],
   "source": [
    "raw_data[\"Clinical.T.Stage\"].value_counts()\n",
    "sns.countplot(x=\"Clinical.T.Stage\",data=raw_data)"
   ]
  },
  {
   "cell_type": "code",
   "execution_count": 139,
   "metadata": {
    "colab": {
     "base_uri": "https://localhost:8080/",
     "height": 296
    },
    "executionInfo": {
     "elapsed": 5345,
     "status": "ok",
     "timestamp": 1607419638443,
     "user": {
      "displayName": "Jon Kartago Lamida",
      "photoUrl": "https://lh3.googleusercontent.com/a-/AOh14GgvXpFVDXQWCt_L0HHFykXlWBHPow8Lv6Dtuu48Wg=s64",
      "userId": "00428767085485926259"
     },
     "user_tz": -480
    },
    "id": "cOpoj5KvkzrN",
    "outputId": "c0dfbc00-581b-44d6-cb72-4c8075c2ecd1"
   },
   "outputs": [
    {
     "data": {
      "text/plain": [
       "<AxesSubplot:xlabel='Clinical.M.Stage', ylabel='count'>"
      ]
     },
     "execution_count": 139,
     "metadata": {},
     "output_type": "execute_result"
    },
    {
     "data": {
      "image/png": "[encoded data removed]",
      "text/plain": [
       "<Figure size 432x288 with 1 Axes>"
      ]
     },
     "metadata": {},
     "output_type": "display_data"
    }
   ],
   "source": [
    "raw_data[\"Clinical.M.Stage\"].value_counts()\n",
    "sns.countplot(x=\"Clinical.M.Stage\",data=raw_data)\n",
    "# There are too many 0 stage in this attribute. We might need to drop this feature."
   ]
  },
  {
   "cell_type": "code",
   "execution_count": 140,
   "metadata": {
    "colab": {
     "base_uri": "https://localhost:8080/",
     "height": 296
    },
    "executionInfo": {
     "elapsed": 6717,
     "status": "ok",
     "timestamp": 1607419639821,
     "user": {
      "displayName": "Jon Kartago Lamida",
      "photoUrl": "https://lh3.googleusercontent.com/a-/AOh14GgvXpFVDXQWCt_L0HHFykXlWBHPow8Lv6Dtuu48Wg=s64",
      "userId": "00428767085485926259"
     },
     "user_tz": -480
    },
    "id": "47HrmNwChuh8",
    "outputId": "2bfbeade-8d45-448e-cfca-5dcf2d5a712c"
   },
   "outputs": [
    {
     "data": {
      "text/plain": [
       "<AxesSubplot:xlabel='Clinical.N.Stage', ylabel='count'>"
      ]
     },
     "execution_count": 140,
     "metadata": {},
     "output_type": "execute_result"
    },
    {
     "data": {
      "image/png": "[encoded data removed]",
      "text/plain": [
       "<Figure size 432x288 with 1 Axes>"
      ]
     },
     "metadata": {},
     "output_type": "display_data"
    }
   ],
   "source": [
    "raw_data[\"Clinical.N.Stage\"].value_counts()\n",
    "sns.countplot(x=\"Clinical.N.Stage\",data=raw_data)"
   ]
  },
  {
   "cell_type": "code",
   "execution_count": 141,
   "metadata": {
    "colab": {
     "base_uri": "https://localhost:8080/",
     "height": 235
    },
    "executionInfo": {
     "elapsed": 6711,
     "status": "ok",
     "timestamp": 1607419639822,
     "user": {
      "displayName": "Jon Kartago Lamida",
      "photoUrl": "https://lh3.googleusercontent.com/a-/AOh14GgvXpFVDXQWCt_L0HHFykXlWBHPow8Lv6Dtuu48Wg=s64",
      "userId": "00428767085485926259"
     },
     "user_tz": -480
    },
    "id": "SQjeQ7dYhuh8",
    "outputId": "562f7740-fbf6-4231-f2c2-b99df94ed79a"
   },
   "outputs": [
    {
     "data": {
      "text/html": [
       "<div>\n",
       "<style scoped>\n",
       "    .dataframe tbody tr th:only-of-type {\n",
       "        vertical-align: middle;\n",
       "    }\n",
       "\n",
       "    .dataframe tbody tr th {\n",
       "        vertical-align: top;\n",
       "    }\n",
       "\n",
       "    .dataframe thead th {\n",
       "        text-align: right;\n",
       "    }\n",
       "</style>\n",
       "<table border=\"1\" class=\"dataframe\">\n",
       "  <thead>\n",
       "    <tr style=\"text-align: right;\">\n",
       "      <th></th>\n",
       "      <th>Age</th>\n",
       "      <th>Clinical.T.Stage</th>\n",
       "      <th>Clinical.N.Stage</th>\n",
       "      <th>Clinical.M.Stage</th>\n",
       "      <th>Survival.Time</th>\n",
       "      <th>DeadStatus.Event</th>\n",
       "    </tr>\n",
       "  </thead>\n",
       "  <tbody>\n",
       "    <tr>\n",
       "      <th>Age</th>\n",
       "      <td>1.000000</td>\n",
       "      <td>0.026531</td>\n",
       "      <td>-0.096175</td>\n",
       "      <td>-0.024185</td>\n",
       "      <td>-0.040476</td>\n",
       "      <td>0.056673</td>\n",
       "    </tr>\n",
       "    <tr>\n",
       "      <th>Clinical.T.Stage</th>\n",
       "      <td>0.026531</td>\n",
       "      <td>1.000000</td>\n",
       "      <td>0.034110</td>\n",
       "      <td>0.055951</td>\n",
       "      <td>0.017221</td>\n",
       "      <td>-0.052694</td>\n",
       "    </tr>\n",
       "    <tr>\n",
       "      <th>Clinical.N.Stage</th>\n",
       "      <td>-0.096175</td>\n",
       "      <td>0.034110</td>\n",
       "      <td>1.000000</td>\n",
       "      <td>0.095097</td>\n",
       "      <td>-0.046084</td>\n",
       "      <td>-0.040022</td>\n",
       "    </tr>\n",
       "    <tr>\n",
       "      <th>Clinical.M.Stage</th>\n",
       "      <td>-0.024185</td>\n",
       "      <td>0.055951</td>\n",
       "      <td>0.095097</td>\n",
       "      <td>1.000000</td>\n",
       "      <td>-0.003276</td>\n",
       "      <td>0.037913</td>\n",
       "    </tr>\n",
       "    <tr>\n",
       "      <th>Survival.Time</th>\n",
       "      <td>-0.040476</td>\n",
       "      <td>0.017221</td>\n",
       "      <td>-0.046084</td>\n",
       "      <td>-0.003276</td>\n",
       "      <td>1.000000</td>\n",
       "      <td>-0.655487</td>\n",
       "    </tr>\n",
       "    <tr>\n",
       "      <th>DeadStatus.Event</th>\n",
       "      <td>0.056673</td>\n",
       "      <td>-0.052694</td>\n",
       "      <td>-0.040022</td>\n",
       "      <td>0.037913</td>\n",
       "      <td>-0.655487</td>\n",
       "      <td>1.000000</td>\n",
       "    </tr>\n",
       "  </tbody>\n",
       "</table>\n",
       "</div>"
      ],
      "text/plain": [
       "                       Age  Clinical.T.Stage  Clinical.N.Stage  \\\n",
       "Age               1.000000          0.026531         -0.096175   \n",
       "Clinical.T.Stage  0.026531          1.000000          0.034110   \n",
       "Clinical.N.Stage -0.096175          0.034110          1.000000   \n",
       "Clinical.M.Stage -0.024185          0.055951          0.095097   \n",
       "Survival.Time    -0.040476          0.017221         -0.046084   \n",
       "DeadStatus.Event  0.056673         -0.052694         -0.040022   \n",
       "\n",
       "                  Clinical.M.Stage  Survival.Time  DeadStatus.Event  \n",
       "Age                      -0.024185      -0.040476          0.056673  \n",
       "Clinical.T.Stage          0.055951       0.017221         -0.052694  \n",
       "Clinical.N.Stage          0.095097      -0.046084         -0.040022  \n",
       "Clinical.M.Stage          1.000000      -0.003276          0.037913  \n",
       "Survival.Time            -0.003276       1.000000         -0.655487  \n",
       "DeadStatus.Event          0.037913      -0.655487          1.000000  "
      ]
     },
     "execution_count": 141,
     "metadata": {},
     "output_type": "execute_result"
    }
   ],
   "source": [
    "#Find the correlation of each coffecients\n",
    "raw_data.corr()"
   ]
  },
  {
   "cell_type": "code",
   "execution_count": 142,
   "metadata": {
    "colab": {
     "base_uri": "https://localhost:8080/",
     "height": 1000
    },
    "executionInfo": {
     "elapsed": 9113,
     "status": "ok",
     "timestamp": 1607419642233,
     "user": {
      "displayName": "Jon Kartago Lamida",
      "photoUrl": "https://lh3.googleusercontent.com/a-/AOh14GgvXpFVDXQWCt_L0HHFykXlWBHPow8Lv6Dtuu48Wg=s64",
      "userId": "00428767085485926259"
     },
     "user_tz": -480
    },
    "id": "WyrHlDDCkzrQ",
    "outputId": "00e27357-0858-475b-ea82-4e47e3a75737"
   },
   "outputs": [
    {
     "data": {
      "text/plain": [
       "array([[<AxesSubplot:xlabel='Age', ylabel='Age'>,\n",
       "        <AxesSubplot:xlabel='Clinical.T.Stage', ylabel='Age'>,\n",
       "        <AxesSubplot:xlabel='Clinical.N.Stage', ylabel='Age'>,\n",
       "        <AxesSubplot:xlabel='Clinical.M.Stage', ylabel='Age'>,\n",
       "        <AxesSubplot:xlabel='Survival.Time', ylabel='Age'>,\n",
       "        <AxesSubplot:xlabel='DeadStatus.Event', ylabel='Age'>],\n",
       "       [<AxesSubplot:xlabel='Age', ylabel='Clinical.T.Stage'>,\n",
       "        <AxesSubplot:xlabel='Clinical.T.Stage', ylabel='Clinical.T.Stage'>,\n",
       "        <AxesSubplot:xlabel='Clinical.N.Stage', ylabel='Clinical.T.Stage'>,\n",
       "        <AxesSubplot:xlabel='Clinical.M.Stage', ylabel='Clinical.T.Stage'>,\n",
       "        <AxesSubplot:xlabel='Survival.Time', ylabel='Clinical.T.Stage'>,\n",
       "        <AxesSubplot:xlabel='DeadStatus.Event', ylabel='Clinical.T.Stage'>],\n",
       "       [<AxesSubplot:xlabel='Age', ylabel='Clinical.N.Stage'>,\n",
       "        <AxesSubplot:xlabel='Clinical.T.Stage', ylabel='Clinical.N.Stage'>,\n",
       "        <AxesSubplot:xlabel='Clinical.N.Stage', ylabel='Clinical.N.Stage'>,\n",
       "        <AxesSubplot:xlabel='Clinical.M.Stage', ylabel='Clinical.N.Stage'>,\n",
       "        <AxesSubplot:xlabel='Survival.Time', ylabel='Clinical.N.Stage'>,\n",
       "        <AxesSubplot:xlabel='DeadStatus.Event', ylabel='Clinical.N.Stage'>],\n",
       "       [<AxesSubplot:xlabel='Age', ylabel='Clinical.M.Stage'>,\n",
       "        <AxesSubplot:xlabel='Clinical.T.Stage', ylabel='Clinical.M.Stage'>,\n",
       "        <AxesSubplot:xlabel='Clinical.N.Stage', ylabel='Clinical.M.Stage'>,\n",
       "        <AxesSubplot:xlabel='Clinical.M.Stage', ylabel='Clinical.M.Stage'>,\n",
       "        <AxesSubplot:xlabel='Survival.Time', ylabel='Clinical.M.Stage'>,\n",
       "        <AxesSubplot:xlabel='DeadStatus.Event', ylabel='Clinical.M.Stage'>],\n",
       "       [<AxesSubplot:xlabel='Age', ylabel='Survival.Time'>,\n",
       "        <AxesSubplot:xlabel='Clinical.T.Stage', ylabel='Survival.Time'>,\n",
       "        <AxesSubplot:xlabel='Clinical.N.Stage', ylabel='Survival.Time'>,\n",
       "        <AxesSubplot:xlabel='Clinical.M.Stage', ylabel='Survival.Time'>,\n",
       "        <AxesSubplot:xlabel='Survival.Time', ylabel='Survival.Time'>,\n",
       "        <AxesSubplot:xlabel='DeadStatus.Event', ylabel='Survival.Time'>],\n",
       "       [<AxesSubplot:xlabel='Age', ylabel='DeadStatus.Event'>,\n",
       "        <AxesSubplot:xlabel='Clinical.T.Stage', ylabel='DeadStatus.Event'>,\n",
       "        <AxesSubplot:xlabel='Clinical.N.Stage', ylabel='DeadStatus.Event'>,\n",
       "        <AxesSubplot:xlabel='Clinical.M.Stage', ylabel='DeadStatus.Event'>,\n",
       "        <AxesSubplot:xlabel='Survival.Time', ylabel='DeadStatus.Event'>,\n",
       "        <AxesSubplot:xlabel='DeadStatus.Event', ylabel='DeadStatus.Event'>]],\n",
       "      dtype=object)"
      ]
     },
     "execution_count": 142,
     "metadata": {},
     "output_type": "execute_result"
    },
    {
     "data": {
      "image/png": "[encoded data removed]",
      "text/plain": [
       "<Figure size 2880x720 with 36 Axes>"
      ]
     },
     "metadata": {},
     "output_type": "display_data"
    }
   ],
   "source": [
    "# Correlation using pandas\n",
    "from pandas.plotting import scatter_matrix\n",
    "\n",
    "scatter_matrix(raw_data, figsize=(40, 10))"
   ]
  },
  {
   "cell_type": "markdown",
   "metadata": {
    "id": "7O7Hajrkhuh8"
   },
   "source": [
    "## Scatterplot of The Dataset"
   ]
  },
  {
   "cell_type": "code",
   "execution_count": 143,
   "metadata": {
    "colab": {
     "background_save": true,
     "base_uri": "https://localhost:8080/",
     "height": 0
    },
    "executionInfo": {
     "elapsed": 9105,
     "status": "ok",
     "timestamp": 1607419642234,
     "user": {
      "displayName": "Jon Kartago Lamida",
      "photoUrl": "https://lh3.googleusercontent.com/a-/AOh14GgvXpFVDXQWCt_L0HHFykXlWBHPow8Lv6Dtuu48Wg=s64",
      "userId": "00428767085485926259"
     },
     "user_tz": -480
    },
    "id": "fOfTP0yZhuh8"
   },
   "outputs": [
    {
     "name": "stderr",
     "output_type": "stream",
     "text": [
      "*c* argument looks like a single numeric RGB or RGBA sequence, which should be avoided as value-mapping will have precedence in case its length matches with *x* & *y*.  Please use the *color* keyword-argument or provide a 2-D array with a single row if you intend to specify the same RGB or RGBA value for all points.\n"
     ]
    },
    {
     "data": {
      "text/plain": [
       "<AxesSubplot:xlabel='Age', ylabel='Survival.Time'>"
      ]
     },
     "execution_count": 143,
     "metadata": {},
     "output_type": "execute_result"
    },
    {
     "data": {
      "image/png": "[encoded data removed]",
      "text/plain": [
       "<Figure size 432x288 with 1 Axes>"
      ]
     },
     "metadata": {},
     "output_type": "display_data"
    }
   ],
   "source": [
    "# Plot\n",
    "raw_data.plot.scatter(x='Age', y='Survival.Time', alpha=0.5)\n",
    "# Need to remove age 0"
   ]
  },
  {
   "cell_type": "markdown",
   "metadata": {
    "executionInfo": {
     "elapsed": 3526,
     "status": "ok",
     "timestamp": 1607081775831,
     "user": {
      "displayName": "Jon Kartago Lamida",
      "photoUrl": "https://lh3.googleusercontent.com/a-/AOh14GgvXpFVDXQWCt_L0HHFykXlWBHPow8Lv6Dtuu48Wg=s64",
      "userId": "00428767085485926259"
     },
     "user_tz": -480
    },
    "id": "6QERlWrohuh_",
    "outputId": "f2057f15-6f9d-4f2a-b8dc-3e2b888f6669"
   },
   "source": [
    "# Data Cleanup\n",
    "## Data V1"
   ]
  },
  {
   "cell_type": "code",
   "execution_count": 144,
   "metadata": {
    "colab": {
     "background_save": true,
     "base_uri": "https://localhost:8080/"
    },
    "executionInfo": {
     "elapsed": 9099,
     "status": "ok",
     "timestamp": 1607419642235,
     "user": {
      "displayName": "Jon Kartago Lamida",
      "photoUrl": "https://lh3.googleusercontent.com/a-/AOh14GgvXpFVDXQWCt_L0HHFykXlWBHPow8Lv6Dtuu48Wg=s64",
      "userId": "00428767085485926259"
     },
     "user_tz": -480
    },
    "id": "LObA4E-Yhuh_"
   },
   "outputs": [
    {
     "name": "stdout",
     "output_type": "stream",
     "text": [
      "There are 422 items in the given dataset\n"
     ]
    }
   ],
   "source": [
    "# make dictionary for string values\n",
    "string_val_keys = ['Overall.Stage', 'Histology', 'Gender']\n",
    "dictionary = {}\n",
    "for key in string_val_keys:\n",
    "    classes = list(raw_data[key].unique())\n",
    "    if -1 in classes:\n",
    "        classes.remove(-1)\n",
    "    dictionary[key] = classes\n",
    "\n",
    "# Seperate independent variable named as data and dependent variable name lablels\n",
    "data = []\n",
    "survival_times = []\n",
    "# deadstatus.event\n",
    "dead_status_events = []\n",
    "for i in range(len(raw_data.values)):\n",
    "    if raw_data['DeadStatus.Event'][i] == -1:\n",
    "        continue\n",
    "    data_line = []\n",
    "    for key in raw_data.keys()[1:]:\n",
    "        if raw_data[key][i] == -1:\n",
    "            data_line.append(-1)\n",
    "            continue\n",
    "        if key in string_val_keys:\n",
    "            data_line.append(dictionary[key].index(raw_data[key][i]))\n",
    "        else:\n",
    "            data_line.append(raw_data[key][i])\n",
    "    data.append(data_line[:-2])\n",
    "    # Target is the last two columns\n",
    "    survival_times.append(data_line[-2:-1][0]) # Survival.time\n",
    "    dead_status_events.append(data_line[-1]) # deadstatus.event\n",
    "print('There are %d items in the given dataset' % len(data))"
   ]
  },
  {
   "cell_type": "markdown",
   "metadata": {
    "id": "rnyQ3rRkkzrS"
   },
   "source": [
    "## Data V2"
   ]
  },
  {
   "cell_type": "code",
   "execution_count": 145,
   "metadata": {
    "colab": {
     "background_save": true,
     "base_uri": "https://localhost:8080/"
    },
    "executionInfo": {
     "elapsed": 9093,
     "status": "ok",
     "timestamp": 1607419642236,
     "user": {
      "displayName": "Jon Kartago Lamida",
      "photoUrl": "https://lh3.googleusercontent.com/a-/AOh14GgvXpFVDXQWCt_L0HHFykXlWBHPow8Lv6Dtuu48Wg=s64",
      "userId": "00428767085485926259"
     },
     "user_tz": -480
    },
    "id": "85l9f4i8kzrS"
   },
   "outputs": [
    {
     "name": "stdout",
     "output_type": "stream",
     "text": [
      "There are 379 items in the given dataset\n"
     ]
    }
   ],
   "source": [
    "stage_mapping = {\n",
    "    \"I\": 1,\n",
    "    \"II\": 2,\n",
    "    \"IIIa\": 3,\n",
    "    \"IIIb\": 4\n",
    "}\n",
    "gender_mapping = {\n",
    "    \"male\": 0,\n",
    "    \"female\": 1\n",
    "}\n",
    "histology_mapping = {\n",
    "    'large cell': 0,\n",
    "    'squamous cell carcinoma': 1,\n",
    "    'adenocarcinoma': 2,\n",
    "    'nos': 3\n",
    "}\n",
    "\n",
    "data_v2 = raw_data.copy()\n",
    "data_v2[\"Overall.Stage\"] = raw_data[[\"Overall.Stage\"]].applymap(lambda x: stage_mapping.get(x))\n",
    "data_v2[\"Gender\"] = raw_data[[\"Gender\"]].applymap(lambda x: gender_mapping.get(x))\n",
    "data_v2[\"Histology\"] = raw_data[[\"Histology\"]].applymap(lambda x: histology_mapping.get(x))\n",
    "\n",
    "data_v2 = data_v2.dropna()\n",
    "survival_times_v2 = data_v2[['Survival.Time']].values.ravel()\n",
    "dead_status_events_v2 = data_v2[['DeadStatus.Event']].values.ravel()\n",
    "# Remove PatientID and labels\n",
    "data_v2 = data_v2.iloc[:, 1:-2].values\n",
    "data_v2\n",
    "print('There are %d items in the given dataset' % len(data_v2))"
   ]
  },
  {
   "cell_type": "markdown",
   "metadata": {
    "id": "S_sA97awkzrS"
   },
   "source": [
    "## Train Test Split"
   ]
  },
  {
   "cell_type": "code",
   "execution_count": 146,
   "metadata": {
    "colab": {
     "background_save": true,
     "base_uri": "https://localhost:8080/"
    },
    "executionInfo": {
     "elapsed": 9087,
     "status": "ok",
     "timestamp": 1607419642238,
     "user": {
      "displayName": "Jon Kartago Lamida",
      "photoUrl": "https://lh3.googleusercontent.com/a-/AOh14GgvXpFVDXQWCt_L0HHFykXlWBHPow8Lv6Dtuu48Wg=s64",
      "userId": "00428767085485926259"
     },
     "user_tz": -480
    },
    "id": "P9laBZ6Zhuh_"
   },
   "outputs": [
    {
     "name": "stdout",
     "output_type": "stream",
     "text": [
      "There are 337 items in the train dataset\n",
      "There are 85 items in the test dataset\n"
     ]
    }
   ],
   "source": [
    "#Split the data nd labels set into 80% as training and 20% as testing\n",
    "from sklearn.model_selection import train_test_split\n",
    "\n",
    "def run_train_test_split(data_version = DATA_VERSION, test_size = TEST_SIZE, random_state = RANDOM_STATE):\n",
    "    if (DATA_VERSION == \"v1\"):\n",
    "        X_train, X_test, y_train_survival_times, y_test_survival_times = train_test_split(data, survival_times, test_size=test_size, random_state=random_state)\n",
    "        X_train, X_test, y_train_dead_status_events, y_test_dead_status_events = train_test_split(data, dead_status_events, test_size=test_size, random_state=random_state)\n",
    "    else:\n",
    "        X_train, X_test, y_train_survival_times, y_test_survival_times = train_test_split(data_v2, survival_times_v2, test_size=test_size, random_state=random_state)\n",
    "        X_train, X_test, y_train_dead_status_events, y_test_dead_status_events = train_test_split(data_v2, dead_status_events_v2, test_size=test_size, random_state=random_state)\n",
    "    return X_train, X_test, y_train_survival_times, y_train_dead_status_events, y_test_survival_times, y_test_dead_status_events\n",
    "\n",
    "X_train, X_test, y_train_survival_times, y_train_dead_status_events, y_test_survival_times, y_test_dead_status_events = run_train_test_split()\n",
    "print(f'There are {len(X_train)} items in the train dataset')\n",
    "print(f'There are {len(X_test)} items in the test dataset')"
   ]
  },
  {
   "cell_type": "code",
   "execution_count": 147,
   "metadata": {
    "colab": {
     "background_save": true
    },
    "executionInfo": {
     "elapsed": 9080,
     "status": "ok",
     "timestamp": 1607419642239,
     "user": {
      "displayName": "Jon Kartago Lamida",
      "photoUrl": "https://lh3.googleusercontent.com/a-/AOh14GgvXpFVDXQWCt_L0HHFykXlWBHPow8Lv6Dtuu48Wg=s64",
      "userId": "00428767085485926259"
     },
     "user_tz": -480
    },
    "id": "Cc26vT9Nhuh_"
   },
   "outputs": [],
   "source": [
    "# Feature Scaling\n",
    "from sklearn.preprocessing import StandardScaler\n",
    "sc = StandardScaler()\n",
    "X_train_sd = sc.fit_transform(X_train)\n",
    "X_test_sd = sc.transform(X_test)"
   ]
  },
  {
   "cell_type": "markdown",
   "metadata": {
    "id": "RzuyP6lGkzrS"
   },
   "source": [
    "# Predicting DeadStatus.Event Classification"
   ]
  },
  {
   "cell_type": "code",
   "execution_count": 148,
   "metadata": {
    "colab": {
     "background_save": true
    },
    "executionInfo": {
     "elapsed": 9073,
     "status": "ok",
     "timestamp": 1607419642239,
     "user": {
      "displayName": "Jon Kartago Lamida",
      "photoUrl": "https://lh3.googleusercontent.com/a-/AOh14GgvXpFVDXQWCt_L0HHFykXlWBHPow8Lv6Dtuu48Wg=s64",
      "userId": "00428767085485926259"
     },
     "user_tz": -480
    },
    "id": "ifpTwpNWkzrS"
   },
   "outputs": [],
   "source": [
    "classifications = []"
   ]
  },
  {
   "cell_type": "markdown",
   "metadata": {
    "id": "JUyXp0JOhuh_"
   },
   "source": [
    "## Logistic Regression Model"
   ]
  },
  {
   "cell_type": "code",
   "execution_count": 149,
   "metadata": {
    "colab": {
     "background_save": true,
     "base_uri": "https://localhost:8080/"
    },
    "executionInfo": {
     "elapsed": 9067,
     "status": "ok",
     "timestamp": 1607419642240,
     "user": {
      "displayName": "Jon Kartago Lamida",
      "photoUrl": "https://lh3.googleusercontent.com/a-/AOh14GgvXpFVDXQWCt_L0HHFykXlWBHPow8Lv6Dtuu48Wg=s64",
      "userId": "00428767085485926259"
     },
     "user_tz": -480
    },
    "id": "chkX0d4xhuiA"
   },
   "outputs": [
    {
     "name": "stderr",
     "output_type": "stream",
     "text": [
      "/home/lamida/mssd/handson-ml/venv/lib/python3.8/site-packages/sklearn/metrics/_classification.py:1221: UndefinedMetricWarning: Precision and F-score are ill-defined and being set to 0.0 in labels with no predicted samples. Use `zero_division` parameter to control this behavior.\n",
      "  _warn_prf(average, modifier, msg_start, len(result))\n"
     ]
    }
   ],
   "source": [
    "from sklearn.linear_model import LogisticRegression\n",
    "from sklearn.metrics import confusion_matrix,accuracy_score, classification_report\n",
    "\n",
    "\n",
    "clf = LogisticRegression(random_state = 0)\n",
    "\n",
    "clf.fit(X_train_sd, y_train_dead_status_events)\n",
    "y_pred = clf.predict(X_test_sd)\n",
    "\n",
    "cm = confusion_matrix(y_test_dead_status_events, y_pred)\n",
    "report = classification_report(y_test_dead_status_events, y_pred)\n",
    "acc = accuracy_score(y_test_dead_status_events, y_pred)*100\n",
    "\n",
    "classifications.append({\n",
    "    \"name\": clf.__class__.__name__,\n",
    "    \"cm\": cm,\n",
    "    \"acc\": acc,\n",
    "    \"report\": report\n",
    "})"
   ]
  },
  {
   "cell_type": "code",
   "execution_count": 150,
   "metadata": {
    "colab": {
     "base_uri": "https://localhost:8080/",
     "height": 465
    },
    "executionInfo": {
     "elapsed": 9063,
     "status": "ok",
     "timestamp": 1607419642243,
     "user": {
      "displayName": "Jon Kartago Lamida",
      "photoUrl": "https://lh3.googleusercontent.com/a-/AOh14GgvXpFVDXQWCt_L0HHFykXlWBHPow8Lv6Dtuu48Wg=s64",
      "userId": "00428767085485926259"
     },
     "user_tz": -480
    },
    "id": "6652TanshuiA",
    "outputId": "efce9630-dd5e-497b-e5cc-60964c8dbd1f"
   },
   "outputs": [
    {
     "data": {
      "text/plain": [
       "Text(66.5, 0.5, 'Truth')"
      ]
     },
     "execution_count": 150,
     "metadata": {},
     "output_type": "execute_result"
    },
    {
     "data": {
      "image/png": "[encoded data removed]",
      "text/plain": [
       "<Figure size 720x504 with 2 Axes>"
      ]
     },
     "metadata": {},
     "output_type": "display_data"
    }
   ],
   "source": [
    "import matplotlib.pyplot as plt  \n",
    "import numpy as np; np.random.seed(0)\n",
    "import seaborn as sns; sns.set()\n",
    "plt.figure(figsize = (10,7))\n",
    "sns.heatmap(cm, annot=True)\n",
    "plt.xlabel('Predicted')\n",
    "plt.ylabel('Truth')"
   ]
  },
  {
   "cell_type": "markdown",
   "metadata": {
    "id": "uY1IbRBghuiA"
   },
   "source": [
    "## K-NN Algorithom"
   ]
  },
  {
   "cell_type": "markdown",
   "metadata": {
    "id": "Oc8hb9D6huiA"
   },
   "source": [
    "Steps\n",
    "1.Create new data set without categorical variable and assigned name as data\n",
    "2.Create new data set Only with categorical variable and assigned name as lables\n",
    "3.Split the data set into 80% as Training and assigned name as x_train as well as 20% as Testing & Assigned name as x_test\n",
    "4.Split the labels set into 80% as Training and assigned name as y_train as well as 20 as Testing & Assigned name as y_test\n"
   ]
  },
  {
   "cell_type": "code",
   "execution_count": 151,
   "metadata": {
    "executionInfo": {
     "elapsed": 9058,
     "status": "ok",
     "timestamp": 1607419642244,
     "user": {
      "displayName": "Jon Kartago Lamida",
      "photoUrl": "https://lh3.googleusercontent.com/a-/AOh14GgvXpFVDXQWCt_L0HHFykXlWBHPow8Lv6Dtuu48Wg=s64",
      "userId": "00428767085485926259"
     },
     "user_tz": -480
    },
    "id": "KMJPnQT_huiA"
   },
   "outputs": [],
   "source": [
    "#Normalization\n",
    "from sklearn.preprocessing import MinMaxScaler\n",
    "scaler = MinMaxScaler ()\n",
    "x_train_normal = scaler.fit_transform(X_train)\n",
    "x_test_normal = scaler.fit_transform(X_test)"
   ]
  },
  {
   "cell_type": "code",
   "execution_count": 152,
   "metadata": {
    "executionInfo": {
     "elapsed": 9052,
     "status": "ok",
     "timestamp": 1607419642245,
     "user": {
      "displayName": "Jon Kartago Lamida",
      "photoUrl": "https://lh3.googleusercontent.com/a-/AOh14GgvXpFVDXQWCt_L0HHFykXlWBHPow8Lv6Dtuu48Wg=s64",
      "userId": "00428767085485926259"
     },
     "user_tz": -480
    },
    "id": "EO6P2nbkhuiA"
   },
   "outputs": [],
   "source": [
    "from sklearn import neighbors\n",
    "\n",
    "n_neighbors = 10\n",
    "weights = 'uniform'\n",
    "\n",
    "clf = neighbors.KNeighborsClassifier(n_neighbors, weights=weights)\n",
    "clf.fit(x_train_normal, y_train_dead_status_events)\n",
    "y_pred = clf.predict(x_test_normal)\n",
    "cm = confusion_matrix(y_test_dead_status_events, y_pred)\n",
    "report = classification_report(y_test_dead_status_events, y_pred)\n",
    "acc = accuracy_score(y_test_dead_status_events, y_pred)*100\n",
    "\n",
    "classifications.append({\n",
    "    \"name\": clf.__class__.__name__,\n",
    "    \"cm\": cm,\n",
    "    \"acc\": acc,\n",
    "    \"report\": report\n",
    "})"
   ]
  },
  {
   "cell_type": "code",
   "execution_count": 153,
   "metadata": {
    "colab": {
     "base_uri": "https://localhost:8080/",
     "height": 519
    },
    "executionInfo": {
     "elapsed": 10063,
     "status": "ok",
     "timestamp": 1607419643263,
     "user": {
      "displayName": "Jon Kartago Lamida",
      "photoUrl": "https://lh3.googleusercontent.com/a-/AOh14GgvXpFVDXQWCt_L0HHFykXlWBHPow8Lv6Dtuu48Wg=s64",
      "userId": "00428767085485926259"
     },
     "user_tz": -480
    },
    "id": "8jQVmGiyhuiA",
    "outputId": "72478267-5c70-4bf3-b441-34b31ce55a5f"
   },
   "outputs": [
    {
     "data": {
      "text/plain": [
       "Text(66.5, 0.5, 'Truth')"
      ]
     },
     "execution_count": 153,
     "metadata": {},
     "output_type": "execute_result"
    },
    {
     "data": {
      "image/png": "[encoded data removed]",
      "text/plain": [
       "<Figure size 720x576 with 2 Axes>"
      ]
     },
     "metadata": {},
     "output_type": "display_data"
    }
   ],
   "source": [
    "import matplotlib.pyplot as plt  \n",
    "import numpy as np; np.random.seed(0)\n",
    "import seaborn as sns; sns.set()\n",
    "plt.figure(figsize = (10,8))\n",
    "sns.heatmap(cm, annot=True)\n",
    "plt.xlabel('Predicted')\n",
    "plt.ylabel('Truth')"
   ]
  },
  {
   "cell_type": "markdown",
   "metadata": {
    "id": "0x3GEnLChuiA"
   },
   "source": [
    "## Decision Tree"
   ]
  },
  {
   "cell_type": "code",
   "execution_count": 154,
   "metadata": {
    "executionInfo": {
     "elapsed": 10058,
     "status": "ok",
     "timestamp": 1607419643265,
     "user": {
      "displayName": "Jon Kartago Lamida",
      "photoUrl": "https://lh3.googleusercontent.com/a-/AOh14GgvXpFVDXQWCt_L0HHFykXlWBHPow8Lv6Dtuu48Wg=s64",
      "userId": "00428767085485926259"
     },
     "user_tz": -480
    },
    "id": "DtAgWdcVhuiA"
   },
   "outputs": [],
   "source": [
    "from sklearn.tree import DecisionTreeClassifier\n",
    "clf = DecisionTreeClassifier()\n",
    "clf = clf.fit(X_train_sd,y_train_dead_status_events)\n",
    "clf.fit(X_train_sd, y_train_dead_status_events)\n",
    "y_pred = clf.predict(X_test_sd)\n",
    "cm = confusion_matrix(y_test_dead_status_events, y_pred)\n",
    "report = classification_report(y_test_dead_status_events, y_pred)\n",
    "acc = accuracy_score(y_test_dead_status_events, y_pred)*100\n",
    "\n",
    "classifications.append({\n",
    "    \"name\": clf.__class__.__name__,\n",
    "    \"cm\": cm,\n",
    "    \"acc\": acc,\n",
    "    \"report\": report\n",
    "})\n"
   ]
  },
  {
   "cell_type": "code",
   "execution_count": 155,
   "metadata": {
    "colab": {
     "base_uri": "https://localhost:8080/",
     "height": 465
    },
    "executionInfo": {
     "elapsed": 10050,
     "status": "ok",
     "timestamp": 1607419643266,
     "user": {
      "displayName": "Jon Kartago Lamida",
      "photoUrl": "https://lh3.googleusercontent.com/a-/AOh14GgvXpFVDXQWCt_L0HHFykXlWBHPow8Lv6Dtuu48Wg=s64",
      "userId": "00428767085485926259"
     },
     "user_tz": -480
    },
    "id": "8lG0p0zfhuiA",
    "outputId": "f04d91b4-90bd-46fb-c643-eb524cee4543"
   },
   "outputs": [
    {
     "data": {
      "text/plain": [
       "Text(66.5, 0.5, 'Truth')"
      ]
     },
     "execution_count": 155,
     "metadata": {},
     "output_type": "execute_result"
    },
    {
     "data": {
      "image/png": "[encoded data removed]",
      "text/plain": [
       "<Figure size 720x504 with 2 Axes>"
      ]
     },
     "metadata": {},
     "output_type": "display_data"
    }
   ],
   "source": [
    "import matplotlib.pyplot as plt  \n",
    "import numpy as np; np.random.seed(0)\n",
    "import seaborn as sns; sns.set()\n",
    "plt.figure(figsize = (10,7))\n",
    "sns.heatmap(cm, annot=True)\n",
    "plt.xlabel('Predicted')\n",
    "plt.ylabel('Truth')"
   ]
  },
  {
   "cell_type": "markdown",
   "metadata": {
    "id": "g3HW66dShuiB"
   },
   "source": [
    "## Naive Bayes Model\n"
   ]
  },
  {
   "cell_type": "code",
   "execution_count": 156,
   "metadata": {
    "executionInfo": {
     "elapsed": 10041,
     "status": "ok",
     "timestamp": 1607419643267,
     "user": {
      "displayName": "Jon Kartago Lamida",
      "photoUrl": "https://lh3.googleusercontent.com/a-/AOh14GgvXpFVDXQWCt_L0HHFykXlWBHPow8Lv6Dtuu48Wg=s64",
      "userId": "00428767085485926259"
     },
     "user_tz": -480
    },
    "id": "5nh6UHKqhuiB"
   },
   "outputs": [],
   "source": [
    "# Training the Naive Bayes model on the Training set\n",
    "from sklearn.naive_bayes import GaussianNB\n",
    "clf = GaussianNB()\n",
    "clf.fit(X_train_sd, y_train_dead_status_events)\n",
    "y_pred = clf.predict(X_test_sd)\n",
    "cm = confusion_matrix(y_test_dead_status_events, y_pred)\n",
    "report = classification_report(y_test_dead_status_events, y_pred)\n",
    "acc = accuracy_score(y_test_dead_status_events, y_pred)*100\n",
    "\n",
    "classifications.append({\n",
    "    \"name\": clf.__class__.__name__,\n",
    "    \"cm\": cm,\n",
    "    \"acc\": acc,\n",
    "    \"report\": report\n",
    "})\n",
    "\n",
    "\n"
   ]
  },
  {
   "cell_type": "code",
   "execution_count": 157,
   "metadata": {
    "colab": {
     "base_uri": "https://localhost:8080/",
     "height": 465
    },
    "executionInfo": {
     "elapsed": 10034,
     "status": "ok",
     "timestamp": 1607419643268,
     "user": {
      "displayName": "Jon Kartago Lamida",
      "photoUrl": "https://lh3.googleusercontent.com/a-/AOh14GgvXpFVDXQWCt_L0HHFykXlWBHPow8Lv6Dtuu48Wg=s64",
      "userId": "00428767085485926259"
     },
     "user_tz": -480
    },
    "id": "pNCD51nmhuiB",
    "outputId": "7b2109ad-1b77-4314-df23-aca15d27ffb5"
   },
   "outputs": [
    {
     "data": {
      "text/plain": [
       "Text(66.5, 0.5, 'Truth')"
      ]
     },
     "execution_count": 157,
     "metadata": {},
     "output_type": "execute_result"
    },
    {
     "data": {
      "image/png": "[encoded data removed]",
      "text/plain": [
       "<Figure size 720x504 with 2 Axes>"
      ]
     },
     "metadata": {},
     "output_type": "display_data"
    }
   ],
   "source": [
    "plt.figure(figsize = (10,7))\n",
    "sns.heatmap(cm, annot=True)\n",
    "plt.xlabel('Predicted')\n",
    "plt.ylabel('Truth')"
   ]
  },
  {
   "cell_type": "markdown",
   "metadata": {
    "id": "_nD7MBNNhuiB"
   },
   "source": [
    "## RandomForest Model"
   ]
  },
  {
   "cell_type": "code",
   "execution_count": 158,
   "metadata": {
    "executionInfo": {
     "elapsed": 10026,
     "status": "ok",
     "timestamp": 1607419643270,
     "user": {
      "displayName": "Jon Kartago Lamida",
      "photoUrl": "https://lh3.googleusercontent.com/a-/AOh14GgvXpFVDXQWCt_L0HHFykXlWBHPow8Lv6Dtuu48Wg=s64",
      "userId": "00428767085485926259"
     },
     "user_tz": -480
    },
    "id": "WYEF2LYZhuiB"
   },
   "outputs": [],
   "source": [
    "# Training the Random Forest Classification model on the Training set\n",
    "from sklearn.ensemble import RandomForestClassifier\n",
    "clf = RandomForestClassifier(n_estimators = 100, criterion = 'entropy', random_state = 0)\n",
    "clf.fit(X_train_sd, y_train_dead_status_events)\n",
    "y_pred = clf.predict(X_test_sd)\n",
    "cm = confusion_matrix(y_test_dead_status_events, y_pred)\n",
    "report = classification_report(y_test_dead_status_events, y_pred)\n",
    "acc = accuracy_score(y_test_dead_status_events, y_pred)*100\n",
    "\n",
    "classifications.append({\n",
    "    \"name\": clf.__class__.__name__,\n",
    "    \"cm\": cm,\n",
    "    \"acc\": acc,\n",
    "    \"report\": report\n",
    "})\n"
   ]
  },
  {
   "cell_type": "code",
   "execution_count": 159,
   "metadata": {
    "colab": {
     "base_uri": "https://localhost:8080/"
    },
    "executionInfo": {
     "elapsed": 11446,
     "status": "ok",
     "timestamp": 1607419644700,
     "user": {
      "displayName": "Jon Kartago Lamida",
      "photoUrl": "https://lh3.googleusercontent.com/a-/AOh14GgvXpFVDXQWCt_L0HHFykXlWBHPow8Lv6Dtuu48Wg=s64",
      "userId": "00428767085485926259"
     },
     "user_tz": -480
    },
    "id": "hReMzUvUhuiB",
    "outputId": "e4151886-04cb-46db-f5db-8040b5fb7cd0"
   },
   "outputs": [
    {
     "data": {
      "text/plain": [
       "Text(66.5, 0.5, 'Truth')"
      ]
     },
     "execution_count": 159,
     "metadata": {},
     "output_type": "execute_result"
    },
    {
     "data": {
      "image/png": "[encoded data removed]",
      "text/plain": [
       "<Figure size 720x504 with 2 Axes>"
      ]
     },
     "metadata": {},
     "output_type": "display_data"
    }
   ],
   "source": [
    "plt.figure(figsize = (10,7))\n",
    "sns.heatmap(cm, annot=True)\n",
    "plt.xlabel('Predicted')\n",
    "plt.ylabel('Truth')"
   ]
  },
  {
   "cell_type": "markdown",
   "metadata": {
    "id": "DBN-dBl9huiB"
   },
   "source": [
    "## Support Vector Machine (SVM)"
   ]
  },
  {
   "cell_type": "code",
   "execution_count": 160,
   "metadata": {
    "executionInfo": {
     "elapsed": 11437,
     "status": "ok",
     "timestamp": 1607419644701,
     "user": {
      "displayName": "Jon Kartago Lamida",
      "photoUrl": "https://lh3.googleusercontent.com/a-/AOh14GgvXpFVDXQWCt_L0HHFykXlWBHPow8Lv6Dtuu48Wg=s64",
      "userId": "00428767085485926259"
     },
     "user_tz": -480
    },
    "id": "Etv-6LIHhuiB"
   },
   "outputs": [],
   "source": [
    "# Training the SVM model on the Training set\n",
    "from sklearn.svm import SVC\n",
    "classifier = SVC(kernel = 'rbf', random_state = 0)\n",
    "clf.fit(X_train_sd, y_train_dead_status_events)\n",
    "y_pred = clf.predict(X_test_sd)\n",
    "cm = confusion_matrix(y_test_dead_status_events, y_pred)\n",
    "report = classification_report(y_test_dead_status_events, y_pred)\n",
    "acc = accuracy_score(y_test_dead_status_events, y_pred)*100\n",
    "\n",
    "classifications.append({\n",
    "    \"name\": clf.__class__.__name__,\n",
    "    \"cm\": cm,\n",
    "    \"acc\": acc,\n",
    "    \"report\": report\n",
    "})\n"
   ]
  },
  {
   "cell_type": "code",
   "execution_count": 161,
   "metadata": {
    "colab": {
     "base_uri": "https://localhost:8080/"
    },
    "executionInfo": {
     "elapsed": 11427,
     "status": "ok",
     "timestamp": 1607419644702,
     "user": {
      "displayName": "Jon Kartago Lamida",
      "photoUrl": "https://lh3.googleusercontent.com/a-/AOh14GgvXpFVDXQWCt_L0HHFykXlWBHPow8Lv6Dtuu48Wg=s64",
      "userId": "00428767085485926259"
     },
     "user_tz": -480
    },
    "id": "6XmD8VGUhuiB",
    "outputId": "ab7f5b90-3d93-48e9-d5e7-973b6e272dc7"
   },
   "outputs": [
    {
     "data": {
      "text/plain": [
       "Text(66.5, 0.5, 'Truth')"
      ]
     },
     "execution_count": 161,
     "metadata": {},
     "output_type": "execute_result"
    },
    {
     "data": {
      "image/png": "[encoded data removed]",
      "text/plain": [
       "<Figure size 720x504 with 2 Axes>"
      ]
     },
     "metadata": {},
     "output_type": "display_data"
    }
   ],
   "source": [
    "plt.figure(figsize = (10,7))\n",
    "sns.heatmap(cm, annot=True)\n",
    "plt.xlabel('Predicted')\n",
    "plt.ylabel('Truth')"
   ]
  },
  {
   "cell_type": "markdown",
   "metadata": {
    "id": "b_F3hCRdhuiB"
   },
   "source": [
    "# Compare All Models"
   ]
  },
  {
   "cell_type": "code",
   "execution_count": 162,
   "metadata": {
    "executionInfo": {
     "elapsed": 11418,
     "status": "ok",
     "timestamp": 1607419644704,
     "user": {
      "displayName": "Jon Kartago Lamida",
      "photoUrl": "https://lh3.googleusercontent.com/a-/AOh14GgvXpFVDXQWCt_L0HHFykXlWBHPow8Lv6Dtuu48Wg=s64",
      "userId": "00428767085485926259"
     },
     "user_tz": -480
    },
    "id": "onE8TJ0HhuiB"
   },
   "outputs": [],
   "source": [
    "import pandas as pd\n",
    "from sklearn.ensemble import RandomForestClassifier\n",
    "from sklearn.linear_model import LogisticRegression\n",
    "from sklearn.svm import SVC\n",
    "from sklearn.ensemble import VotingClassifier"
   ]
  },
  {
   "cell_type": "code",
   "execution_count": 163,
   "metadata": {
    "colab": {
     "base_uri": "https://localhost:8080/"
    },
    "executionInfo": {
     "elapsed": 11410,
     "status": "ok",
     "timestamp": 1607419644705,
     "user": {
      "displayName": "Jon Kartago Lamida",
      "photoUrl": "https://lh3.googleusercontent.com/a-/AOh14GgvXpFVDXQWCt_L0HHFykXlWBHPow8Lv6Dtuu48Wg=s64",
      "userId": "00428767085485926259"
     },
     "user_tz": -480
    },
    "id": "YwIBn_COhuiB",
    "outputId": "63346991-b3be-47f9-9809-9b32f8e76d8d"
   },
   "outputs": [
    {
     "data": {
      "text/plain": [
       "VotingClassifier(estimators=[('lr', LogisticRegression()),\n",
       "                             ('rf', RandomForestClassifier()), ('svc', SVC())])"
      ]
     },
     "execution_count": 163,
     "metadata": {},
     "output_type": "execute_result"
    }
   ],
   "source": [
    "#Comparing classifiers via voting\n",
    "log_clf = LogisticRegression()\n",
    "rnd_clf = RandomForestClassifier()\n",
    "svm_clf = SVC()\n",
    "voting_clf = VotingClassifier(\n",
    "estimators=[('lr', log_clf), ('rf', rnd_clf), ('svc', svm_clf)],\n",
    "voting='hard'\n",
    ")\n",
    "voting_clf.fit(X_train_sd, y_train_dead_status_events)"
   ]
  },
  {
   "cell_type": "code",
   "execution_count": 164,
   "metadata": {
    "colab": {
     "base_uri": "https://localhost:8080/"
    },
    "executionInfo": {
     "elapsed": 11401,
     "status": "ok",
     "timestamp": 1607419644706,
     "user": {
      "displayName": "Jon Kartago Lamida",
      "photoUrl": "https://lh3.googleusercontent.com/a-/AOh14GgvXpFVDXQWCt_L0HHFykXlWBHPow8Lv6Dtuu48Wg=s64",
      "userId": "00428767085485926259"
     },
     "user_tz": -480
    },
    "id": "iqsYTwZXhuiC",
    "outputId": "e7649527-af68-4602-9cab-b37c99c0b854"
   },
   "outputs": [
    {
     "name": "stdout",
     "output_type": "stream",
     "text": [
      "LogisticRegression 0.8588235294117647\n",
      "RandomForestClassifier 0.8588235294117647\n",
      "SVC 0.8588235294117647\n",
      "VotingClassifier 0.8588235294117647\n"
     ]
    }
   ],
   "source": [
    "from sklearn.metrics import accuracy_score\n",
    "for clf in (log_clf, rnd_clf, svm_clf, voting_clf):\n",
    "    clf.fit(X_train_sd, y_train_dead_status_events)\n",
    "    y_pred = clf.predict(X_test_sd)\n",
    "    print(clf.__class__.__name__, accuracy_score(y_test_dead_status_events, y_pred))"
   ]
  },
  {
   "cell_type": "markdown",
   "metadata": {
    "id": "LLM53l9zkzrV"
   },
   "source": [
    "# Predicting DeadStatus.Event Classification Summary\n"
   ]
  },
  {
   "cell_type": "code",
   "execution_count": 165,
   "metadata": {
    "colab": {
     "base_uri": "https://localhost:8080/"
    },
    "executionInfo": {
     "elapsed": 11393,
     "status": "ok",
     "timestamp": 1607419644707,
     "user": {
      "displayName": "Jon Kartago Lamida",
      "photoUrl": "https://lh3.googleusercontent.com/a-/AOh14GgvXpFVDXQWCt_L0HHFykXlWBHPow8Lv6Dtuu48Wg=s64",
      "userId": "00428767085485926259"
     },
     "user_tz": -480
    },
    "id": "maCOaARpkzrV",
    "outputId": "eba550a0-58f4-4c1c-c456-0d3ca2084039"
   },
   "outputs": [
    {
     "name": "stdout",
     "output_type": "stream",
     "text": [
      "\n",
      "    Model: LogisticRegression\n",
      "    Confusion Matrix: \n",
      "    [[ 0 12]\n",
      " [ 0 73]]\n",
      "    Accuracy: 85.88235294117646\n",
      "    Report: \n",
      "                  precision    recall  f1-score   support\n",
      "\n",
      "           0       0.00      0.00      0.00        12\n",
      "           1       0.86      1.00      0.92        73\n",
      "\n",
      "    accuracy                           0.86        85\n",
      "   macro avg       0.43      0.50      0.46        85\n",
      "weighted avg       0.74      0.86      0.79        85\n",
      "\n",
      "\n",
      "\n",
      "    Model: KNeighborsClassifier\n",
      "    Confusion Matrix: \n",
      "    [[ 0 12]\n",
      " [ 1 72]]\n",
      "    Accuracy: 84.70588235294117\n",
      "    Report: \n",
      "                  precision    recall  f1-score   support\n",
      "\n",
      "           0       0.00      0.00      0.00        12\n",
      "           1       0.86      0.99      0.92        73\n",
      "\n",
      "    accuracy                           0.85        85\n",
      "   macro avg       0.43      0.49      0.46        85\n",
      "weighted avg       0.74      0.85      0.79        85\n",
      "\n",
      "\n",
      "\n",
      "    Model: DecisionTreeClassifier\n",
      "    Confusion Matrix: \n",
      "    [[ 2 10]\n",
      " [10 63]]\n",
      "    Accuracy: 76.47058823529412\n",
      "    Report: \n",
      "                  precision    recall  f1-score   support\n",
      "\n",
      "           0       0.17      0.17      0.17        12\n",
      "           1       0.86      0.86      0.86        73\n",
      "\n",
      "    accuracy                           0.76        85\n",
      "   macro avg       0.51      0.51      0.51        85\n",
      "weighted avg       0.76      0.76      0.76        85\n",
      "\n",
      "\n",
      "\n",
      "    Model: GaussianNB\n",
      "    Confusion Matrix: \n",
      "    [[10  2]\n",
      " [71  2]]\n",
      "    Accuracy: 14.117647058823529\n",
      "    Report: \n",
      "                  precision    recall  f1-score   support\n",
      "\n",
      "           0       0.12      0.83      0.22        12\n",
      "           1       0.50      0.03      0.05        73\n",
      "\n",
      "    accuracy                           0.14        85\n",
      "   macro avg       0.31      0.43      0.13        85\n",
      "weighted avg       0.45      0.14      0.07        85\n",
      "\n",
      "\n",
      "\n",
      "    Model: RandomForestClassifier\n",
      "    Confusion Matrix: \n",
      "    [[ 1 11]\n",
      " [ 0 73]]\n",
      "    Accuracy: 87.05882352941177\n",
      "    Report: \n",
      "                  precision    recall  f1-score   support\n",
      "\n",
      "           0       1.00      0.08      0.15        12\n",
      "           1       0.87      1.00      0.93        73\n",
      "\n",
      "    accuracy                           0.87        85\n",
      "   macro avg       0.93      0.54      0.54        85\n",
      "weighted avg       0.89      0.87      0.82        85\n",
      "\n",
      "\n",
      "\n",
      "    Model: RandomForestClassifier\n",
      "    Confusion Matrix: \n",
      "    [[ 1 11]\n",
      " [ 0 73]]\n",
      "    Accuracy: 87.05882352941177\n",
      "    Report: \n",
      "                  precision    recall  f1-score   support\n",
      "\n",
      "           0       1.00      0.08      0.15        12\n",
      "           1       0.87      1.00      0.93        73\n",
      "\n",
      "    accuracy                           0.87        85\n",
      "   macro avg       0.93      0.54      0.54        85\n",
      "weighted avg       0.89      0.87      0.82        85\n",
      "\n",
      "\n"
     ]
    }
   ],
   "source": [
    "from textwrap import dedent\n",
    "\n",
    "for record in classifications:\n",
    "    print(dedent(f\"\"\"\n",
    "    Model: {record[\"name\"]}\n",
    "    Confusion Matrix: \n",
    "    {str(record[\"cm\"]).strip()}\n",
    "    Accuracy: {record[\"acc\"]}\n",
    "    Report: \n",
    "    {record[\"report\"]}\n",
    "    \"\"\"))\n",
    "    "
   ]
  },
  {
   "cell_type": "markdown",
   "metadata": {
    "executionInfo": {
     "elapsed": 6360,
     "status": "ok",
     "timestamp": 1607081778991,
     "user": {
      "displayName": "Jon Kartago Lamida",
      "photoUrl": "https://lh3.googleusercontent.com/a-/AOh14GgvXpFVDXQWCt_L0HHFykXlWBHPow8Lv6Dtuu48Wg=s64",
      "userId": "00428767085485926259"
     },
     "user_tz": -480
    },
    "id": "twHt_9yfhuiC"
   },
   "source": [
    "\n",
    "I have used Logistic Regression, KNN, Decission Tree, Random Forest and SVM for analysis the data \n",
    "\n",
    "## Accuracy of Each model\n",
    "* Accuracy of Logistic Regression =89.41176470588236\n",
    "* Accuracy of knn=87.05882352941177\n",
    "* Accuracy of Decision Tree=89.41176470588236\n",
    "* Accuracy of Naive Bayes =85.88235294117646\n",
    "* Accuracy of Random Forest=85.88235294117646\n",
    "* Accuracy Of SVM=85.88235294117646\n",
    "\n",
    "Here, Logistic Regression model Accuracy higher than other Machine learning model, so we could suggest Logistic Regression Model best for this Prediction \n",
    "\n",
    "## Advantage of Logistic Regression Model for This Analysis\n",
    "* It has good Accuracy among them Moreover#\n",
    "* It has Good sensitivity to predict which pation has deadstatus.event ==1 So, It's good model for that"
   ]
  },
  {
   "cell_type": "markdown",
   "metadata": {
    "id": "NcjzczD2kzrV"
   },
   "source": [
    "# Predicting Survival.Time"
   ]
  },
  {
   "cell_type": "code",
   "execution_count": 166,
   "metadata": {
    "executionInfo": {
     "elapsed": 11384,
     "status": "ok",
     "timestamp": 1607419644708,
     "user": {
      "displayName": "Jon Kartago Lamida",
      "photoUrl": "https://lh3.googleusercontent.com/a-/AOh14GgvXpFVDXQWCt_L0HHFykXlWBHPow8Lv6Dtuu48Wg=s64",
      "userId": "00428767085485926259"
     },
     "user_tz": -480
    },
    "id": "JOqOdI35kzrV"
   },
   "outputs": [],
   "source": [
    "from sklearn.metrics import max_error, mean_squared_error, mean_absolute_error, median_absolute_error, explained_variance_score, r2_score\n",
    "\n",
    "def regression_metrics(X_train, y_test_survival_times, y_pred):\n",
    "    #print(f\"Coefficients: {model.coef_}\")\n",
    "    return dedent(f\"\"\"\n",
    "    Max error: {max_error(y_test_survival_times, y_pred)} \n",
    "    Mean Squared Error: {mean_squared_error(y_test_survival_times, y_pred)}\n",
    "    Mean Absolute Error: {mean_absolute_error(y_test_survival_times, y_pred)}\n",
    "    Median Absolute Error: {median_absolute_error(y_test_survival_times, y_pred)}\n",
    "    Explained Variance Score: {explained_variance_score(y_test_survival_times, y_pred)}\n",
    "    Coeffecient of Determination (rw): {r2_score(y_test_survival_times, y_pred)}\"\"\")\n",
    "    #for i in range(len(y_test_survival_times)):\n",
    "    #    print(f\"features: {X_test[i]} actual: {y_test_survival_times[i]} predicted: {y_pred[i]}\")"
   ]
  },
  {
   "cell_type": "code",
   "execution_count": 167,
   "metadata": {
    "executionInfo": {
     "elapsed": 11378,
     "status": "ok",
     "timestamp": 1607419644710,
     "user": {
      "displayName": "Jon Kartago Lamida",
      "photoUrl": "https://lh3.googleusercontent.com/a-/AOh14GgvXpFVDXQWCt_L0HHFykXlWBHPow8Lv6Dtuu48Wg=s64",
      "userId": "00428767085485926259"
     },
     "user_tz": -480
    },
    "id": "d7K4FS3nkzrV"
   },
   "outputs": [],
   "source": [
    "regressions = []"
   ]
  },
  {
   "cell_type": "markdown",
   "metadata": {
    "id": "uOgf04iIkzrW"
   },
   "source": [
    "## LinearRegression"
   ]
  },
  {
   "cell_type": "code",
   "execution_count": 168,
   "metadata": {
    "executionInfo": {
     "elapsed": 11369,
     "status": "ok",
     "timestamp": 1607419644711,
     "user": {
      "displayName": "Jon Kartago Lamida",
      "photoUrl": "https://lh3.googleusercontent.com/a-/AOh14GgvXpFVDXQWCt_L0HHFykXlWBHPow8Lv6Dtuu48Wg=s64",
      "userId": "00428767085485926259"
     },
     "user_tz": -480
    },
    "id": "5KYmNcX7kzrW"
   },
   "outputs": [],
   "source": [
    "from sklearn.linear_model import LinearRegression\n",
    "model = LinearRegression()\n",
    "model.fit(X_train, y_train_survival_times)\n",
    "y_pred = model.predict(X_test)\n",
    "\n",
    "\n",
    "regressions.append({\n",
    "    \"name\": model.__class__.__name__,\n",
    "    \"metrics\": regression_metrics(X_train, y_test_survival_times, y_pred)\n",
    "})"
   ]
  },
  {
   "cell_type": "markdown",
   "metadata": {
    "id": "na7k7iYMkzrW"
   },
   "source": [
    "## RidgeRegression"
   ]
  },
  {
   "cell_type": "code",
   "execution_count": 169,
   "metadata": {
    "executionInfo": {
     "elapsed": 11362,
     "status": "ok",
     "timestamp": 1607419644712,
     "user": {
      "displayName": "Jon Kartago Lamida",
      "photoUrl": "https://lh3.googleusercontent.com/a-/AOh14GgvXpFVDXQWCt_L0HHFykXlWBHPow8Lv6Dtuu48Wg=s64",
      "userId": "00428767085485926259"
     },
     "user_tz": -480
    },
    "id": "bIwT4MJ9kzrW"
   },
   "outputs": [],
   "source": [
    "from sklearn.linear_model import Ridge\n",
    "model = Ridge(alpha=.5)\n",
    "model.fit(X_train, y_train_survival_times)\n",
    "y_pred = model.predict(X_test)\n",
    "\n",
    "regressions.append({\n",
    "    \"name\": model.__class__.__name__,\n",
    "    \"metrics\": regression_metrics(X_train, y_test_survival_times, y_pred)\n",
    "})"
   ]
  },
  {
   "cell_type": "markdown",
   "metadata": {
    "id": "-KAo0ZpxkzrW"
   },
   "source": [
    "## Lasso"
   ]
  },
  {
   "cell_type": "code",
   "execution_count": 170,
   "metadata": {
    "executionInfo": {
     "elapsed": 11356,
     "status": "ok",
     "timestamp": 1607419644713,
     "user": {
      "displayName": "Jon Kartago Lamida",
      "photoUrl": "https://lh3.googleusercontent.com/a-/AOh14GgvXpFVDXQWCt_L0HHFykXlWBHPow8Lv6Dtuu48Wg=s64",
      "userId": "00428767085485926259"
     },
     "user_tz": -480
    },
    "id": "iEbRhvHEkzrW"
   },
   "outputs": [],
   "source": [
    "from sklearn.linear_model import Lasso\n",
    "model = Lasso(alpha=.5)\n",
    "model.fit(X_train, y_train_survival_times)\n",
    "y_pred = model.predict(X_test)\n",
    "\n",
    "regressions.append({\n",
    "    \"name\": model.__class__.__name__,\n",
    "    \"metrics\": regression_metrics(X_train, y_test_survival_times, y_pred)\n",
    "})"
   ]
  },
  {
   "cell_type": "markdown",
   "metadata": {
    "id": "VWbwYRs9kzrW"
   },
   "source": [
    "## BayesianRidge"
   ]
  },
  {
   "cell_type": "code",
   "execution_count": 171,
   "metadata": {
    "executionInfo": {
     "elapsed": 11349,
     "status": "ok",
     "timestamp": 1607419644714,
     "user": {
      "displayName": "Jon Kartago Lamida",
      "photoUrl": "https://lh3.googleusercontent.com/a-/AOh14GgvXpFVDXQWCt_L0HHFykXlWBHPow8Lv6Dtuu48Wg=s64",
      "userId": "00428767085485926259"
     },
     "user_tz": -480
    },
    "id": "olvBf11-kzrW"
   },
   "outputs": [],
   "source": [
    "from sklearn.linear_model import BayesianRidge\n",
    "model = BayesianRidge()\n",
    "model.fit(X_train, y_train_survival_times)\n",
    "y_pred = model.predict(X_test)\n",
    "\n",
    "regressions.append({\n",
    "    \"name\": model.__class__.__name__,\n",
    "    \"metrics\": regression_metrics(X_train, y_test_survival_times, y_pred)\n",
    "})"
   ]
  },
  {
   "cell_type": "markdown",
   "metadata": {
    "id": "IarQIWbVkzrW"
   },
   "source": [
    "## PolynomialRegression"
   ]
  },
  {
   "cell_type": "code",
   "execution_count": 172,
   "metadata": {
    "executionInfo": {
     "elapsed": 11342,
     "status": "ok",
     "timestamp": 1607419644715,
     "user": {
      "displayName": "Jon Kartago Lamida",
      "photoUrl": "https://lh3.googleusercontent.com/a-/AOh14GgvXpFVDXQWCt_L0HHFykXlWBHPow8Lv6Dtuu48Wg=s64",
      "userId": "00428767085485926259"
     },
     "user_tz": -480
    },
    "id": "ff-v-5cxkzrW"
   },
   "outputs": [],
   "source": [
    "from sklearn.preprocessing import PolynomialFeatures\n",
    "from sklearn.linear_model import LinearRegression\n",
    "from sklearn.pipeline import Pipeline\n",
    "\n",
    "model =  Pipeline([('poly', PolynomialFeatures(degree=3)),\n",
    "                   ('linear', LinearRegression(fit_intercept=False))])\n",
    "model.fit(X_train, y_train_survival_times)\n",
    "y_pred = model.predict(X_test)\n",
    "\n",
    "regressions.append({\n",
    "    \"name\": model.__class__.__name__,\n",
    "    \"metrics\": regression_metrics(X_train, y_test_survival_times, y_pred)\n",
    "})"
   ]
  },
  {
   "cell_type": "markdown",
   "metadata": {
    "id": "XmvHpzsukzrW"
   },
   "source": [
    "## SVM Regression"
   ]
  },
  {
   "cell_type": "code",
   "execution_count": 173,
   "metadata": {
    "executionInfo": {
     "elapsed": 11334,
     "status": "ok",
     "timestamp": 1607419644717,
     "user": {
      "displayName": "Jon Kartago Lamida",
      "photoUrl": "https://lh3.googleusercontent.com/a-/AOh14GgvXpFVDXQWCt_L0HHFykXlWBHPow8Lv6Dtuu48Wg=s64",
      "userId": "00428767085485926259"
     },
     "user_tz": -480
    },
    "id": "9Mpc-kMPkzrW"
   },
   "outputs": [],
   "source": [
    "from sklearn.svm import SVR\n",
    "\n",
    "for kernel in [\"linear\", \"rbf\"]:    \n",
    "    model = SVR(kernel = kernel)\n",
    "    model.fit(X_train, y_train_survival_times)\n",
    "    y_pred = model.predict(X_test)\n",
    "    \n",
    "    regressions.append({\n",
    "        \"name\": model.__class__.__name__ + \"_\" + kernel,\n",
    "        \"metrics\": regression_metrics(X_train, y_test_survival_times, y_pred)\n",
    "    })\n"
   ]
  },
  {
   "cell_type": "markdown",
   "metadata": {
    "id": "ZKRipBBmkzrW"
   },
   "source": [
    "## KNN Regressor"
   ]
  },
  {
   "cell_type": "code",
   "execution_count": 174,
   "metadata": {
    "executionInfo": {
     "elapsed": 11327,
     "status": "ok",
     "timestamp": 1607419644718,
     "user": {
      "displayName": "Jon Kartago Lamida",
      "photoUrl": "https://lh3.googleusercontent.com/a-/AOh14GgvXpFVDXQWCt_L0HHFykXlWBHPow8Lv6Dtuu48Wg=s64",
      "userId": "00428767085485926259"
     },
     "user_tz": -480
    },
    "id": "dojKik5JkzrW"
   },
   "outputs": [],
   "source": [
    "from sklearn.neighbors import KNeighborsRegressor\n",
    "\n",
    "for weights in ['uniform', 'distance']:\n",
    "    model = KNeighborsRegressor(n_neighbors=5, weights=weights)\n",
    "    model.fit(X_train, y_train_survival_times)\n",
    "    y_pred = model.predict(X_test)\n",
    "    regressions.append({\n",
    "        \"name\": model.__class__.__name__ + \"_\" + weights ,\n",
    "        \"metrics\": regression_metrics(X_train, y_test_survival_times, y_pred)\n",
    "    })"
   ]
  },
  {
   "cell_type": "markdown",
   "metadata": {
    "id": "ZVI8P1TykzrW"
   },
   "source": [
    "## DecisionTree Regressor"
   ]
  },
  {
   "cell_type": "code",
   "execution_count": 175,
   "metadata": {
    "executionInfo": {
     "elapsed": 11319,
     "status": "ok",
     "timestamp": 1607419644719,
     "user": {
      "displayName": "Jon Kartago Lamida",
      "photoUrl": "https://lh3.googleusercontent.com/a-/AOh14GgvXpFVDXQWCt_L0HHFykXlWBHPow8Lv6Dtuu48Wg=s64",
      "userId": "00428767085485926259"
     },
     "user_tz": -480
    },
    "id": "egno3L3IkzrW"
   },
   "outputs": [],
   "source": [
    "from sklearn.tree import DecisionTreeRegressor\n",
    "model = DecisionTreeRegressor(max_depth=10)\n",
    "model.fit(X_train, y_train_survival_times)\n",
    "y_pred = model.predict(X_test)\n",
    "\n",
    "regressions.append({\n",
    "    \"name\": model.__class__.__name__,\n",
    "    \"metrics\": regression_metrics(X_train, y_test_survival_times, y_pred)\n",
    "})"
   ]
  },
  {
   "cell_type": "markdown",
   "metadata": {
    "id": "TxD6JRlgkzrW"
   },
   "source": [
    "## AdaBoostRegressor"
   ]
  },
  {
   "cell_type": "code",
   "execution_count": 176,
   "metadata": {
    "executionInfo": {
     "elapsed": 11316,
     "status": "ok",
     "timestamp": 1607419644724,
     "user": {
      "displayName": "Jon Kartago Lamida",
      "photoUrl": "https://lh3.googleusercontent.com/a-/AOh14GgvXpFVDXQWCt_L0HHFykXlWBHPow8Lv6Dtuu48Wg=s64",
      "userId": "00428767085485926259"
     },
     "user_tz": -480
    },
    "id": "f1ezOLxnkzrW"
   },
   "outputs": [],
   "source": [
    "# Training the Logistic Regression model on the Training set\n",
    "from sklearn.tree import DecisionTreeRegressor\n",
    "from sklearn.ensemble import AdaBoostRegressor\n",
    "\n",
    "rng = np.random.RandomState(1)\n",
    "model = AdaBoostRegressor(DecisionTreeRegressor(max_depth=4), n_estimators=300, random_state=rng)\n",
    "model.fit(X_train, y_train_survival_times)\n",
    "y_pred = model.predict(X_test)\n",
    "\n",
    "regressions.append({\n",
    "    \"name\": model.__class__.__name__,\n",
    "    \"metrics\": regression_metrics(X_train, y_test_survival_times, y_pred)\n",
    "})"
   ]
  },
  {
   "cell_type": "markdown",
   "metadata": {
    "id": "laY66oO_kzrW"
   },
   "source": [
    "# Predicting Survival.Time Regression Summary\n"
   ]
  },
  {
   "cell_type": "code",
   "execution_count": 177,
   "metadata": {
    "colab": {
     "base_uri": "https://localhost:8080/"
    },
    "executionInfo": {
     "elapsed": 11309,
     "status": "ok",
     "timestamp": 1607419644725,
     "user": {
      "displayName": "Jon Kartago Lamida",
      "photoUrl": "https://lh3.googleusercontent.com/a-/AOh14GgvXpFVDXQWCt_L0HHFykXlWBHPow8Lv6Dtuu48Wg=s64",
      "userId": "00428767085485926259"
     },
     "user_tz": -480
    },
    "id": "meF9XT3VkzrW",
    "outputId": "7f6ab1cc-482b-41df-86fc-7dc30d03f794"
   },
   "outputs": [
    {
     "name": "stdout",
     "output_type": "stream",
     "text": [
      "Model: LinearRegression \n",
      "Max error: 3427.1081583003315 \n",
      "Mean Squared Error: 1341690.1436409003\n",
      "Mean Absolute Error: 899.326944529352\n",
      "Median Absolute Error: 675.125946539827\n",
      "Explained Variance Score: -0.0026153377908884057\n",
      "Coeffecient of Determination (rw): -0.036715518865417796\n",
      "\n",
      "Model: Ridge \n",
      "Max error: 3427.907804460097 \n",
      "Mean Squared Error: 1341439.1070546124\n",
      "Mean Absolute Error: 899.379473737033\n",
      "Median Absolute Error: 676.5019184486546\n",
      "Explained Variance Score: -0.002469877710403301\n",
      "Coeffecient of Determination (rw): -0.03652154447718714\n",
      "\n",
      "Model: Lasso \n",
      "Max error: 3423.8772047784687 \n",
      "Mean Squared Error: 1341099.5756397997\n",
      "Mean Absolute Error: 899.4960005254245\n",
      "Median Absolute Error: 676.7601618989937\n",
      "Explained Variance Score: -0.0023145651339699924\n",
      "Coeffecient of Determination (rw): -0.03625919069263639\n",
      "\n",
      "Model: BayesianRidge \n",
      "Max error: 3503.1580684584487 \n",
      "Mean Squared Error: 1329852.8507969466\n",
      "Mean Absolute Error: 907.7693050444102\n",
      "Median Absolute Error: 692.804184099756\n",
      "Explained Variance Score: 2.030604093539168e-06\n",
      "Coeffecient of Determination (rw): -0.027568917281702188\n",
      "\n",
      "Model: Pipeline \n",
      "Max error: 5154.324642744903 \n",
      "Mean Squared Error: 1787996.4929995066\n",
      "Mean Absolute Error: 1050.6023625533464\n",
      "Median Absolute Error: 813.2285115207801\n",
      "Explained Variance Score: -0.3815731175362391\n",
      "Coeffecient of Determination (rw): -0.38157362246051774\n",
      "\n",
      "Model: SVR_linear \n",
      "Max error: 3964.668934584751 \n",
      "Mean Squared Error: 1668648.9895801372\n",
      "Mean Absolute Error: 861.6616182905445\n",
      "Median Absolute Error: 405.43564210198156\n",
      "Explained Variance Score: 0.0007279416483157997\n",
      "Coeffecient of Determination (rw): -0.28935455867806836\n",
      "\n",
      "Model: SVR_rbf \n",
      "Max error: 3918.947625984986 \n",
      "Mean Squared Error: 1654777.6824874107\n",
      "Mean Absolute Error: 862.4296004935991\n",
      "Median Absolute Error: 400.05402015591176\n",
      "Explained Variance Score: -0.0004056736020678908\n",
      "Coeffecient of Determination (rw): -0.2786362871023724\n",
      "\n",
      "Model: KNeighborsRegressor_uniform \n",
      "Max error: 4052.0 \n",
      "Mean Squared Error: 1383528.0729411766\n",
      "Mean Absolute Error: 909.8235294117645\n",
      "Median Absolute Error: 698.4\n",
      "Explained Variance Score: -0.04091309347566985\n",
      "Coeffecient of Determination (rw): -0.06904342317951517\n",
      "\n",
      "Model: KNeighborsRegressor_distance \n",
      "Max error: 4055.1753579133183 \n",
      "Mean Squared Error: 1318208.1367761125\n",
      "Mean Absolute Error: 872.766823986239\n",
      "Median Absolute Error: 705.5990275892601\n",
      "Explained Variance Score: 0.011889235089173611\n",
      "Coeffecient of Determination (rw): -0.018571120141009034\n",
      "\n",
      "Model: DecisionTreeRegressor \n",
      "Max error: 4290.0 \n",
      "Mean Squared Error: 1702182.1023051213\n",
      "Mean Absolute Error: 953.6077586726998\n",
      "Median Absolute Error: 709.8333333333333\n",
      "Explained Variance Score: -0.3060363553999381\n",
      "Coeffecient of Determination (rw): -0.31526538356012024\n",
      "\n",
      "Model: AdaBoostRegressor \n",
      "Max error: 3749.25 \n",
      "Mean Squared Error: 1474236.621904294\n",
      "Mean Absolute Error: 1032.8428715176776\n",
      "Median Absolute Error: 1022.0444444444445\n",
      "Explained Variance Score: -0.12101711798965442\n",
      "Coeffecient of Determination (rw): -0.13913334733192562\n",
      "\n"
     ]
    }
   ],
   "source": [
    "for record in regressions:\n",
    "    print(\"Model: \" + record[\"name\"], record[\"metrics\"])\n",
    "    print()"
   ]
  }
 ],
 "metadata": {
  "colab": {
   "name": "Classification Model.ipynb",
   "toc_visible": true,
   "version": ""
  },
  "kernelspec": {
   "display_name": "Python 3",
   "language": "python",
   "name": "python3"
  },
  "language_info": {
   "codemirror_mode": {
    "name": "ipython",
    "version": 3
   },
   "file_extension": ".py",
   "mimetype": "text/x-python",
   "name": "python",
   "nbconvert_exporter": "python",
   "pygments_lexer": "ipython3",
   "version": "3.8.5"
  }
 },
 "nbformat": 4,
 "nbformat_minor": 4
}
